{
 "cells": [
  {
   "cell_type": "code",
   "execution_count": 1,
   "metadata": {},
   "outputs": [],
   "source": [
    "def my_fun1(x):\n",
    "    return x**2\n"
   ]
  },
  {
   "cell_type": "code",
   "execution_count": 8,
   "metadata": {},
   "outputs": [],
   "source": [
    "def my_fun2(x):\n",
    "    return 2*x**2+3*x+1"
   ]
  },
  {
   "cell_type": "code",
   "execution_count": 7,
   "metadata": {},
   "outputs": [],
   "source": [
    "def numerical_derivative(f, x):\n",
    "    delta_x = 1e-4\n",
    "    \n",
    "    return (f(x+delta_x) -f(x-delta_x)) / (2*delta_x)"
   ]
  },
  {
   "cell_type": "code",
   "execution_count": 9,
   "metadata": {},
   "outputs": [
    {
     "name": "stdout",
     "output_type": "stream",
     "text": [
      "11.00000000000989\n"
     ]
    }
   ],
   "source": [
    "result2 = numerical_derivative(my_fun2, 2)\n",
    "print(result2)"
   ]
  },
  {
   "cell_type": "markdown",
   "metadata": {},
   "source": [
    "2x**2 + 3x+1"
   ]
  },
  {
   "cell_type": "code",
   "execution_count": 5,
   "metadata": {},
   "outputs": [
    {
     "name": "stdout",
     "output_type": "stream",
     "text": [
      "6.000000000012662\n"
     ]
    }
   ],
   "source": [
    "result = numerical_derivative (my_fun1, 3) #x에 3을 넣음음\n",
    "print(result)"
   ]
  },
  {
   "cell_type": "code",
   "execution_count": 14,
   "metadata": {},
   "outputs": [],
   "source": [
    "import numpy as np\n",
    "def numerical_derivative2(f, x):  #수치미분 debug version\n",
    "    delta_x = 1e-4\n",
    "    grad = np.zeros_like(x)\n",
    "    print('x' , x)\n",
    "    print('grad' , grad)\n",
    "    \n",
    "    it = np.nditer(x, flags=['multi_index'], op_flags=['readwrite'])\n",
    "#flags :c_index(1차원 array일 때), multi_index(2차원 이상일 때)\n",
    "#op_flags : 읽기 /쓰기 옵션설정, default:readonly\n",
    "\n",
    "    while not it.finished:\n",
    "        idx = it.multi_index\n",
    "    \n",
    "        tmp_val = x[idx]\n",
    "        x[idx] = float(tmp_val) + delta_x\n",
    "        fx1 = f(x) #f(x+delta_x)\n",
    "    \n",
    "        x[idx] = float(tmp_val) - delta_x\n",
    "        fx2 = f(x) #f(x-delta_x)\n",
    "        grad[idx] = (fx1 - fx2) / (2*delta_x)\n",
    "    \n",
    "        print('grad[idx]:' , grad[idx])\n",
    "\n",
    "        print('grad:' , grad)\n",
    "    \n",
    "        x[idx] = tmp_val\n",
    "        it.iternext()\n",
    "    \n",
    "\n",
    "    return grad"
   ]
  },
  {
   "cell_type": "code",
   "execution_count": 19,
   "metadata": {},
   "outputs": [],
   "source": [
    "def func3(input):\n",
    "    x=input[0]\n",
    "    y=input[1]\n",
    "    return (2*x + 3*x*y +np.power(y,3))"
   ]
  },
  {
   "cell_type": "code",
   "execution_count": 20,
   "metadata": {},
   "outputs": [
    {
     "name": "stdout",
     "output_type": "stream",
     "text": [
      "x [1. 2.]\n",
      "grad [0. 0.]\n",
      "grad[idx]: 7.999999999990237\n",
      "grad: [8. 0.]\n",
      "grad[idx]: 15.000000010019221\n",
      "grad: [ 8.         15.00000001]\n"
     ]
    },
    {
     "data": {
      "text/plain": [
       "array([ 8.        , 15.00000001])"
      ]
     },
     "execution_count": 20,
     "metadata": {},
     "output_type": "execute_result"
    }
   ],
   "source": [
    "numerical_derivative2(func3, np.array([1.0, 2.0]))"
   ]
  },
  {
   "cell_type": "code",
   "execution_count": 18,
   "metadata": {},
   "outputs": [
    {
     "data": {
      "text/plain": [
       "array([[1., 2.],\n",
       "       [3., 4.]])"
      ]
     },
     "execution_count": 18,
     "metadata": {},
     "output_type": "execute_result"
    }
   ],
   "source": [
    "arr1 = np.array([[1.0, 2.0], [3.0, 4.0]])\n",
    "arr1"
   ]
  },
  {
   "cell_type": "code",
   "execution_count": 22,
   "metadata": {},
   "outputs": [],
   "source": [
    "def func4(input):\n",
    "    w = input[0][0]\n",
    "    x = input[0][1]\n",
    "    y = input[1][0]\n",
    "    z = input[1][1]\n",
    "    \n",
    "    return (w*x + w*y*z +3*w +z*np.power(y,2))"
   ]
  },
  {
   "cell_type": "code",
   "execution_count": 23,
   "metadata": {},
   "outputs": [
    {
     "name": "stdout",
     "output_type": "stream",
     "text": [
      "x [[1. 2.]\n",
      " [3. 4.]]\n",
      "grad [[0. 0.]\n",
      " [0. 0.]]\n",
      "grad[idx]: 16.999999999995907\n",
      "grad: [[17.  0.]\n",
      " [ 0.  0.]]\n",
      "grad[idx]: 1.0000000000331966\n",
      "grad: [[17.  1.]\n",
      " [ 0.  0.]]\n",
      "grad[idx]: 28.000000000041325\n",
      "grad: [[17.  1.]\n",
      " [28.  0.]]\n",
      "grad[idx]: 12.00000000000756\n",
      "grad: [[17.  1.]\n",
      " [28. 12.]]\n"
     ]
    },
    {
     "data": {
      "text/plain": [
       "array([[17.,  1.],\n",
       "       [28., 12.]])"
      ]
     },
     "execution_count": 23,
     "metadata": {},
     "output_type": "execute_result"
    }
   ],
   "source": [
    "numerical_derivative2(func4, arr1)"
   ]
  }
 ],
 "metadata": {
  "kernelspec": {
   "display_name": "base",
   "language": "python",
   "name": "python3"
  },
  "language_info": {
   "codemirror_mode": {
    "name": "ipython",
    "version": 3
   },
   "file_extension": ".py",
   "mimetype": "text/x-python",
   "name": "python",
   "nbconvert_exporter": "python",
   "pygments_lexer": "ipython3",
   "version": "3.12.7"
  }
 },
 "nbformat": 4,
 "nbformat_minor": 2
}
