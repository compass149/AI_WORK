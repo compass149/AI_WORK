{
 "cells": [
  {
   "cell_type": "code",
   "execution_count": 42,
   "metadata": {},
   "outputs": [],
   "source": [
    "import numpy as np\n",
    "def AND_gate(x):\n",
    "    w1 = 0.5\n",
    "    w2 = 0.5\n",
    "    b = -0.7\n",
    "    result = x[0]*w1 + x[1]*w2 + b\n",
    "    if result <= 0:\n",
    "        return 0\n",
    "    else:\n",
    "        return 1"
   ]
  },
  {
   "cell_type": "code",
   "execution_count": 43,
   "metadata": {},
   "outputs": [
    {
     "name": "stdout",
     "output_type": "stream",
     "text": [
      "[0, 0, 0, 1]\n"
     ]
    }
   ],
   "source": [
    "input_data = np.array([[0,0],[0,1],[1,0],[1,1]])\n",
    "result = []\n",
    "for x in input_data:\n",
    "    result.append(AND_gate(x))\n",
    "print(result)"
   ]
  },
  {
   "cell_type": "code",
   "execution_count": 44,
   "metadata": {},
   "outputs": [],
   "source": [
    "def NAND_gate(x):\n",
    "    w1 = -0.5\n",
    "    w2 = -0.5\n",
    "    b = 0.7\n",
    "    result = x[0]*w1 + x[1]*w2 + b\n",
    "    if result <= 0:\n",
    "        return 0\n",
    "    else:\n",
    "        return 1"
   ]
  },
  {
   "cell_type": "code",
   "execution_count": 45,
   "metadata": {},
   "outputs": [
    {
     "name": "stdout",
     "output_type": "stream",
     "text": [
      "[1, 1, 1, 0]\n"
     ]
    }
   ],
   "source": [
    "input_data = np.array([[0,0],[0,1],[1,0],[1,1]])\n",
    "result = []\n",
    "for x in input_data:\n",
    "    result.append(NAND_gate(x))\n",
    "print(result)"
   ]
  },
  {
   "cell_type": "code",
   "execution_count": 46,
   "metadata": {},
   "outputs": [],
   "source": [
    "def OR_gate(x):\n",
    "    w1 = 0.6\n",
    "    w2 = 0.6\n",
    "    b = -0.5\n",
    "    result = x[0]*w1 + x[1]*w2 + b\n",
    "    if result <= 0:\n",
    "        return 0\n",
    "    else:\n",
    "        return 1"
   ]
  },
  {
   "cell_type": "code",
   "execution_count": 47,
   "metadata": {},
   "outputs": [
    {
     "name": "stdout",
     "output_type": "stream",
     "text": [
      "[0, 1, 1, 1]\n"
     ]
    }
   ],
   "source": [
    "input_data = np.array([[0,0],[0,1],[1,0],[1,1]])\n",
    "result = []\n",
    "for x in input_data:\n",
    "    result.append(OR_gate(x))\n",
    "print(result)"
   ]
  },
  {
   "cell_type": "code",
   "execution_count": 48,
   "metadata": {},
   "outputs": [
    {
     "name": "stdout",
     "output_type": "stream",
     "text": [
      "[0, 1, 1, 0]\n"
     ]
    }
   ],
   "source": [
    "input_data = np.array([[0,0],[0,1],[1,0],[1,1]])\n",
    "\n",
    "s1 = [] #NAND 출력\n",
    "s2 = [] #OR 출력\n",
    "new_input = [] #s1, s2의 값으로 AND를 한 입력값 저장 배열\n",
    "final_output = [] #AND 출력 리스트\n",
    "\n",
    "for i in range(len(input_data)):\n",
    "    s1=NAND_gate(input_data[i]) #NAND 출력\n",
    "    s2=OR_gate(input_data[i]) #OR 출력\n",
    "    \n",
    "    new_input.append(s1)\n",
    "    new_input.append(s2)\n",
    "    \n",
    "    #print (new_input)\n",
    "    result = AND_gate(new_input) #AND 1개 수행결과 출력\n",
    "    final_output.append(result)\n",
    "    new_input = []\n",
    "print(final_output)\n",
    "\n"
   ]
  },
  {
   "cell_type": "code",
   "execution_count": 49,
   "metadata": {},
   "outputs": [],
   "source": [
    "import torch\n",
    "import torch.nn as nn\n",
    "import torch.optim as optim\n",
    "\n",
    "X = torch.FloatTensor([[0,0],[0,1],[1,0],[1,1]])\n",
    "#Y = torch.FloatTensor([[0],[0],[0],[1]]) #and로 훈련데이터 만듦\n",
    "#Y = torch.FloatTensor([[1],[1],[1],[0]]) #nand로 훈련데이터 만듦\n",
    "Y = torch.FloatTensor([[0],[1],[1],[0]]) #xor로 훈련데이터 만듦\n",
    "\n",
    "linear = nn.Linear(2,1,bias=True) #입력 2개, 출력 1개, 편향 사용\n",
    "sigmoid = nn.Sigmoid()\n",
    "model = nn.Sequential(linear, sigmoid)\n",
    "\n",
    "criterion = torch.nn.BCELoss() #이진 분류에 사용하는 비용함수인, 크로스엔트로피 함수\n",
    "optimizer = torch.optim.SGD(model.parameters(), lr=1)"
   ]
  },
  {
   "cell_type": "code",
   "execution_count": 50,
   "metadata": {},
   "outputs": [
    {
     "name": "stdout",
     "output_type": "stream",
     "text": [
      "0 0.7556345462799072\n",
      "100 0.6931471824645996\n",
      "200 0.6931471824645996\n",
      "300 0.6931471824645996\n",
      "400 0.6931471824645996\n",
      "500 0.6931471824645996\n",
      "600 0.6931471824645996\n",
      "700 0.6931471824645996\n",
      "800 0.6931471824645996\n",
      "900 0.6931471824645996\n",
      "1000 0.6931471824645996\n",
      "1100 0.6931471824645996\n",
      "1200 0.6931471824645996\n",
      "1300 0.6931471824645996\n",
      "1400 0.6931471824645996\n",
      "1500 0.6931471824645996\n",
      "1600 0.6931471824645996\n",
      "1700 0.6931471824645996\n",
      "1800 0.6931471824645996\n",
      "1900 0.6931471824645996\n",
      "2000 0.6931471824645996\n",
      "2100 0.6931471824645996\n",
      "2200 0.6931471824645996\n",
      "2300 0.6931471824645996\n",
      "2400 0.6931471824645996\n",
      "2500 0.6931471824645996\n",
      "2600 0.6931471824645996\n",
      "2700 0.6931471824645996\n",
      "2800 0.6931471824645996\n",
      "2900 0.6931471824645996\n",
      "3000 0.6931471824645996\n",
      "3100 0.6931471824645996\n",
      "3200 0.6931471824645996\n",
      "3300 0.6931471824645996\n",
      "3400 0.6931471824645996\n",
      "3500 0.6931471824645996\n",
      "3600 0.6931471824645996\n",
      "3700 0.6931471824645996\n",
      "3800 0.6931471824645996\n",
      "3900 0.6931471824645996\n",
      "4000 0.6931471824645996\n",
      "4100 0.6931471824645996\n",
      "4200 0.6931471824645996\n",
      "4300 0.6931471824645996\n",
      "4400 0.6931471824645996\n",
      "4500 0.6931471824645996\n",
      "4600 0.6931471824645996\n",
      "4700 0.6931471824645996\n",
      "4800 0.6931471824645996\n",
      "4900 0.6931471824645996\n",
      "5000 0.6931471824645996\n",
      "5100 0.6931471824645996\n",
      "5200 0.6931471824645996\n",
      "5300 0.6931471824645996\n",
      "5400 0.6931471824645996\n",
      "5500 0.6931471824645996\n",
      "5600 0.6931471824645996\n",
      "5700 0.6931471824645996\n",
      "5800 0.6931471824645996\n",
      "5900 0.6931471824645996\n",
      "6000 0.6931471824645996\n",
      "6100 0.6931471824645996\n",
      "6200 0.6931471824645996\n",
      "6300 0.6931471824645996\n",
      "6400 0.6931471824645996\n",
      "6500 0.6931471824645996\n",
      "6600 0.6931471824645996\n",
      "6700 0.6931471824645996\n",
      "6800 0.6931471824645996\n",
      "6900 0.6931471824645996\n",
      "7000 0.6931471824645996\n",
      "7100 0.6931471824645996\n",
      "7200 0.6931471824645996\n",
      "7300 0.6931471824645996\n",
      "7400 0.6931471824645996\n",
      "7500 0.6931471824645996\n",
      "7600 0.6931471824645996\n",
      "7700 0.6931471824645996\n",
      "7800 0.6931471824645996\n",
      "7900 0.6931471824645996\n",
      "8000 0.6931471824645996\n",
      "8100 0.6931471824645996\n",
      "8200 0.6931471824645996\n",
      "8300 0.6931471824645996\n",
      "8400 0.6931471824645996\n",
      "8500 0.6931471824645996\n",
      "8600 0.6931471824645996\n",
      "8700 0.6931471824645996\n",
      "8800 0.6931471824645996\n",
      "8900 0.6931471824645996\n",
      "9000 0.6931471824645996\n",
      "9100 0.6931471824645996\n",
      "9200 0.6931471824645996\n",
      "9300 0.6931471824645996\n",
      "9400 0.6931471824645996\n",
      "9500 0.6931471824645996\n",
      "9600 0.6931471824645996\n",
      "9700 0.6931471824645996\n",
      "9800 0.6931471824645996\n",
      "9900 0.6931471824645996\n",
      "10000 0.6931471824645996\n"
     ]
    }
   ],
   "source": [
    "for step in range(10001):\n",
    "    optimizer.zero_grad()\n",
    "    hypothesis = model(X) #모델에 X를 넣어서 hypothesis 예측값을 구하는 학습 시킴\n",
    "    \n",
    "    #비용함수    \n",
    "    cost = criterion(hypothesis, Y)\n",
    "    cost.backward()\n",
    "    optimizer.step()\n",
    "    \n",
    "    if step % 100 == 0: #100번째 epoch마다 비용 출력\n",
    "        print(step, cost.item())"
   ]
  },
  {
   "cell_type": "code",
   "execution_count": 51,
   "metadata": {},
   "outputs": [
    {
     "name": "stdout",
     "output_type": "stream",
     "text": [
      "tensor([[0.],\n",
      "        [0.],\n",
      "        [0.],\n",
      "        [0.]])\n"
     ]
    }
   ],
   "source": [
    "prediction = model(X) #모델에 X를 넣어서 예측값을 구함\n",
    "print((prediction > 0.5).float()) #예측값이 0.5보다 크면 True, 작으면 False 출력"
   ]
  },
  {
   "cell_type": "markdown",
   "metadata": {},
   "source": [
    "**딥러닝 활용 XOR**"
   ]
  },
  {
   "cell_type": "code",
   "execution_count": 52,
   "metadata": {},
   "outputs": [],
   "source": [
    "#딥러닝 활용 XOR \n",
    "\n",
    "X = torch.FloatTensor([[0,0],[0,1],[1,0],[1,1]])\n",
    "Y = torch.FloatTensor([[0],[1],[1],[0]]) #xor로 훈련데이터 만듦"
   ]
  },
  {
   "cell_type": "code",
   "execution_count": 53,
   "metadata": {},
   "outputs": [],
   "source": [
    "model = nn.Sequential(\n",
    "    nn.Linear(2, 10, bias=True), #입력 2개, 출력 10개 첫 번째 은닉층\n",
    "    nn.Sigmoid(),\n",
    "    nn.Linear(10, 10, bias=True),\n",
    "    nn.Sigmoid(),\n",
    "    nn.Linear(10, 10, bias=True),\n",
    "    nn.Sigmoid(),\n",
    "    nn.Linear(10, 1, bias=True), #마지막 출력층 10개 입력 1개 출력\n",
    "    nn.Sigmoid()    \n",
    ")"
   ]
  },
  {
   "cell_type": "code",
   "execution_count": 54,
   "metadata": {},
   "outputs": [],
   "source": [
    "#비용함수와 옵티마이즈\n",
    "criterion = torch.nn.BCELoss()\n",
    "optimizer = torch.optim.SGD(model.parameters(), lr=1)\n"
   ]
  },
  {
   "cell_type": "code",
   "execution_count": 55,
   "metadata": {},
   "outputs": [
    {
     "name": "stdout",
     "output_type": "stream",
     "text": [
      "0 0.7080593109130859\n",
      "100 0.6931492686271667\n",
      "200 0.6931483149528503\n",
      "300 0.6931474208831787\n",
      "400 0.6931465864181519\n",
      "500 0.6931456327438354\n",
      "600 0.6931447982788086\n",
      "700 0.6931439638137817\n",
      "800 0.6931430101394653\n",
      "900 0.6931422352790833\n",
      "1000 0.6931413412094116\n",
      "1100 0.69314044713974\n",
      "1200 0.6931394934654236\n",
      "1300 0.6931384205818176\n",
      "1400 0.6931374073028564\n",
      "1500 0.69313645362854\n",
      "1600 0.6931354403495789\n",
      "1700 0.6931342482566833\n",
      "1800 0.6931331157684326\n",
      "1900 0.6931319236755371\n",
      "2000 0.693130612373352\n",
      "2100 0.693129301071167\n",
      "2200 0.6931278109550476\n",
      "2300 0.6931262612342834\n",
      "2400 0.6931247115135193\n",
      "2500 0.6931229829788208\n",
      "2600 0.6931209564208984\n",
      "2700 0.6931190490722656\n",
      "2800 0.6931167840957642\n",
      "2900 0.6931143999099731\n",
      "3000 0.693111777305603\n",
      "3100 0.6931090354919434\n",
      "3200 0.6931058764457703\n",
      "3300 0.6931024193763733\n",
      "3400 0.6930986642837524\n",
      "3500 0.6930943727493286\n",
      "3600 0.6930896639823914\n",
      "3700 0.6930843591690063\n",
      "3800 0.693078339099884\n",
      "3900 0.6930713653564453\n",
      "4000 0.6930636167526245\n",
      "4100 0.6930546164512634\n",
      "4200 0.693044126033783\n",
      "4300 0.693031907081604\n",
      "4400 0.6930174231529236\n",
      "4500 0.693000078201294\n",
      "4600 0.6929792165756226\n",
      "4700 0.6929536461830139\n",
      "4800 0.6929215788841248\n",
      "4900 0.692881166934967\n",
      "5000 0.6928285360336304\n",
      "5100 0.6927587389945984\n",
      "5200 0.69266277551651\n",
      "5300 0.6925256848335266\n",
      "5400 0.6923202276229858\n",
      "5500 0.6919913291931152\n",
      "5600 0.691416323184967\n",
      "5700 0.6902749538421631\n",
      "5800 0.6875131726264954\n",
      "5900 0.67807537317276\n",
      "6000 0.6236907839775085\n",
      "6100 0.4794975519180298\n",
      "6200 0.047646548599004745\n",
      "6300 0.010667286813259125\n",
      "6400 0.0054845260456204414\n",
      "6500 0.0035856401082128286\n",
      "6600 0.002627347595989704\n",
      "6700 0.002057204023003578\n",
      "6800 0.0016820912715047598\n",
      "6900 0.0014178610872477293\n",
      "7000 0.0012223318917676806\n",
      "7100 0.0010722525184974074\n",
      "7200 0.0009536157012917101\n",
      "7300 0.0008576607797294855\n",
      "7400 0.0007784863701090217\n",
      "7500 0.0007121408125385642\n",
      "7600 0.0006557943997904658\n",
      "7700 0.0006073753465898335\n",
      "7800 0.0005653524422086775\n",
      "7900 0.0005285337101668119\n",
      "8000 0.0004960751393809915\n",
      "8100 0.00046717311488464475\n",
      "8200 0.00044139311648905277\n",
      "8300 0.0004181523690931499\n",
      "8400 0.0003971498226746917\n",
      "8500 0.00037810581852681935\n",
      "8600 0.00036070728674530983\n",
      "8700 0.0003447948256507516\n",
      "8800 0.00033016802626661956\n",
      "8900 0.0003166792157571763\n",
      "9000 0.000304208806483075\n",
      "9100 0.0002926932356785983\n",
      "9200 0.00028193576144985855\n",
      "9300 0.0002719120238907635\n",
      "9400 0.00026257545687258244\n",
      "9500 0.00025383569300174713\n",
      "9600 0.00024562099133618176\n",
      "9700 0.00023790911654941738\n",
      "9800 0.00023068008886184543\n",
      "9900 0.00022382583119906485\n",
      "10000 0.0002173607936128974\n"
     ]
    }
   ],
   "source": [
    "#모델 학습\n",
    "for epoch in range(10001):\n",
    "    optimizer.zero_grad()\n",
    "    y_hat = model(X)\n",
    "    \n",
    "    cost = criterion(y_hat, Y)\n",
    "    cost.backward()\n",
    "    optimizer.step()\n",
    "    \n",
    "    if epoch % 100 == 0:\n",
    "        print(epoch, cost.item())"
   ]
  },
  {
   "cell_type": "code",
   "execution_count": 56,
   "metadata": {},
   "outputs": [
    {
     "name": "stdout",
     "output_type": "stream",
     "text": [
      "tensor([[0.],\n",
      "        [1.],\n",
      "        [1.],\n",
      "        [0.]])\n"
     ]
    }
   ],
   "source": [
    "#모델을 사용하여 값 예측\n",
    "prediction = model(X)\n",
    "print((prediction > 0.5).float())"
   ]
  },
  {
   "cell_type": "markdown",
   "metadata": {},
   "source": [
    "**하이퍼볼릭탄젠트 함수**"
   ]
  },
  {
   "cell_type": "code",
   "execution_count": 57,
   "metadata": {},
   "outputs": [],
   "source": [
    "x= np.arange(-5.0, 5.0, 0.1)\n",
    "y =np.tanh(x)\n"
   ]
  },
  {
   "cell_type": "code",
   "execution_count": 58,
   "metadata": {},
   "outputs": [],
   "source": [
    "#커널 충돌나면 하기\n",
    "\n",
    "import os\n",
    "os.environ['KMP_DUPLICATE_LIB_OK']='True'  # matplotlib.pyplot 사용 커널 충돌"
   ]
  },
  {
   "cell_type": "code",
   "execution_count": 59,
   "metadata": {},
   "outputs": [
    {
     "data": {
      "image/png": "[encoded data removed]",
      "text/plain": [
       "<Figure size 640x480 with 1 Axes>"
      ]
     },
     "metadata": {},
     "output_type": "display_data"
    }
   ],
   "source": [
    "import matplotlib.pyplot as plt\n",
    "plt.plot(x,y)\n",
    "plt.plot([0,0],[1.0,-1.0], ':')\n",
    "plt.axhline(y = 0, color='orange', linestyle='--')\n",
    "plt.title('Tanh Function')\n",
    "plt.show()"
   ]
  },
  {
   "cell_type": "markdown",
   "metadata": {},
   "source": [
    "** ReLU 함수 **"
   ]
  },
  {
   "cell_type": "code",
   "execution_count": 61,
   "metadata": {},
   "outputs": [
    {
     "data": {
      "image/png": "[encoded data removed]",
      "text/plain": [
       "<Figure size 640x480 with 1 Axes>"
      ]
     },
     "metadata": {},
     "output_type": "display_data"
    }
   ],
   "source": [
    "def relu(x):\n",
    "    return np.maximum(0,x)  #0보다 작은 값은 0으로, 0보다 큰 값은 그대로 출력\n",
    "\n",
    "x = np.arange(-5.0, 5.0, 0.1)\n",
    "y = relu(x)\n",
    "\n",
    "plt.plot(x,y)\n",
    "plt.plot([0,0],[5.0,0.0], ':')\n",
    "plt.title('Relu Function')\n",
    "plt.show()"
   ]
  },
  {
   "cell_type": "markdown",
   "metadata": {},
   "source": [
    "Leaky Relu"
   ]
  },
  {
   "cell_type": "code",
   "execution_count": 62,
   "metadata": {},
   "outputs": [
    {
     "data": {
      "image/png": "[encoded data removed]",
      "text/plain": [
       "<Figure size 640x480 with 1 Axes>"
      ]
     },
     "metadata": {},
     "output_type": "display_data"
    }
   ],
   "source": [
    "a = 0.1\n",
    "\n",
    "def leaky_relu(x):\n",
    "    return np.maximum(a*x,x)\n",
    "\n",
    "x = np.arange(-5.0, 5.0, 0.1)\n",
    "y = leaky_relu(x)\n",
    "\n",
    "plt.plot(x,y)\n",
    "plt.plot([0,0],[5.0,0.0], ':')\n",
    "plt.title('Leaky Relu Function')\n",
    "plt.show()"
   ]
  },
  {
   "cell_type": "code",
   "execution_count": null,
   "metadata": {},
   "outputs": [],
   "source": []
  }
 ],
 "metadata": {
  "kernelspec": {
   "display_name": "base",
   "language": "python",
   "name": "python3"
  },
  "language_info": {
   "codemirror_mode": {
    "name": "ipython",
    "version": 3
   },
   "file_extension": ".py",
   "mimetype": "text/x-python",
   "name": "python",
   "nbconvert_exporter": "python",
   "pygments_lexer": "ipython3",
   "version": "3.12.7"
  }
 },
 "nbformat": 4,
 "nbformat_minor": 2
}
