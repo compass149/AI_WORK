{
 "cells": [
  {
   "cell_type": "code",
   "execution_count": 15,
   "metadata": {},
   "outputs": [],
   "source": [
    "import torch\n",
    "import torch.nn as nn\n",
    "import torch.optim as optim\n",
    "import numpy as np"
   ]
  },
  {
   "cell_type": "code",
   "execution_count": 16,
   "metadata": {},
   "outputs": [
    {
     "name": "stdout",
     "output_type": "stream",
     "text": [
      "['Unsqueeze', 'inserts', 'a', 'dimension', 'of', 'size', '1', 'at', 'the', 'specified', 'dim.']\n"
     ]
    }
   ],
   "source": [
    "sentence = \"Unsqueeze inserts a dimension of size 1 at the specified dim.\".split()\n",
    "print(sentence)"
   ]
  },
  {
   "cell_type": "code",
   "execution_count": 17,
   "metadata": {},
   "outputs": [
    {
     "name": "stdout",
     "output_type": "stream",
     "text": [
      "['1', 'Unsqueeze', 'a', 'at', 'dim.', 'dimension', 'inserts', 'of', 'size', 'specified', 'the']\n"
     ]
    }
   ],
   "source": [
    "vocab = sorted(list(set(sentence))) #대문자가 소문자보다 코드번호가 작음\n",
    "print(vocab)"
   ]
  },
  {
   "cell_type": "code",
   "execution_count": 18,
   "metadata": {},
   "outputs": [
    {
     "data": {
      "text/plain": [
       "11"
      ]
     },
     "execution_count": 18,
     "metadata": {},
     "output_type": "execute_result"
    }
   ],
   "source": [
    "vocab_size=len(vocab)\n",
    "vocab_size"
   ]
  },
  {
   "cell_type": "code",
   "execution_count": 19,
   "metadata": {},
   "outputs": [
    {
     "name": "stdout",
     "output_type": "stream",
     "text": [
      "{'1': 1, 'Unsqueeze': 2, 'a': 3, 'at': 4, 'dim.': 5, 'dimension': 6, 'inserts': 7, 'of': 8, 'size': 9, 'specified': 10, 'the': 11}\n",
      "{'1': 1, 'Unsqueeze': 2, 'a': 3, 'at': 4, 'dim.': 5, 'dimension': 6, 'inserts': 7, 'of': 8, 'size': 9, 'specified': 10, 'the': 11, '<unk>': 0}\n"
     ]
    }
   ],
   "source": [
    "word_to_index = {tkn:i for i, tkn in enumerate(vocab, 1)} #vocab : word의 집합을 만들어 놓은 것\n",
    "print(word_to_index) #word가 key, index가 value\n",
    "word_to_index['<unk>'] = 0\n",
    "print(word_to_index)"
   ]
  },
  {
   "cell_type": "code",
   "execution_count": 20,
   "metadata": {},
   "outputs": [
    {
     "name": "stdout",
     "output_type": "stream",
     "text": [
      "5\n",
      "[2, 7, 3, 6, 8, 9, 1, 4, 11, 10, 5]\n"
     ]
    }
   ],
   "source": [
    "print(word_to_index['dim.'])\n",
    "encode = [word_to_index[t] for t in sentence]\n",
    "print(encode)"
   ]
  },
  {
   "cell_type": "code",
   "execution_count": 21,
   "metadata": {},
   "outputs": [],
   "source": [
    "def build_data(sentence, word_to_index):\n",
    "    encode = [word_to_index[t] for t in sentence]\n",
    "    input_seq = encode[:-1]\n",
    "    label_seq = encode[1:]\n",
    "    input_seq = torch.LongTensor(input_seq).unsqueeze(0)\n",
    "    label_seq =torch.LongTensor([label_seq])    #1차원을 2차원으로 만듦\n",
    "    print(input_seq)\n",
    "    print(label_seq)\n",
    "    return input_seq, label_seq"
   ]
  },
  {
   "cell_type": "code",
   "execution_count": 22,
   "metadata": {},
   "outputs": [
    {
     "name": "stdout",
     "output_type": "stream",
     "text": [
      "tensor([[ 2,  7,  3,  6,  8,  9,  1,  4, 11, 10]])\n",
      "tensor([[ 7,  3,  6,  8,  9,  1,  4, 11, 10,  5]])\n",
      "tensor([[ 2,  7,  3,  6,  8,  9,  1,  4, 11, 10]])\n",
      "tensor([[ 7,  3,  6,  8,  9,  1,  4, 11, 10,  5]])\n"
     ]
    }
   ],
   "source": [
    "X, Y = build_data(sentence, word_to_index)\n",
    "print(X)\n",
    "print(Y)"
   ]
  },
  {
   "cell_type": "code",
   "execution_count": 23,
   "metadata": {},
   "outputs": [],
   "source": [
    "class Net(nn.Module):\n",
    "    def __init__(self, vocab_size, input_size, hidden_size, batch_first=True):\n",
    "        super(Net, self).__init__()\n",
    "        \n",
    "        #input_size(단어의 개수)만큼 embedding 층을 만들겠다.\n",
    "        self.embedding_layer = nn.Embedding(num_embeddings=vocab_size, embedding_dim=input_size)\n",
    "        \n",
    "        self.rnn = nn.RNN(input_size, hidden_size, batch_first = batch_first)\n",
    "        self.fc = nn.Linear(hidden_size, vocab_size)\n",
    "        \n",
    "    def forward(self, x):\n",
    "        output = self.embedding_layer(x)\n",
    "        #embedding 층 : 크기 변화(배치 크기, 시퀀스 길이) => (배치 크기, 시권스 길이,임베딩 차원) - 이미지의 크기를 바꾸어 줌\n",
    "        output, hidden = self.rnn(output)\n",
    "        # RNN층 : 크기 변화(배치크기, 시퀀스 길이, 임베딩 차원) =>\n",
    "        # output:(배치크기, 시퀀스 길이, 은닉층 크기)\n",
    "        # hidden : (1, 배치크기, 은닉층 크기)\n",
    "        \n",
    "        output = self.fc(output)\n",
    "        #크기 번화 : (배치 크기, 시퀀스 길이, 단어장 크기) => (배치 크기 *시퀀스 길이, 단어장 크기)\n",
    "        \n",
    "        return output.view(-1, output.size(2))"
   ]
  },
  {
   "cell_type": "code",
   "execution_count": 24,
   "metadata": {},
   "outputs": [],
   "source": [
    "vocab_size=len(word_to_index)\n",
    "input_size = vocab_size\n",
    "hidden_size=20"
   ]
  },
  {
   "cell_type": "code",
   "execution_count": 25,
   "metadata": {},
   "outputs": [],
   "source": [
    "model =Net(vocab_size, input_size, hidden_size, batch_first=True )\n",
    "loss_func = nn.CrossEntropyLoss()\n",
    "optimizer = optim.Adam(model.parameters())"
   ]
  },
  {
   "cell_type": "code",
   "execution_count": 26,
   "metadata": {},
   "outputs": [
    {
     "name": "stdout",
     "output_type": "stream",
     "text": [
      "{1: '1', 2: 'Unsqueeze', 3: 'a', 4: 'at', 5: 'dim.', 6: 'dimension', 7: 'inserts', 8: 'of', 9: 'size', 10: 'specified', 11: 'the', 0: '<unk>'}\n"
     ]
    }
   ],
   "source": [
    "index_to_word ={v:k for k, v in word_to_index.items()}\n",
    "print(index_to_word)"
   ]
  },
  {
   "cell_type": "code",
   "execution_count": 27,
   "metadata": {},
   "outputs": [
    {
     "name": "stdout",
     "output_type": "stream",
     "text": [
      "<function <lambda> at 0x000002C165335DA0>\n"
     ]
    }
   ],
   "source": [
    "decode = lambda y:[index_to_word.get(x) for x in y]\n",
    "print(decode)"
   ]
  },
  {
   "cell_type": "code",
   "execution_count": 28,
   "metadata": {},
   "outputs": [
    {
     "name": "stdout",
     "output_type": "stream",
     "text": [
      "0 [3, 6, 10, 0, 5, 0, 0, 6, 9, 3] str: Repeat a dimension specified <unk> dim. <unk> <unk> dimension size a\n"
     ]
    },
    {
     "name": "stdout",
     "output_type": "stream",
     "text": [
      "1 [3, 6, 10, 0, 5, 0, 0, 6, 9, 3] str: Repeat a dimension specified <unk> dim. <unk> <unk> dimension size a\n",
      "2 [3, 6, 10, 0, 5, 0, 0, 6, 9, 3] str: Repeat a dimension specified <unk> dim. <unk> <unk> dimension size a\n",
      "3 [3, 6, 10, 0, 5, 0, 0, 6, 9, 3] str: Repeat a dimension specified <unk> dim. <unk> <unk> dimension size a\n",
      "4 [3, 6, 10, 10, 5, 0, 0, 6, 9, 3] str: Repeat a dimension specified specified dim. <unk> <unk> dimension size a\n",
      "5 [3, 6, 10, 10, 5, 0, 0, 6, 9, 3] str: Repeat a dimension specified specified dim. <unk> <unk> dimension size a\n",
      "6 [3, 6, 10, 10, 5, 0, 0, 6, 9, 3] str: Repeat a dimension specified specified dim. <unk> <unk> dimension size a\n",
      "7 [3, 6, 10, 10, 5, 0, 0, 6, 6, 3] str: Repeat a dimension specified specified dim. <unk> <unk> dimension dimension a\n",
      "8 [3, 6, 10, 10, 5, 0, 0, 6, 6, 3] str: Repeat a dimension specified specified dim. <unk> <unk> dimension dimension a\n",
      "9 [3, 6, 10, 10, 5, 0, 0, 6, 6, 3] str: Repeat a dimension specified specified dim. <unk> <unk> dimension dimension a\n",
      "10 [3, 6, 10, 8, 5, 0, 0, 6, 10, 3] str: Repeat a dimension specified of dim. <unk> <unk> dimension specified a\n",
      "11 [6, 6, 10, 8, 5, 0, 0, 6, 10, 3] str: Repeat dimension dimension specified of dim. <unk> <unk> dimension specified a\n",
      "12 [6, 6, 10, 8, 5, 0, 0, 6, 10, 8] str: Repeat dimension dimension specified of dim. <unk> <unk> dimension specified of\n",
      "13 [6, 6, 10, 8, 5, 0, 0, 6, 10, 8] str: Repeat dimension dimension specified of dim. <unk> <unk> dimension specified of\n",
      "14 [6, 6, 10, 8, 5, 0, 0, 6, 10, 8] str: Repeat dimension dimension specified of dim. <unk> <unk> dimension specified of\n",
      "15 [6, 6, 10, 8, 5, 0, 0, 6, 10, 8] str: Repeat dimension dimension specified of dim. <unk> <unk> dimension specified of\n",
      "16 [6, 6, 10, 8, 5, 0, 4, 6, 10, 8] str: Repeat dimension dimension specified of dim. <unk> at dimension specified of\n",
      "17 [6, 6, 10, 8, 5, 0, 4, 6, 10, 8] str: Repeat dimension dimension specified of dim. <unk> at dimension specified of\n",
      "18 [6, 6, 10, 8, 5, 0, 4, 6, 10, 8] str: Repeat dimension dimension specified of dim. <unk> at dimension specified of\n",
      "19 [6, 6, 10, 8, 5, 1, 4, 6, 10, 8] str: Repeat dimension dimension specified of dim. 1 at dimension specified of\n",
      "20 [6, 6, 10, 8, 5, 1, 4, 6, 10, 8] str: Repeat dimension dimension specified of dim. 1 at dimension specified of\n",
      "21 [6, 6, 10, 8, 5, 1, 4, 6, 10, 8] str: Repeat dimension dimension specified of dim. 1 at dimension specified of\n",
      "22 [6, 6, 10, 8, 5, 1, 4, 6, 10, 8] str: Repeat dimension dimension specified of dim. 1 at dimension specified of\n",
      "23 [6, 6, 10, 8, 5, 1, 4, 6, 10, 5] str: Repeat dimension dimension specified of dim. 1 at dimension specified dim.\n",
      "24 [6, 6, 10, 8, 5, 1, 4, 6, 10, 5] str: Repeat dimension dimension specified of dim. 1 at dimension specified dim.\n",
      "25 [6, 6, 10, 8, 5, 1, 4, 11, 10, 5] str: Repeat dimension dimension specified of dim. 1 at the specified dim.\n",
      "26 [6, 6, 10, 8, 5, 1, 4, 11, 10, 5] str: Repeat dimension dimension specified of dim. 1 at the specified dim.\n",
      "27 [6, 6, 10, 8, 5, 1, 4, 11, 10, 5] str: Repeat dimension dimension specified of dim. 1 at the specified dim.\n",
      "28 [6, 6, 10, 8, 5, 1, 4, 11, 10, 5] str: Repeat dimension dimension specified of dim. 1 at the specified dim.\n",
      "29 [6, 6, 10, 8, 5, 1, 4, 11, 10, 5] str: Repeat dimension dimension specified of dim. 1 at the specified dim.\n",
      "30 [6, 6, 10, 8, 5, 1, 4, 11, 10, 5] str: Repeat dimension dimension specified of dim. 1 at the specified dim.\n",
      "31 [7, 6, 6, 8, 5, 1, 4, 11, 10, 5] str: Repeat inserts dimension dimension of dim. 1 at the specified dim.\n",
      "32 [7, 6, 6, 8, 5, 1, 4, 11, 10, 5] str: Repeat inserts dimension dimension of dim. 1 at the specified dim.\n",
      "33 [7, 6, 6, 8, 5, 1, 4, 11, 10, 5] str: Repeat inserts dimension dimension of dim. 1 at the specified dim.\n",
      "34 [7, 6, 6, 8, 5, 1, 4, 11, 10, 5] str: Repeat inserts dimension dimension of dim. 1 at the specified dim.\n",
      "35 [7, 6, 6, 8, 5, 1, 4, 11, 10, 5] str: Repeat inserts dimension dimension of dim. 1 at the specified dim.\n",
      "36 [7, 6, 6, 8, 5, 1, 4, 11, 10, 5] str: Repeat inserts dimension dimension of dim. 1 at the specified dim.\n",
      "37 [7, 6, 6, 8, 5, 1, 4, 11, 10, 5] str: Repeat inserts dimension dimension of dim. 1 at the specified dim.\n",
      "38 [7, 6, 6, 8, 5, 1, 4, 11, 10, 5] str: Repeat inserts dimension dimension of dim. 1 at the specified dim.\n",
      "39 [7, 6, 6, 8, 5, 1, 4, 11, 10, 5] str: Repeat inserts dimension dimension of dim. 1 at the specified dim.\n",
      "40 [7, 6, 6, 8, 5, 1, 4, 11, 10, 5] str: Repeat inserts dimension dimension of dim. 1 at the specified dim.\n",
      "41 [7, 6, 6, 8, 5, 1, 4, 11, 10, 5] str: Repeat inserts dimension dimension of dim. 1 at the specified dim.\n",
      "42 [7, 6, 6, 8, 5, 1, 4, 11, 10, 5] str: Repeat inserts dimension dimension of dim. 1 at the specified dim.\n",
      "43 [7, 6, 6, 8, 5, 1, 4, 11, 10, 5] str: Repeat inserts dimension dimension of dim. 1 at the specified dim.\n",
      "44 [7, 3, 6, 8, 5, 1, 4, 11, 10, 5] str: Repeat inserts a dimension of dim. 1 at the specified dim.\n",
      "45 [7, 3, 6, 8, 5, 1, 4, 11, 10, 5] str: Repeat inserts a dimension of dim. 1 at the specified dim.\n",
      "46 [7, 3, 6, 8, 5, 1, 4, 11, 10, 5] str: Repeat inserts a dimension of dim. 1 at the specified dim.\n",
      "47 [7, 3, 6, 8, 5, 1, 4, 11, 10, 5] str: Repeat inserts a dimension of dim. 1 at the specified dim.\n",
      "48 [7, 3, 6, 8, 9, 1, 4, 11, 10, 5] str: Repeat inserts a dimension of size 1 at the specified dim.\n",
      "49 [7, 3, 6, 8, 9, 1, 4, 11, 10, 5] str: Repeat inserts a dimension of size 1 at the specified dim.\n",
      "50 [7, 3, 6, 8, 9, 1, 4, 11, 10, 5] str: Repeat inserts a dimension of size 1 at the specified dim.\n",
      "51 [7, 3, 6, 8, 9, 1, 4, 11, 10, 5] str: Repeat inserts a dimension of size 1 at the specified dim.\n",
      "52 [7, 3, 6, 8, 9, 1, 4, 11, 10, 5] str: Repeat inserts a dimension of size 1 at the specified dim.\n",
      "53 [7, 3, 6, 8, 9, 1, 4, 11, 10, 5] str: Repeat inserts a dimension of size 1 at the specified dim.\n",
      "54 [7, 3, 6, 8, 9, 1, 4, 11, 10, 5] str: Repeat inserts a dimension of size 1 at the specified dim.\n",
      "55 [7, 3, 6, 8, 9, 1, 4, 11, 10, 5] str: Repeat inserts a dimension of size 1 at the specified dim.\n",
      "56 [7, 3, 6, 8, 9, 1, 4, 11, 10, 5] str: Repeat inserts a dimension of size 1 at the specified dim.\n",
      "57 [7, 3, 6, 8, 9, 1, 4, 11, 10, 5] str: Repeat inserts a dimension of size 1 at the specified dim.\n",
      "58 [7, 3, 6, 8, 9, 1, 4, 11, 10, 5] str: Repeat inserts a dimension of size 1 at the specified dim.\n",
      "59 [7, 3, 6, 8, 9, 1, 4, 11, 10, 5] str: Repeat inserts a dimension of size 1 at the specified dim.\n",
      "60 [7, 3, 6, 8, 9, 1, 4, 11, 10, 5] str: Repeat inserts a dimension of size 1 at the specified dim.\n",
      "61 [7, 3, 6, 8, 9, 1, 4, 11, 10, 5] str: Repeat inserts a dimension of size 1 at the specified dim.\n",
      "62 [7, 3, 6, 8, 9, 1, 4, 11, 10, 5] str: Repeat inserts a dimension of size 1 at the specified dim.\n",
      "63 [7, 3, 6, 8, 9, 1, 4, 11, 10, 5] str: Repeat inserts a dimension of size 1 at the specified dim.\n",
      "64 [7, 3, 6, 8, 9, 1, 4, 11, 10, 5] str: Repeat inserts a dimension of size 1 at the specified dim.\n",
      "65 [7, 3, 6, 8, 9, 1, 4, 11, 10, 5] str: Repeat inserts a dimension of size 1 at the specified dim.\n",
      "66 [7, 3, 6, 8, 9, 1, 4, 11, 10, 5] str: Repeat inserts a dimension of size 1 at the specified dim.\n",
      "67 [7, 3, 6, 8, 9, 1, 4, 11, 10, 5] str: Repeat inserts a dimension of size 1 at the specified dim.\n",
      "68 [7, 3, 6, 8, 9, 1, 4, 11, 10, 5] str: Repeat inserts a dimension of size 1 at the specified dim.\n",
      "69 [7, 3, 6, 8, 9, 1, 4, 11, 10, 5] str: Repeat inserts a dimension of size 1 at the specified dim.\n",
      "70 [7, 3, 6, 8, 9, 1, 4, 11, 10, 5] str: Repeat inserts a dimension of size 1 at the specified dim.\n",
      "71 [7, 3, 6, 8, 9, 1, 4, 11, 10, 5] str: Repeat inserts a dimension of size 1 at the specified dim.\n",
      "72 [7, 3, 6, 8, 9, 1, 4, 11, 10, 5] str: Repeat inserts a dimension of size 1 at the specified dim.\n",
      "73 [7, 3, 6, 8, 9, 1, 4, 11, 10, 5] str: Repeat inserts a dimension of size 1 at the specified dim.\n",
      "74 [7, 3, 6, 8, 9, 1, 4, 11, 10, 5] str: Repeat inserts a dimension of size 1 at the specified dim.\n",
      "75 [7, 3, 6, 8, 9, 1, 4, 11, 10, 5] str: Repeat inserts a dimension of size 1 at the specified dim.\n",
      "76 [7, 3, 6, 8, 9, 1, 4, 11, 10, 5] str: Repeat inserts a dimension of size 1 at the specified dim.\n",
      "77 [7, 3, 6, 8, 9, 1, 4, 11, 10, 5] str: Repeat inserts a dimension of size 1 at the specified dim.\n",
      "78 [7, 3, 6, 8, 9, 1, 4, 11, 10, 5] str: Repeat inserts a dimension of size 1 at the specified dim.\n",
      "79 [7, 3, 6, 8, 9, 1, 4, 11, 10, 5] str: Repeat inserts a dimension of size 1 at the specified dim.\n",
      "80 [7, 3, 6, 8, 9, 1, 4, 11, 10, 5] str: Repeat inserts a dimension of size 1 at the specified dim.\n",
      "81 [7, 3, 6, 8, 9, 1, 4, 11, 10, 5] str: Repeat inserts a dimension of size 1 at the specified dim.\n",
      "82 [7, 3, 6, 8, 9, 1, 4, 11, 10, 5] str: Repeat inserts a dimension of size 1 at the specified dim.\n",
      "83 [7, 3, 6, 8, 9, 1, 4, 11, 10, 5] str: Repeat inserts a dimension of size 1 at the specified dim.\n",
      "84 [7, 3, 6, 8, 9, 1, 4, 11, 10, 5] str: Repeat inserts a dimension of size 1 at the specified dim.\n",
      "85 [7, 3, 6, 8, 9, 1, 4, 11, 10, 5] str: Repeat inserts a dimension of size 1 at the specified dim.\n",
      "86 [7, 3, 6, 8, 9, 1, 4, 11, 10, 5] str: Repeat inserts a dimension of size 1 at the specified dim.\n",
      "87 [7, 3, 6, 8, 9, 1, 4, 11, 10, 5] str: Repeat inserts a dimension of size 1 at the specified dim.\n",
      "88 [7, 3, 6, 8, 9, 1, 4, 11, 10, 5] str: Repeat inserts a dimension of size 1 at the specified dim.\n",
      "89 [7, 3, 6, 8, 9, 1, 4, 11, 10, 5] str: Repeat inserts a dimension of size 1 at the specified dim.\n",
      "90 [7, 3, 6, 8, 9, 1, 4, 11, 10, 5] str: Repeat inserts a dimension of size 1 at the specified dim.\n",
      "91 [7, 3, 6, 8, 9, 1, 4, 11, 10, 5] str: Repeat inserts a dimension of size 1 at the specified dim.\n",
      "92 [7, 3, 6, 8, 9, 1, 4, 11, 10, 5] str: Repeat inserts a dimension of size 1 at the specified dim.\n",
      "93 [7, 3, 6, 8, 9, 1, 4, 11, 10, 5] str: Repeat inserts a dimension of size 1 at the specified dim.\n",
      "94 [7, 3, 6, 8, 9, 1, 4, 11, 10, 5] str: Repeat inserts a dimension of size 1 at the specified dim.\n",
      "95 [7, 3, 6, 8, 9, 1, 4, 11, 10, 5] str: Repeat inserts a dimension of size 1 at the specified dim.\n",
      "96 [7, 3, 6, 8, 9, 1, 4, 11, 10, 5] str: Repeat inserts a dimension of size 1 at the specified dim.\n",
      "97 [7, 3, 6, 8, 9, 1, 4, 11, 10, 5] str: Repeat inserts a dimension of size 1 at the specified dim.\n",
      "98 [7, 3, 6, 8, 9, 1, 4, 11, 10, 5] str: Repeat inserts a dimension of size 1 at the specified dim.\n",
      "99 [7, 3, 6, 8, 9, 1, 4, 11, 10, 5] str: Repeat inserts a dimension of size 1 at the specified dim.\n",
      "100 [7, 3, 6, 8, 9, 1, 4, 11, 10, 5] str: Repeat inserts a dimension of size 1 at the specified dim.\n",
      "101 [7, 3, 6, 8, 9, 1, 4, 11, 10, 5] str: Repeat inserts a dimension of size 1 at the specified dim.\n",
      "102 [7, 3, 6, 8, 9, 1, 4, 11, 10, 5] str: Repeat inserts a dimension of size 1 at the specified dim.\n",
      "103 [7, 3, 6, 8, 9, 1, 4, 11, 10, 5] str: Repeat inserts a dimension of size 1 at the specified dim.\n",
      "104 [7, 3, 6, 8, 9, 1, 4, 11, 10, 5] str: Repeat inserts a dimension of size 1 at the specified dim.\n",
      "105 [7, 3, 6, 8, 9, 1, 4, 11, 10, 5] str: Repeat inserts a dimension of size 1 at the specified dim.\n",
      "106 [7, 3, 6, 8, 9, 1, 4, 11, 10, 5] str: Repeat inserts a dimension of size 1 at the specified dim.\n",
      "107 [7, 3, 6, 8, 9, 1, 4, 11, 10, 5] str: Repeat inserts a dimension of size 1 at the specified dim.\n",
      "108 [7, 3, 6, 8, 9, 1, 4, 11, 10, 5] str: Repeat inserts a dimension of size 1 at the specified dim.\n",
      "109 [7, 3, 6, 8, 9, 1, 4, 11, 10, 5] str: Repeat inserts a dimension of size 1 at the specified dim.\n",
      "110 [7, 3, 6, 8, 9, 1, 4, 11, 10, 5] str: Repeat inserts a dimension of size 1 at the specified dim.\n",
      "111 [7, 3, 6, 8, 9, 1, 4, 11, 10, 5] str: Repeat inserts a dimension of size 1 at the specified dim.\n",
      "112 [7, 3, 6, 8, 9, 1, 4, 11, 10, 5] str: Repeat inserts a dimension of size 1 at the specified dim.\n",
      "113 [7, 3, 6, 8, 9, 1, 4, 11, 10, 5] str: Repeat inserts a dimension of size 1 at the specified dim.\n",
      "114 [7, 3, 6, 8, 9, 1, 4, 11, 10, 5] str: Repeat inserts a dimension of size 1 at the specified dim.\n",
      "115 [7, 3, 6, 8, 9, 1, 4, 11, 10, 5] str: Repeat inserts a dimension of size 1 at the specified dim.\n",
      "116 [7, 3, 6, 8, 9, 1, 4, 11, 10, 5] str: Repeat inserts a dimension of size 1 at the specified dim.\n",
      "117 [7, 3, 6, 8, 9, 1, 4, 11, 10, 5] str: Repeat inserts a dimension of size 1 at the specified dim.\n",
      "118 [7, 3, 6, 8, 9, 1, 4, 11, 10, 5] str: Repeat inserts a dimension of size 1 at the specified dim.\n",
      "119 [7, 3, 6, 8, 9, 1, 4, 11, 10, 5] str: Repeat inserts a dimension of size 1 at the specified dim.\n",
      "120 [7, 3, 6, 8, 9, 1, 4, 11, 10, 5] str: Repeat inserts a dimension of size 1 at the specified dim.\n",
      "121 [7, 3, 6, 8, 9, 1, 4, 11, 10, 5] str: Repeat inserts a dimension of size 1 at the specified dim.\n",
      "122 [7, 3, 6, 8, 9, 1, 4, 11, 10, 5] str: Repeat inserts a dimension of size 1 at the specified dim.\n",
      "123 [7, 3, 6, 8, 9, 1, 4, 11, 10, 5] str: Repeat inserts a dimension of size 1 at the specified dim.\n",
      "124 [7, 3, 6, 8, 9, 1, 4, 11, 10, 5] str: Repeat inserts a dimension of size 1 at the specified dim.\n",
      "125 [7, 3, 6, 8, 9, 1, 4, 11, 10, 5] str: Repeat inserts a dimension of size 1 at the specified dim.\n",
      "126 [7, 3, 6, 8, 9, 1, 4, 11, 10, 5] str: Repeat inserts a dimension of size 1 at the specified dim.\n",
      "127 [7, 3, 6, 8, 9, 1, 4, 11, 10, 5] str: Repeat inserts a dimension of size 1 at the specified dim.\n",
      "128 [7, 3, 6, 8, 9, 1, 4, 11, 10, 5] str: Repeat inserts a dimension of size 1 at the specified dim.\n",
      "129 [7, 3, 6, 8, 9, 1, 4, 11, 10, 5] str: Repeat inserts a dimension of size 1 at the specified dim.\n",
      "130 [7, 3, 6, 8, 9, 1, 4, 11, 10, 5] str: Repeat inserts a dimension of size 1 at the specified dim.\n",
      "131 [7, 3, 6, 8, 9, 1, 4, 11, 10, 5] str: Repeat inserts a dimension of size 1 at the specified dim.\n",
      "132 [7, 3, 6, 8, 9, 1, 4, 11, 10, 5] str: Repeat inserts a dimension of size 1 at the specified dim.\n",
      "133 [7, 3, 6, 8, 9, 1, 4, 11, 10, 5] str: Repeat inserts a dimension of size 1 at the specified dim.\n",
      "134 [7, 3, 6, 8, 9, 1, 4, 11, 10, 5] str: Repeat inserts a dimension of size 1 at the specified dim.\n",
      "135 [7, 3, 6, 8, 9, 1, 4, 11, 10, 5] str: Repeat inserts a dimension of size 1 at the specified dim.\n",
      "136 [7, 3, 6, 8, 9, 1, 4, 11, 10, 5] str: Repeat inserts a dimension of size 1 at the specified dim.\n",
      "137 [7, 3, 6, 8, 9, 1, 4, 11, 10, 5] str: Repeat inserts a dimension of size 1 at the specified dim.\n",
      "138 [7, 3, 6, 8, 9, 1, 4, 11, 10, 5] str: Repeat inserts a dimension of size 1 at the specified dim.\n",
      "139 [7, 3, 6, 8, 9, 1, 4, 11, 10, 5] str: Repeat inserts a dimension of size 1 at the specified dim.\n",
      "140 [7, 3, 6, 8, 9, 1, 4, 11, 10, 5] str: Repeat inserts a dimension of size 1 at the specified dim.\n",
      "141 [7, 3, 6, 8, 9, 1, 4, 11, 10, 5] str: Repeat inserts a dimension of size 1 at the specified dim.\n",
      "142 [7, 3, 6, 8, 9, 1, 4, 11, 10, 5] str: Repeat inserts a dimension of size 1 at the specified dim.\n",
      "143 [7, 3, 6, 8, 9, 1, 4, 11, 10, 5] str: Repeat inserts a dimension of size 1 at the specified dim.\n",
      "144 [7, 3, 6, 8, 9, 1, 4, 11, 10, 5] str: Repeat inserts a dimension of size 1 at the specified dim.\n",
      "145 [7, 3, 6, 8, 9, 1, 4, 11, 10, 5] str: Repeat inserts a dimension of size 1 at the specified dim.\n",
      "146 [7, 3, 6, 8, 9, 1, 4, 11, 10, 5] str: Repeat inserts a dimension of size 1 at the specified dim.\n",
      "147 [7, 3, 6, 8, 9, 1, 4, 11, 10, 5] str: Repeat inserts a dimension of size 1 at the specified dim.\n",
      "148 [7, 3, 6, 8, 9, 1, 4, 11, 10, 5] str: Repeat inserts a dimension of size 1 at the specified dim.\n",
      "149 [7, 3, 6, 8, 9, 1, 4, 11, 10, 5] str: Repeat inserts a dimension of size 1 at the specified dim.\n",
      "150 [7, 3, 6, 8, 9, 1, 4, 11, 10, 5] str: Repeat inserts a dimension of size 1 at the specified dim.\n",
      "151 [7, 3, 6, 8, 9, 1, 4, 11, 10, 5] str: Repeat inserts a dimension of size 1 at the specified dim.\n",
      "152 [7, 3, 6, 8, 9, 1, 4, 11, 10, 5] str: Repeat inserts a dimension of size 1 at the specified dim.\n",
      "153 [7, 3, 6, 8, 9, 1, 4, 11, 10, 5] str: Repeat inserts a dimension of size 1 at the specified dim.\n",
      "154 [7, 3, 6, 8, 9, 1, 4, 11, 10, 5] str: Repeat inserts a dimension of size 1 at the specified dim.\n",
      "155 [7, 3, 6, 8, 9, 1, 4, 11, 10, 5] str: Repeat inserts a dimension of size 1 at the specified dim.\n",
      "156 [7, 3, 6, 8, 9, 1, 4, 11, 10, 5] str: Repeat inserts a dimension of size 1 at the specified dim.\n",
      "157 [7, 3, 6, 8, 9, 1, 4, 11, 10, 5] str: Repeat inserts a dimension of size 1 at the specified dim.\n",
      "158 [7, 3, 6, 8, 9, 1, 4, 11, 10, 5] str: Repeat inserts a dimension of size 1 at the specified dim.\n",
      "159 [7, 3, 6, 8, 9, 1, 4, 11, 10, 5] str: Repeat inserts a dimension of size 1 at the specified dim.\n",
      "160 [7, 3, 6, 8, 9, 1, 4, 11, 10, 5] str: Repeat inserts a dimension of size 1 at the specified dim.\n",
      "161 [7, 3, 6, 8, 9, 1, 4, 11, 10, 5] str: Repeat inserts a dimension of size 1 at the specified dim.\n",
      "162 [7, 3, 6, 8, 9, 1, 4, 11, 10, 5] str: Repeat inserts a dimension of size 1 at the specified dim.\n",
      "163 [7, 3, 6, 8, 9, 1, 4, 11, 10, 5] str: Repeat inserts a dimension of size 1 at the specified dim.\n",
      "164 [7, 3, 6, 8, 9, 1, 4, 11, 10, 5] str: Repeat inserts a dimension of size 1 at the specified dim.\n",
      "165 [7, 3, 6, 8, 9, 1, 4, 11, 10, 5] str: Repeat inserts a dimension of size 1 at the specified dim.\n",
      "166 [7, 3, 6, 8, 9, 1, 4, 11, 10, 5] str: Repeat inserts a dimension of size 1 at the specified dim.\n",
      "167 [7, 3, 6, 8, 9, 1, 4, 11, 10, 5] str: Repeat inserts a dimension of size 1 at the specified dim.\n",
      "168 [7, 3, 6, 8, 9, 1, 4, 11, 10, 5] str: Repeat inserts a dimension of size 1 at the specified dim.\n",
      "169 [7, 3, 6, 8, 9, 1, 4, 11, 10, 5] str: Repeat inserts a dimension of size 1 at the specified dim.\n",
      "170 [7, 3, 6, 8, 9, 1, 4, 11, 10, 5] str: Repeat inserts a dimension of size 1 at the specified dim.\n",
      "171 [7, 3, 6, 8, 9, 1, 4, 11, 10, 5] str: Repeat inserts a dimension of size 1 at the specified dim.\n",
      "172 [7, 3, 6, 8, 9, 1, 4, 11, 10, 5] str: Repeat inserts a dimension of size 1 at the specified dim.\n",
      "173 [7, 3, 6, 8, 9, 1, 4, 11, 10, 5] str: Repeat inserts a dimension of size 1 at the specified dim.\n",
      "174 [7, 3, 6, 8, 9, 1, 4, 11, 10, 5] str: Repeat inserts a dimension of size 1 at the specified dim.\n",
      "175 [7, 3, 6, 8, 9, 1, 4, 11, 10, 5] str: Repeat inserts a dimension of size 1 at the specified dim.\n",
      "176 [7, 3, 6, 8, 9, 1, 4, 11, 10, 5] str: Repeat inserts a dimension of size 1 at the specified dim.\n",
      "177 [7, 3, 6, 8, 9, 1, 4, 11, 10, 5] str: Repeat inserts a dimension of size 1 at the specified dim.\n",
      "178 [7, 3, 6, 8, 9, 1, 4, 11, 10, 5] str: Repeat inserts a dimension of size 1 at the specified dim.\n",
      "179 [7, 3, 6, 8, 9, 1, 4, 11, 10, 5] str: Repeat inserts a dimension of size 1 at the specified dim.\n",
      "180 [7, 3, 6, 8, 9, 1, 4, 11, 10, 5] str: Repeat inserts a dimension of size 1 at the specified dim.\n",
      "181 [7, 3, 6, 8, 9, 1, 4, 11, 10, 5] str: Repeat inserts a dimension of size 1 at the specified dim.\n",
      "182 [7, 3, 6, 8, 9, 1, 4, 11, 10, 5] str: Repeat inserts a dimension of size 1 at the specified dim.\n",
      "183 [7, 3, 6, 8, 9, 1, 4, 11, 10, 5] str: Repeat inserts a dimension of size 1 at the specified dim.\n",
      "184 [7, 3, 6, 8, 9, 1, 4, 11, 10, 5] str: Repeat inserts a dimension of size 1 at the specified dim.\n",
      "185 [7, 3, 6, 8, 9, 1, 4, 11, 10, 5] str: Repeat inserts a dimension of size 1 at the specified dim.\n",
      "186 [7, 3, 6, 8, 9, 1, 4, 11, 10, 5] str: Repeat inserts a dimension of size 1 at the specified dim.\n",
      "187 [7, 3, 6, 8, 9, 1, 4, 11, 10, 5] str: Repeat inserts a dimension of size 1 at the specified dim.\n",
      "188 [7, 3, 6, 8, 9, 1, 4, 11, 10, 5] str: Repeat inserts a dimension of size 1 at the specified dim.\n",
      "189 [7, 3, 6, 8, 9, 1, 4, 11, 10, 5] str: Repeat inserts a dimension of size 1 at the specified dim.\n",
      "190 [7, 3, 6, 8, 9, 1, 4, 11, 10, 5] str: Repeat inserts a dimension of size 1 at the specified dim.\n",
      "191 [7, 3, 6, 8, 9, 1, 4, 11, 10, 5] str: Repeat inserts a dimension of size 1 at the specified dim.\n",
      "192 [7, 3, 6, 8, 9, 1, 4, 11, 10, 5] str: Repeat inserts a dimension of size 1 at the specified dim.\n",
      "193 [7, 3, 6, 8, 9, 1, 4, 11, 10, 5] str: Repeat inserts a dimension of size 1 at the specified dim.\n",
      "194 [7, 3, 6, 8, 9, 1, 4, 11, 10, 5] str: Repeat inserts a dimension of size 1 at the specified dim.\n",
      "195 [7, 3, 6, 8, 9, 1, 4, 11, 10, 5] str: Repeat inserts a dimension of size 1 at the specified dim.\n",
      "196 [7, 3, 6, 8, 9, 1, 4, 11, 10, 5] str: Repeat inserts a dimension of size 1 at the specified dim.\n",
      "197 [7, 3, 6, 8, 9, 1, 4, 11, 10, 5] str: Repeat inserts a dimension of size 1 at the specified dim.\n",
      "198 [7, 3, 6, 8, 9, 1, 4, 11, 10, 5] str: Repeat inserts a dimension of size 1 at the specified dim.\n",
      "199 [7, 3, 6, 8, 9, 1, 4, 11, 10, 5] str: Repeat inserts a dimension of size 1 at the specified dim.\n"
     ]
    }
   ],
   "source": [
    "for step in range(200):\n",
    "    optimizer.zero_grad()\n",
    "    output = model(X)\n",
    "    loss = loss_func(output, Y.view(-1))\n",
    "    loss.backward()\n",
    "    optimizer.step()\n",
    "    \n",
    "    pred = output.softmax(-1).argmax(-1).tolist()\n",
    "    print(step, pred, 'str:', ' '.join(['Repeat']+decode(pred)))\n",
    "    "
   ]
  }
 ],
 "metadata": {
  "kernelspec": {
   "display_name": "base",
   "language": "python",
   "name": "python3"
  },
  "language_info": {
   "codemirror_mode": {
    "name": "ipython",
    "version": 3
   },
   "file_extension": ".py",
   "mimetype": "text/x-python",
   "name": "python",
   "nbconvert_exporter": "python",
   "pygments_lexer": "ipython3",
   "version": "3.12.7"
  }
 },
 "nbformat": 4,
 "nbformat_minor": 2
}
