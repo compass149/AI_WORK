{
 "cells": [
  {
   "cell_type": "code",
   "execution_count": 23,
   "metadata": {},
   "outputs": [],
   "source": [
    "import torch\n",
    "import torch.nn as nn\n",
    "import torch.optim as optim\n",
    "import numpy as np"
   ]
  },
  {
   "cell_type": "code",
   "execution_count": 24,
   "metadata": {},
   "outputs": [
    {
     "name": "stdout",
     "output_type": "stream",
     "text": [
      "['Unsqueeze', 'inserts', 'a', 'dimension', 'of', 'size', '1', 'at', 'the', 'specified', 'dim.']\n"
     ]
    }
   ],
   "source": [
    "sentence = \"Unsqueeze inserts a dimension of size 1 at the specified dim.\".split()\n",
    "print(sentence)"
   ]
  },
  {
   "cell_type": "code",
   "execution_count": 25,
   "metadata": {},
   "outputs": [
    {
     "name": "stdout",
     "output_type": "stream",
     "text": [
      "['1', 'Unsqueeze', 'a', 'at', 'dim.', 'dimension', 'inserts', 'of', 'size', 'specified', 'the']\n"
     ]
    }
   ],
   "source": [
    "vocab = sorted(list(set(sentence))) #대문자가 소문자보다 코드번호가 작음\n",
    "print(vocab)"
   ]
  },
  {
   "cell_type": "code",
   "execution_count": 26,
   "metadata": {},
   "outputs": [
    {
     "data": {
      "text/plain": [
       "11"
      ]
     },
     "execution_count": 26,
     "metadata": {},
     "output_type": "execute_result"
    }
   ],
   "source": [
    "vocab_size=len(vocab)\n",
    "vocab_size"
   ]
  },
  {
   "cell_type": "code",
   "execution_count": 27,
   "metadata": {},
   "outputs": [
    {
     "name": "stdout",
     "output_type": "stream",
     "text": [
      "{'1': 1, 'Unsqueeze': 2, 'a': 3, 'at': 4, 'dim.': 5, 'dimension': 6, 'inserts': 7, 'of': 8, 'size': 9, 'specified': 10, 'the': 11}\n",
      "{'1': 1, 'Unsqueeze': 2, 'a': 3, 'at': 4, 'dim.': 5, 'dimension': 6, 'inserts': 7, 'of': 8, 'size': 9, 'specified': 10, 'the': 11, '<unk>': 0}\n"
     ]
    }
   ],
   "source": [
    "word_to_index = {tkn:i for i, tkn in enumerate(vocab, 1)} #vocab : word의 집합을 만들어 놓은 것\n",
    "print(word_to_index) #word가 key, index가 value\n",
    "word_to_index['<unk>'] = 0\n",
    "print(word_to_index)"
   ]
  },
  {
   "cell_type": "code",
   "execution_count": 35,
   "metadata": {},
   "outputs": [
    {
     "name": "stdout",
     "output_type": "stream",
     "text": [
      "5\n",
      "[2, 7, 3, 6, 8, 9, 1, 4, 11, 10, 5]\n"
     ]
    }
   ],
   "source": [
    "print(word_to_index['dim.'])\n",
    "encode = [word_to_index[t] for t in sentence]\n",
    "print(encode)"
   ]
  },
  {
   "cell_type": "code",
   "execution_count": 44,
   "metadata": {},
   "outputs": [],
   "source": [
    "def build_data(sentence, word_to_index):\n",
    "    encode = [word_to_index[t] for t in sentence]\n",
    "    input_seq = encode[:-1]\n",
    "    label_seq = encode[1:]\n",
    "    input_seq = torch.LongTensor(input_seq).unsqueeze(0)\n",
    "    label_seq =torch.LongTensor([label_seq])    #1차원을 2차원으로 만듦\n",
    "    print(input_seq)\n",
    "    print(label_seq)\n",
    "    return input_seq, label_seq"
   ]
  },
  {
   "cell_type": "code",
   "execution_count": 45,
   "metadata": {},
   "outputs": [
    {
     "name": "stdout",
     "output_type": "stream",
     "text": [
      "tensor([[ 2,  7,  3,  6,  8,  9,  1,  4, 11, 10]])\n",
      "tensor([[ 7,  3,  6,  8,  9,  1,  4, 11, 10,  5]])\n",
      "tensor([[ 2,  7,  3,  6,  8,  9,  1,  4, 11, 10]])\n",
      "tensor([[ 7,  3,  6,  8,  9,  1,  4, 11, 10,  5]])\n"
     ]
    }
   ],
   "source": [
    "X, Y = build_data(sentence, word_to_index)\n",
    "print(X)\n",
    "print(Y)"
   ]
  },
  {
   "cell_type": "code",
   "execution_count": null,
   "metadata": {},
   "outputs": [],
   "source": [
    "class Net(nn.Module):\n",
    "    def __init__(self, vocab_size, input_size, hidden_size, batch_first=True):\n",
    "        super(Net, self).__init__()\n",
    "        \n",
    "        #input_size(단어의 개수)만큼 embedding 층을 만들겠다.\n",
    "        self.embedding_layer = nn.EmbeddingBag(num_embeddings=vocab_size, embedding_dim=input_size)\n",
    "        \n",
    "        self.rnn = nn.RNN(input_size, hidden_size, batch_first = batch_first)\n",
    "        self.fc = nn.Linear(hidden_size, vocab_size)\n",
    "        \n",
    "    def forward(self, x):\n",
    "        output = self.embedding_layer(x)\n",
    "        #embedding 층 : 크기 변화(배치 크기, 시퀀스 길이) => (배치 크기, 시권스 길이,임베딩 차원) - 이미지의 크기를 바꾸어 줌\n",
    "        output, hidden = self.rnn(output)\n",
    "        # RNN층 : 크기 변화(배치크기, 시퀀스 길이, 임베딩 차원) =>\n",
    "        # output:(배치크기, 시퀀스 길이, 은닉층 크기)\n",
    "        # hidden : (1, 배치크기, 은닉층 크기)\n",
    "        \n",
    "        output = self.fc(output)\n",
    "        #크기 번화 : (배치 크기, 시퀀스 길이, 단어장 크기) => (배치 크기 *시퀀스 길이, 단어장 크기)\n",
    "        \n",
    "        return output.view(-1, output.size(2))"
   ]
  },
  {
   "cell_type": "code",
   "execution_count": 46,
   "metadata": {},
   "outputs": [],
   "source": [
    "vocab_size=len(word_to_index)\n",
    "input_size = vocab_size\n",
    "hidden_size=20"
   ]
  },
  {
   "cell_type": "code",
   "execution_count": null,
   "metadata": {},
   "outputs": [],
   "source": [
    "model =Net(vocab_size, input_size, hidden_size, batch_first=True )\n",
    "loss_func = nn.CrossEntropyLoss()\n",
    "optimizer = optim.Adam(model.parameters())"
   ]
  },
  {
   "cell_type": "code",
   "execution_count": 48,
   "metadata": {},
   "outputs": [
    {
     "name": "stdout",
     "output_type": "stream",
     "text": [
      "{1: '1', 2: 'Unsqueeze', 3: 'a', 4: 'at', 5: 'dim.', 6: 'dimension', 7: 'inserts', 8: 'of', 9: 'size', 10: 'specified', 11: 'the', 0: '<unk>'}\n"
     ]
    }
   ],
   "source": [
    "index_to_word ={v:k for k, v in word_to_index.items()}\n",
    "print(index_to_word)"
   ]
  },
  {
   "cell_type": "code",
   "execution_count": null,
   "metadata": {},
   "outputs": [],
   "source": [
    "decode = lambda y:[index_to_word.get(x) for x in y]\n",
    "print(decode)"
   ]
  },
  {
   "cell_type": "code",
   "execution_count": null,
   "metadata": {},
   "outputs": [],
   "source": [
    "for step in range(200):\n",
    "    optimizer.zero_grad()\n",
    "    output = model(X)\n",
    "    loss = loss_func(output, Y.view(-1))\n",
    "    loss.backward()\n",
    "    optimizer.step()\n",
    "    \n",
    "    pred = output.softmax(-1).argmax(-1).tolist()\n",
    "    "
   ]
  }
 ],
 "metadata": {
  "kernelspec": {
   "display_name": "base",
   "language": "python",
   "name": "python3"
  },
  "language_info": {
   "codemirror_mode": {
    "name": "ipython",
    "version": 3
   },
   "file_extension": ".py",
   "mimetype": "text/x-python",
   "name": "python",
   "nbconvert_exporter": "python",
   "pygments_lexer": "ipython3",
   "version": "3.12.7"
  }
 },
 "nbformat": 4,
 "nbformat_minor": 2
}
