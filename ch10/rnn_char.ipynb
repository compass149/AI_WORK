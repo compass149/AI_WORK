{
 "cells": [
  {
   "cell_type": "code",
   "execution_count": 3,
   "metadata": {},
   "outputs": [],
   "source": [
    "import torch\n",
    "import torch.nn as nn\n",
    "import torch.optim as optim\n",
    "import numpy as np\n",
    " "
   ]
  },
  {
   "cell_type": "markdown",
   "metadata": {},
   "source": [
    "'apple!' : input_data => apple, output_data = pple!"
   ]
  },
  {
   "cell_type": "code",
   "execution_count": 4,
   "metadata": {},
   "outputs": [
    {
     "name": "stdout",
     "output_type": "stream",
     "text": [
      "['!', 'a', 'e', 'l', 'p']\n",
      "5\n"
     ]
    }
   ],
   "source": [
    "input_str = 'apple'\n",
    "label_str = 'pple!'\n",
    "char_set = sorted(list(set(input_str+label_str)))  #set은 집합이므로 중복문자 허용 x => 문자 5개 남음\n",
    "\n",
    "print(char_set)\n",
    "\n",
    "char_set_size =len(char_set)\n",
    "print(char_set_size)"
   ]
  },
  {
   "cell_type": "code",
   "execution_count": 5,
   "metadata": {},
   "outputs": [],
   "source": [
    "input_size = 5\n",
    "hidden_size = 5\n",
    "output_size = 5\n",
    "learning_rate = 0.1"
   ]
  },
  {
   "cell_type": "code",
   "execution_count": 6,
   "metadata": {},
   "outputs": [
    {
     "name": "stdout",
     "output_type": "stream",
     "text": [
      "{'!': 0, 'a': 1, 'e': 2, 'l': 3, 'p': 4}\n"
     ]
    }
   ],
   "source": [
    "#문자의 벡터값으로 훈련시킴\n",
    "\n",
    "char_to_index = dict((c, i) for i, c in enumerate(char_set))  #enumerate를 활용하면 char_set의 인덱스를 리턴할 수 있음 \n",
    "\n",
    "#아래의 코드와 같은 의미\n",
    "# char_list = [c for c in char_set]\n",
    "# char_list = []\n",
    "# for c in char_set:\n",
    "#     char_set.append(c)\n",
    "\n",
    "print(char_to_index)\n"
   ]
  },
  {
   "cell_type": "code",
   "execution_count": 7,
   "metadata": {},
   "outputs": [
    {
     "data": {
      "text/plain": [
       "dict_items([('!', 0), ('a', 1), ('e', 2), ('l', 3), ('p', 4)])"
      ]
     },
     "execution_count": 7,
     "metadata": {},
     "output_type": "execute_result"
    }
   ],
   "source": [
    "char_to_index.items()  #key, value를 튜플 형태로 리턴\n",
    "#cf. char_to_index.values()\n",
    "#cf. char_to_index.keys()"
   ]
  },
  {
   "cell_type": "code",
   "execution_count": 8,
   "metadata": {},
   "outputs": [
    {
     "name": "stdout",
     "output_type": "stream",
     "text": [
      "{0: '!', 1: 'a', 2: 'e', 3: 'l', 4: 'p'}\n"
     ]
    }
   ],
   "source": [
    "index_to_char ={}\n",
    "for key, value in char_to_index.items():\n",
    "    index_to_char[value] = key\n",
    "    \n",
    "print(index_to_char)"
   ]
  },
  {
   "cell_type": "code",
   "execution_count": 9,
   "metadata": {},
   "outputs": [
    {
     "name": "stdout",
     "output_type": "stream",
     "text": [
      "[[1, 4, 4, 3, 2]]\n",
      "[[4, 4, 3, 2, 0]]\n"
     ]
    }
   ],
   "source": [
    "x_data = [char_to_index[c] for c in input_str]  #apple\n",
    "y_data = [char_to_index[c] for c in label_str]  #pple!\n",
    "x_data=[x_data]\n",
    "y_data=[y_data]\n",
    "\n",
    "#문자값으로 처리하는 것이 아닌, 문자의 인덱스 값으로 처리함\n",
    "\n",
    "print(x_data)\n",
    "print(y_data) "
   ]
  },
  {
   "cell_type": "code",
   "execution_count": 10,
   "metadata": {},
   "outputs": [
    {
     "name": "stdout",
     "output_type": "stream",
     "text": [
      "[array([[0., 1., 0., 0., 0.],\n",
      "       [0., 0., 0., 0., 1.],\n",
      "       [0., 0., 0., 0., 1.],\n",
      "       [0., 0., 0., 1., 0.],\n",
      "       [0., 0., 1., 0., 0.]])]\n"
     ]
    }
   ],
   "source": [
    "x_one_hot = [np.eye(char_set_size)[x] for x in x_data]\n",
    "print(x_one_hot) #데이터의 인덱스의 위치에 1을 넣음"
   ]
  },
  {
   "cell_type": "code",
   "execution_count": 11,
   "metadata": {},
   "outputs": [
    {
     "name": "stdout",
     "output_type": "stream",
     "text": [
      "tensor([[[0., 1., 0., 0., 0.],\n",
      "         [0., 0., 0., 0., 1.],\n",
      "         [0., 0., 0., 0., 1.],\n",
      "         [0., 0., 0., 1., 0.],\n",
      "         [0., 0., 1., 0., 0.]]])\n",
      "tensor([[4, 4, 3, 2, 0]])\n"
     ]
    },
    {
     "name": "stderr",
     "output_type": "stream",
     "text": [
      "C:\\Users\\dhdms\\AppData\\Local\\Temp\\ipykernel_18636\\3424434832.py:1: UserWarning: Creating a tensor from a list of numpy.ndarrays is extremely slow. Please consider converting the list to a single numpy.ndarray with numpy.array() before converting to a tensor. (Triggered internally at C:\\actions-runner\\_work\\pytorch\\pytorch\\builder\\windows\\pytorch\\torch\\csrc\\utils\\tensor_new.cpp:281.)\n",
      "  X=torch.FloatTensor(x_one_hot)\n"
     ]
    }
   ],
   "source": [
    "X=torch.FloatTensor(x_one_hot)\n",
    "Y=torch.LongTensor(y_data)\n",
    "print(X)\n",
    "print(Y)"
   ]
  },
  {
   "cell_type": "code",
   "execution_count": 12,
   "metadata": {},
   "outputs": [
    {
     "name": "stdout",
     "output_type": "stream",
     "text": [
      "torch.Size([1, 5, 5]) torch.Size([1, 5])\n"
     ]
    }
   ],
   "source": [
    "print(X.size(), Y.size())"
   ]
  },
  {
   "cell_type": "code",
   "execution_count": 13,
   "metadata": {},
   "outputs": [],
   "source": [
    "#모델 만들기\n",
    "#nn.RNN(input_size, hidden_size, output_size) #RNN모델에서 필요한 데이터들 - 만들고 사용해야 하므로 클래스로 만들어서 사용할 것임\n",
    "class Net(nn.Module):\n",
    "    def __init__(self, input_size, hidden_size, output_size):#모델을 만들 때는 init을 씀\n",
    "        super(Net, self).__init__()\n",
    "        self.rnn = nn.RNN(input_size, hidden_size, batch_first=True)\n",
    "        #batch_first : 입력데이터 batch의 차원의 위치를 설정\n",
    "        #(배치크기, 시퀀스 길이, 특징 수)\n",
    "        #입력의 형태가 (32, 10, 50) 라면 순서대로 위와 같음\n",
    "        self.fc = nn.Linear(hidden_size, output_size, bias=True)\n",
    "        \n",
    "#실제 모델 구현(forward)\n",
    "    def forward(self, x):\n",
    "        x, _status = self.rnn(x) #x는 rnn을 수행한 값\n",
    "        x = self.fc(x)\n",
    "        return x       \n",
    "        "
   ]
  },
  {
   "cell_type": "code",
   "execution_count": 14,
   "metadata": {},
   "outputs": [],
   "source": [
    "#모델 생성\n",
    "model=Net(input_size, hidden_size, output_size)\n",
    "criterion=nn.CrossEntropyLoss()\n",
    "optimizer=optim.Adam(model.parameters(), lr=learning_rate)\n",
    "#최적화 방벙 정함"
   ]
  },
  {
   "cell_type": "code",
   "execution_count": 15,
   "metadata": {},
   "outputs": [
    {
     "name": "stdout",
     "output_type": "stream",
     "text": [
      "tensor([[[ 0.0349,  0.1648, -0.1617, -0.1419, -0.2329],\n",
      "         [-0.0226,  0.3865, -0.2632, -0.0059, -0.3125],\n",
      "         [-0.0566,  0.4068, -0.2915, -0.0313, -0.3991],\n",
      "         [-0.0476,  0.3156,  0.0446, -0.0486, -0.5838],\n",
      "         [ 0.0076,  0.0928,  0.0844,  0.0511, -0.2798]]],\n",
      "       grad_fn=<ViewBackward0>)\n",
      "torch.Size([1, 5, 5])\n"
     ]
    }
   ],
   "source": [
    "output=model(X)\n",
    "print(output)\n",
    "print(output.size())"
   ]
  },
  {
   "cell_type": "code",
   "execution_count": 16,
   "metadata": {},
   "outputs": [
    {
     "name": "stdout",
     "output_type": "stream",
     "text": [
      "[1 1 1 1 1]\n"
     ]
    }
   ],
   "source": [
    "result = output.data.numpy().argmax(axis = 2)  #0:3차원, 1:열, 2:행\n",
    "print(np.squeeze(result)) #squeeze는 크기가 1인 차원을 제거함, unsqueeze(dim): dim에 해당하는 위치에 크기가 1인 차원을 추가함 "
   ]
  },
  {
   "cell_type": "code",
   "execution_count": 17,
   "metadata": {},
   "outputs": [
    {
     "name": "stdout",
     "output_type": "stream",
     "text": [
      "0 loss 1.6892623901367188 prediction : [[1 1 1 1 1]] aaaaa true: [[4, 4, 3, 2, 0]]\n",
      "1 loss 1.3534389734268188 prediction : [[4 4 4 2 2]] pppee true: [[4, 4, 3, 2, 0]]\n",
      "2 loss 1.0992273092269897 prediction : [[4 4 4 2 4]] pppep true: [[4, 4, 3, 2, 0]]\n",
      "3 loss 0.8585538864135742 prediction : [[4 4 3 2 4]] pplep true: [[4, 4, 3, 2, 0]]\n",
      "4 loss 0.6541686058044434 prediction : [[4 4 3 2 4]] pplep true: [[4, 4, 3, 2, 0]]\n",
      "5 loss 0.48703402280807495 prediction : [[4 4 3 2 4]] pplep true: [[4, 4, 3, 2, 0]]\n",
      "6 loss 0.35657793283462524 prediction : [[4 4 3 2 0]] pple! true: [[4, 4, 3, 2, 0]]\n",
      "7 loss 0.2601460814476013 prediction : [[4 4 3 2 0]] pple! true: [[4, 4, 3, 2, 0]]\n",
      "8 loss 0.18987752497196198 prediction : [[4 4 3 2 0]] pple! true: [[4, 4, 3, 2, 0]]\n",
      "9 loss 0.1383204162120819 prediction : [[4 4 3 2 0]] pple! true: [[4, 4, 3, 2, 0]]\n",
      "10 loss 0.10078851133584976 prediction : [[4 4 3 2 0]] pple! true: [[4, 4, 3, 2, 0]]\n",
      "11 loss 0.07418277114629745 prediction : [[4 4 3 2 0]] pple! true: [[4, 4, 3, 2, 0]]\n",
      "12 loss 0.055624157190322876 prediction : [[4 4 3 2 0]] pple! true: [[4, 4, 3, 2, 0]]\n",
      "13 loss 0.0426473394036293 prediction : [[4 4 3 2 0]] pple! true: [[4, 4, 3, 2, 0]]\n",
      "14 loss 0.03344108909368515 prediction : [[4 4 3 2 0]] pple! true: [[4, 4, 3, 2, 0]]\n",
      "15 loss 0.026769358664751053 prediction : [[4 4 3 2 0]] pple! true: [[4, 4, 3, 2, 0]]\n",
      "16 loss 0.021814823150634766 prediction : [[4 4 3 2 0]] pple! true: [[4, 4, 3, 2, 0]]\n",
      "17 loss 0.01804596744477749 prediction : [[4 4 3 2 0]] pple! true: [[4, 4, 3, 2, 0]]\n",
      "18 loss 0.015119108371436596 prediction : [[4 4 3 2 0]] pple! true: [[4, 4, 3, 2, 0]]\n",
      "19 loss 0.012809574604034424 prediction : [[4 4 3 2 0]] pple! true: [[4, 4, 3, 2, 0]]\n",
      "20 loss 0.010966664180159569 prediction : [[4 4 3 2 0]] pple! true: [[4, 4, 3, 2, 0]]\n",
      "21 loss 0.009484751150012016 prediction : [[4 4 3 2 0]] pple! true: [[4, 4, 3, 2, 0]]\n",
      "22 loss 0.008286194875836372 prediction : [[4 4 3 2 0]] pple! true: [[4, 4, 3, 2, 0]]\n",
      "23 loss 0.007311864756047726 prediction : [[4 4 3 2 0]] pple! true: [[4, 4, 3, 2, 0]]\n",
      "24 loss 0.0065148137509822845 prediction : [[4 4 3 2 0]] pple! true: [[4, 4, 3, 2, 0]]\n",
      "25 loss 0.00585806742310524 prediction : [[4 4 3 2 0]] pple! true: [[4, 4, 3, 2, 0]]\n",
      "26 loss 0.005312147084623575 prediction : [[4 4 3 2 0]] pple! true: [[4, 4, 3, 2, 0]]\n",
      "27 loss 0.004853859543800354 prediction : [[4 4 3 2 0]] pple! true: [[4, 4, 3, 2, 0]]\n",
      "28 loss 0.00446530943736434 prediction : [[4 4 3 2 0]] pple! true: [[4, 4, 3, 2, 0]]\n",
      "29 loss 0.004132530651986599 prediction : [[4 4 3 2 0]] pple! true: [[4, 4, 3, 2, 0]]\n",
      "30 loss 0.003845006925985217 prediction : [[4 4 3 2 0]] pple! true: [[4, 4, 3, 2, 0]]\n",
      "31 loss 0.003594527719542384 prediction : [[4 4 3 2 0]] pple! true: [[4, 4, 3, 2, 0]]\n",
      "32 loss 0.0033748571295291185 prediction : [[4 4 3 2 0]] pple! true: [[4, 4, 3, 2, 0]]\n",
      "33 loss 0.003181152045726776 prediction : [[4 4 3 2 0]] pple! true: [[4, 4, 3, 2, 0]]\n",
      "34 loss 0.003009654115885496 prediction : [[4 4 3 2 0]] pple! true: [[4, 4, 3, 2, 0]]\n",
      "35 loss 0.002857217798009515 prediction : [[4 4 3 2 0]] pple! true: [[4, 4, 3, 2, 0]]\n",
      "36 loss 0.0027214770670980215 prediction : [[4 4 3 2 0]] pple! true: [[4, 4, 3, 2, 0]]\n",
      "37 loss 0.0026003262028098106 prediction : [[4 4 3 2 0]] pple! true: [[4, 4, 3, 2, 0]]\n",
      "38 loss 0.002491964725777507 prediction : [[4 4 3 2 0]] pple! true: [[4, 4, 3, 2, 0]]\n",
      "39 loss 0.0023949488531798124 prediction : [[4 4 3 2 0]] pple! true: [[4, 4, 3, 2, 0]]\n",
      "40 loss 0.0023078082595020533 prediction : [[4 4 3 2 0]] pple! true: [[4, 4, 3, 2, 0]]\n",
      "41 loss 0.0022295007947832346 prediction : [[4 4 3 2 0]] pple! true: [[4, 4, 3, 2, 0]]\n",
      "42 loss 0.002158863702788949 prediction : [[4 4 3 2 0]] pple! true: [[4, 4, 3, 2, 0]]\n",
      "43 loss 0.0020949961617588997 prediction : [[4 4 3 2 0]] pple! true: [[4, 4, 3, 2, 0]]\n",
      "44 loss 0.002036948222666979 prediction : [[4 4 3 2 0]] pple! true: [[4, 4, 3, 2, 0]]\n",
      "45 loss 0.001984079834073782 prediction : [[4 4 3 2 0]] pple! true: [[4, 4, 3, 2, 0]]\n",
      "46 loss 0.0019356304546818137 prediction : [[4 4 3 2 0]] pple! true: [[4, 4, 3, 2, 0]]\n",
      "47 loss 0.0018911265069618821 prediction : [[4 4 3 2 0]] pple! true: [[4, 4, 3, 2, 0]]\n",
      "48 loss 0.001850044121965766 prediction : [[4 4 3 2 0]] pple! true: [[4, 4, 3, 2, 0]]\n",
      "49 loss 0.0018119331216439605 prediction : [[4 4 3 2 0]] pple! true: [[4, 4, 3, 2, 0]]\n",
      "50 loss 0.0017765078227967024 prediction : [[4 4 3 2 0]] pple! true: [[4, 4, 3, 2, 0]]\n",
      "51 loss 0.0017434839392080903 prediction : [[4 4 3 2 0]] pple! true: [[4, 4, 3, 2, 0]]\n",
      "52 loss 0.0017126237507909536 prediction : [[4 4 3 2 0]] pple! true: [[4, 4, 3, 2, 0]]\n",
      "53 loss 0.0016836894210428 prediction : [[4 4 3 2 0]] pple! true: [[4, 4, 3, 2, 0]]\n",
      "54 loss 0.001656514941714704 prediction : [[4 4 3 2 0]] pple! true: [[4, 4, 3, 2, 0]]\n",
      "55 loss 0.0016310291830450296 prediction : [[4 4 3 2 0]] pple! true: [[4, 4, 3, 2, 0]]\n",
      "56 loss 0.0016069228295236826 prediction : [[4 4 3 2 0]] pple! true: [[4, 4, 3, 2, 0]]\n",
      "57 loss 0.0015841483836993575 prediction : [[4 4 3 2 0]] pple! true: [[4, 4, 3, 2, 0]]\n",
      "58 loss 0.0015625875676050782 prediction : [[4 4 3 2 0]] pple! true: [[4, 4, 3, 2, 0]]\n",
      "59 loss 0.0015421684365719557 prediction : [[4 4 3 2 0]] pple! true: [[4, 4, 3, 2, 0]]\n",
      "60 loss 0.0015227248659357429 prediction : [[4 4 3 2 0]] pple! true: [[4, 4, 3, 2, 0]]\n",
      "61 loss 0.001504185376688838 prediction : [[4 4 3 2 0]] pple! true: [[4, 4, 3, 2, 0]]\n",
      "62 loss 0.0014865261036902666 prediction : [[4 4 3 2 0]] pple! true: [[4, 4, 3, 2, 0]]\n",
      "63 loss 0.0014695331919938326 prediction : [[4 4 3 2 0]] pple! true: [[4, 4, 3, 2, 0]]\n",
      "64 loss 0.0014532540226355195 prediction : [[4 4 3 2 0]] pple! true: [[4, 4, 3, 2, 0]]\n",
      "65 loss 0.0014375222381204367 prediction : [[4 4 3 2 0]] pple! true: [[4, 4, 3, 2, 0]]\n",
      "66 loss 0.0014224089682102203 prediction : [[4 4 3 2 0]] pple! true: [[4, 4, 3, 2, 0]]\n",
      "67 loss 0.001407747738994658 prediction : [[4 4 3 2 0]] pple! true: [[4, 4, 3, 2, 0]]\n",
      "68 loss 0.0013936099130660295 prediction : [[4 4 3 2 0]] pple! true: [[4, 4, 3, 2, 0]]\n",
      "69 loss 0.0013798291329294443 prediction : [[4 4 3 2 0]] pple! true: [[4, 4, 3, 2, 0]]\n",
      "70 loss 0.0013664287980645895 prediction : [[4 4 3 2 0]] pple! true: [[4, 4, 3, 2, 0]]\n",
      "71 loss 0.0013534808531403542 prediction : [[4 4 3 2 0]] pple! true: [[4, 4, 3, 2, 0]]\n",
      "72 loss 0.0013408896047621965 prediction : [[4 4 3 2 0]] pple! true: [[4, 4, 3, 2, 0]]\n",
      "73 loss 0.0013285600580275059 prediction : [[4 4 3 2 0]] pple! true: [[4, 4, 3, 2, 0]]\n",
      "74 loss 0.0013165634591132402 prediction : [[4 4 3 2 0]] pple! true: [[4, 4, 3, 2, 0]]\n",
      "75 loss 0.0013048762921243906 prediction : [[4 4 3 2 0]] pple! true: [[4, 4, 3, 2, 0]]\n",
      "76 loss 0.0012934745755046606 prediction : [[4 4 3 2 0]] pple! true: [[4, 4, 3, 2, 0]]\n",
      "77 loss 0.0012822870630770922 prediction : [[4 4 3 2 0]] pple! true: [[4, 4, 3, 2, 0]]\n",
      "78 loss 0.0012713609030470252 prediction : [[4 4 3 2 0]] pple! true: [[4, 4, 3, 2, 0]]\n",
      "79 loss 0.0012606729287654161 prediction : [[4 4 3 2 0]] pple! true: [[4, 4, 3, 2, 0]]\n",
      "80 loss 0.001250151195563376 prediction : [[4 4 3 2 0]] pple! true: [[4, 4, 3, 2, 0]]\n",
      "81 loss 0.0012397959362715483 prediction : [[4 4 3 2 0]] pple! true: [[4, 4, 3, 2, 0]]\n",
      "82 loss 0.0012296547647565603 prediction : [[4 4 3 2 0]] pple! true: [[4, 4, 3, 2, 0]]\n",
      "83 loss 0.0012197038158774376 prediction : [[4 4 3 2 0]] pple! true: [[4, 4, 3, 2, 0]]\n",
      "84 loss 0.001209824113175273 prediction : [[4 4 3 2 0]] pple! true: [[4, 4, 3, 2, 0]]\n",
      "85 loss 0.0012001348659396172 prediction : [[4 4 3 2 0]] pple! true: [[4, 4, 3, 2, 0]]\n",
      "86 loss 0.0011905881110578775 prediction : [[4 4 3 2 0]] pple! true: [[4, 4, 3, 2, 0]]\n",
      "87 loss 0.0011811841977760196 prediction : [[4 4 3 2 0]] pple! true: [[4, 4, 3, 2, 0]]\n",
      "88 loss 0.001171899144537747 prediction : [[4 4 3 2 0]] pple! true: [[4, 4, 3, 2, 0]]\n",
      "89 loss 0.0011627329513430595 prediction : [[4 4 3 2 0]] pple! true: [[4, 4, 3, 2, 0]]\n",
      "90 loss 0.0011536380043253303 prediction : [[4 4 3 2 0]] pple! true: [[4, 4, 3, 2, 0]]\n",
      "91 loss 0.0011447572614997625 prediction : [[4 4 3 2 0]] pple! true: [[4, 4, 3, 2, 0]]\n",
      "92 loss 0.001135924132540822 prediction : [[4 4 3 2 0]] pple! true: [[4, 4, 3, 2, 0]]\n",
      "93 loss 0.001127209747210145 prediction : [[4 4 3 2 0]] pple! true: [[4, 4, 3, 2, 0]]\n",
      "94 loss 0.0011186383198946714 prediction : [[4 4 3 2 0]] pple! true: [[4, 4, 3, 2, 0]]\n",
      "95 loss 0.0011101618874818087 prediction : [[4 4 3 2 0]] pple! true: [[4, 4, 3, 2, 0]]\n",
      "96 loss 0.0011018045479431748 prediction : [[4 4 3 2 0]] pple! true: [[4, 4, 3, 2, 0]]\n",
      "97 loss 0.0010934947058558464 prediction : [[4 4 3 2 0]] pple! true: [[4, 4, 3, 2, 0]]\n",
      "98 loss 0.0010852799750864506 prediction : [[4 4 3 2 0]] pple! true: [[4, 4, 3, 2, 0]]\n",
      "99 loss 0.0010771842207759619 prediction : [[4 4 3 2 0]] pple! true: [[4, 4, 3, 2, 0]]\n",
      "100 loss 0.0010691836941987276 prediction : [[4 4 3 2 0]] pple! true: [[4, 4, 3, 2, 0]]\n",
      "101 loss 0.0010612545302137733 prediction : [[4 4 3 2 0]] pple! true: [[4, 4, 3, 2, 0]]\n",
      "102 loss 0.0010534205939620733 prediction : [[4 4 3 2 0]] pple! true: [[4, 4, 3, 2, 0]]\n",
      "103 loss 0.0010457293828949332 prediction : [[4 4 3 2 0]] pple! true: [[4, 4, 3, 2, 0]]\n",
      "104 loss 0.0010380143066868186 prediction : [[4 4 3 2 0]] pple! true: [[4, 4, 3, 2, 0]]\n",
      "105 loss 0.0010303944582119584 prediction : [[4 4 3 2 0]] pple! true: [[4, 4, 3, 2, 0]]\n",
      "106 loss 0.0010228937026113272 prediction : [[4 4 3 2 0]] pple! true: [[4, 4, 3, 2, 0]]\n",
      "107 loss 0.0010154879419133067 prediction : [[4 4 3 2 0]] pple! true: [[4, 4, 3, 2, 0]]\n",
      "108 loss 0.0010080583160743117 prediction : [[4 4 3 2 0]] pple! true: [[4, 4, 3, 2, 0]]\n",
      "109 loss 0.0010007715318351984 prediction : [[4 4 3 2 0]] pple! true: [[4, 4, 3, 2, 0]]\n",
      "110 loss 0.0009935323614627123 prediction : [[4 4 3 2 0]] pple! true: [[4, 4, 3, 2, 0]]\n",
      "111 loss 0.000986388185992837 prediction : [[4 4 3 2 0]] pple! true: [[4, 4, 3, 2, 0]]\n",
      "112 loss 0.000979315722361207 prediction : [[4 4 3 2 0]] pple! true: [[4, 4, 3, 2, 0]]\n",
      "113 loss 0.0009723142720758915 prediction : [[4 4 3 2 0]] pple! true: [[4, 4, 3, 2, 0]]\n",
      "114 loss 0.0009654082241468132 prediction : [[4 4 3 2 0]] pple! true: [[4, 4, 3, 2, 0]]\n",
      "115 loss 0.0009585259249433875 prediction : [[4 4 3 2 0]] pple! true: [[4, 4, 3, 2, 0]]\n",
      "116 loss 0.0009517149301245809 prediction : [[4 4 3 2 0]] pple! true: [[4, 4, 3, 2, 0]]\n",
      "117 loss 0.0009449990466237068 prediction : [[4 4 3 2 0]] pple! true: [[4, 4, 3, 2, 0]]\n",
      "118 loss 0.0009383310680277646 prediction : [[4 4 3 2 0]] pple! true: [[4, 4, 3, 2, 0]]\n",
      "119 loss 0.000931710354052484 prediction : [[4 4 3 2 0]] pple! true: [[4, 4, 3, 2, 0]]\n",
      "120 loss 0.0009251849842257798 prediction : [[4 4 3 2 0]] pple! true: [[4, 4, 3, 2, 0]]\n",
      "121 loss 0.0009186833049170673 prediction : [[4 4 3 2 0]] pple! true: [[4, 4, 3, 2, 0]]\n",
      "122 loss 0.0009122768533416092 prediction : [[4 4 3 2 0]] pple! true: [[4, 4, 3, 2, 0]]\n",
      "123 loss 0.0009058464202098548 prediction : [[4 4 3 2 0]] pple! true: [[4, 4, 3, 2, 0]]\n",
      "124 loss 0.0008995828102342784 prediction : [[4 4 3 2 0]] pple! true: [[4, 4, 3, 2, 0]]\n",
      "125 loss 0.0008933191420510411 prediction : [[4 4 3 2 0]] pple! true: [[4, 4, 3, 2, 0]]\n",
      "126 loss 0.0008871743339113891 prediction : [[4 4 3 2 0]] pple! true: [[4, 4, 3, 2, 0]]\n",
      "127 loss 0.0008810533909127116 prediction : [[4 4 3 2 0]] pple! true: [[4, 4, 3, 2, 0]]\n",
      "128 loss 0.000875003810506314 prediction : [[4 4 3 2 0]] pple! true: [[4, 4, 3, 2, 0]]\n",
      "129 loss 0.0008690020185895264 prediction : [[4 4 3 2 0]] pple! true: [[4, 4, 3, 2, 0]]\n",
      "130 loss 0.0008630476077087224 prediction : [[4 4 3 2 0]] pple! true: [[4, 4, 3, 2, 0]]\n",
      "131 loss 0.0008571408689022064 prediction : [[4 4 3 2 0]] pple! true: [[4, 4, 3, 2, 0]]\n",
      "132 loss 0.0008513054926879704 prediction : [[4 4 3 2 0]] pple! true: [[4, 4, 3, 2, 0]]\n",
      "133 loss 0.0008455653442069888 prediction : [[4 4 3 2 0]] pple! true: [[4, 4, 3, 2, 0]]\n",
      "134 loss 0.0008398252539336681 prediction : [[4 4 3 2 0]] pple! true: [[4, 4, 3, 2, 0]]\n",
      "135 loss 0.0008341564680449665 prediction : [[4 4 3 2 0]] pple! true: [[4, 4, 3, 2, 0]]\n",
      "136 loss 0.0008285114308819175 prediction : [[4 4 3 2 0]] pple! true: [[4, 4, 3, 2, 0]]\n",
      "137 loss 0.0008229616796597838 prediction : [[4 4 3 2 0]] pple! true: [[4, 4, 3, 2, 0]]\n",
      "138 loss 0.0008173881215043366 prediction : [[4 4 3 2 0]] pple! true: [[4, 4, 3, 2, 0]]\n",
      "139 loss 0.0008119336562231183 prediction : [[4 4 3 2 0]] pple! true: [[4, 4, 3, 2, 0]]\n",
      "140 loss 0.0008065266301855445 prediction : [[4 4 3 2 0]] pple! true: [[4, 4, 3, 2, 0]]\n",
      "141 loss 0.0008011197787709534 prediction : [[4 4 3 2 0]] pple! true: [[4, 4, 3, 2, 0]]\n",
      "142 loss 0.000795807980466634 prediction : [[4 4 3 2 0]] pple! true: [[4, 4, 3, 2, 0]]\n",
      "143 loss 0.0007905915263108909 prediction : [[4 4 3 2 0]] pple! true: [[4, 4, 3, 2, 0]]\n",
      "144 loss 0.0007853987626731396 prediction : [[4 4 3 2 0]] pple! true: [[4, 4, 3, 2, 0]]\n",
      "145 loss 0.0007801823085173965 prediction : [[4 4 3 2 0]] pple! true: [[4, 4, 3, 2, 0]]\n",
      "146 loss 0.0007750848308205605 prediction : [[4 4 3 2 0]] pple! true: [[4, 4, 3, 2, 0]]\n",
      "147 loss 0.0007700349087826908 prediction : [[4 4 3 2 0]] pple! true: [[4, 4, 3, 2, 0]]\n",
      "148 loss 0.0007650088518857956 prediction : [[4 4 3 2 0]] pple! true: [[4, 4, 3, 2, 0]]\n",
      "149 loss 0.000760006601922214 prediction : [[4 4 3 2 0]] pple! true: [[4, 4, 3, 2, 0]]\n",
      "150 loss 0.0007550519076175988 prediction : [[4 4 3 2 0]] pple! true: [[4, 4, 3, 2, 0]]\n",
      "151 loss 0.0007501686341129243 prediction : [[4 4 3 2 0]] pple! true: [[4, 4, 3, 2, 0]]\n",
      "152 loss 0.0007453329744748771 prediction : [[4 4 3 2 0]] pple! true: [[4, 4, 3, 2, 0]]\n",
      "153 loss 0.0007405211217701435 prediction : [[4 4 3 2 0]] pple! true: [[4, 4, 3, 2, 0]]\n",
      "154 loss 0.0007357330759987235 prediction : [[4 4 3 2 0]] pple! true: [[4, 4, 3, 2, 0]]\n",
      "155 loss 0.0007310641231015325 prediction : [[4 4 3 2 0]] pple! true: [[4, 4, 3, 2, 0]]\n",
      "156 loss 0.0007264189189299941 prediction : [[4 4 3 2 0]] pple! true: [[4, 4, 3, 2, 0]]\n",
      "157 loss 0.0007217737147584558 prediction : [[4 4 3 2 0]] pple! true: [[4, 4, 3, 2, 0]]\n",
      "158 loss 0.000717152317520231 prediction : [[4 4 3 2 0]] pple! true: [[4, 4, 3, 2, 0]]\n",
      "159 loss 0.0007126022828742862 prediction : [[4 4 3 2 0]] pple! true: [[4, 4, 3, 2, 0]]\n",
      "160 loss 0.0007080999785102904 prediction : [[4 4 3 2 0]] pple! true: [[4, 4, 3, 2, 0]]\n",
      "161 loss 0.0007036452298052609 prediction : [[4 4 3 2 0]] pple! true: [[4, 4, 3, 2, 0]]\n",
      "162 loss 0.0006991904228925705 prediction : [[4 4 3 2 0]] pple! true: [[4, 4, 3, 2, 0]]\n",
      "163 loss 0.0006948309601284564 prediction : [[4 4 3 2 0]] pple! true: [[4, 4, 3, 2, 0]]\n",
      "164 loss 0.0006904714973643422 prediction : [[4 4 3 2 0]] pple! true: [[4, 4, 3, 2, 0]]\n",
      "165 loss 0.0006861594738438725 prediction : [[4 4 3 2 0]] pple! true: [[4, 4, 3, 2, 0]]\n",
      "166 loss 0.0006819190457463264 prediction : [[4 4 3 2 0]] pple! true: [[4, 4, 3, 2, 0]]\n",
      "167 loss 0.0006776309455744922 prediction : [[4 4 3 2 0]] pple! true: [[4, 4, 3, 2, 0]]\n",
      "168 loss 0.0006734858034178615 prediction : [[4 4 3 2 0]] pple! true: [[4, 4, 3, 2, 0]]\n",
      "169 loss 0.000669340486638248 prediction : [[4 4 3 2 0]] pple! true: [[4, 4, 3, 2, 0]]\n",
      "170 loss 0.0006652191514149308 prediction : [[4 4 3 2 0]] pple! true: [[4, 4, 3, 2, 0]]\n",
      "171 loss 0.0006611453136429191 prediction : [[4 4 3 2 0]] pple! true: [[4, 4, 3, 2, 0]]\n",
      "172 loss 0.0006570714758709073 prediction : [[4 4 3 2 0]] pple! true: [[4, 4, 3, 2, 0]]\n",
      "173 loss 0.0006530453101731837 prediction : [[4 4 3 2 0]] pple! true: [[4, 4, 3, 2, 0]]\n",
      "174 loss 0.0006490667583420873 prediction : [[4 4 3 2 0]] pple! true: [[4, 4, 3, 2, 0]]\n",
      "175 loss 0.0006451596273109317 prediction : [[4 4 3 2 0]] pple! true: [[4, 4, 3, 2, 0]]\n",
      "176 loss 0.000641204824205488 prediction : [[4 4 3 2 0]] pple! true: [[4, 4, 3, 2, 0]]\n",
      "177 loss 0.0006373453070409596 prediction : [[4 4 3 2 0]] pple! true: [[4, 4, 3, 2, 0]]\n",
      "178 loss 0.000633557268884033 prediction : [[4 4 3 2 0]] pple! true: [[4, 4, 3, 2, 0]]\n",
      "179 loss 0.0006297453655861318 prediction : [[4 4 3 2 0]] pple! true: [[4, 4, 3, 2, 0]]\n",
      "180 loss 0.0006259811343625188 prediction : [[4 4 3 2 0]] pple! true: [[4, 4, 3, 2, 0]]\n",
      "181 loss 0.0006221930379979312 prediction : [[4 4 3 2 0]] pple! true: [[4, 4, 3, 2, 0]]\n",
      "182 loss 0.0006184763624332845 prediction : [[4 4 3 2 0]] pple! true: [[4, 4, 3, 2, 0]]\n",
      "183 loss 0.0006148550310172141 prediction : [[4 4 3 2 0]] pple! true: [[4, 4, 3, 2, 0]]\n",
      "184 loss 0.0006111860275268555 prediction : [[4 4 3 2 0]] pple! true: [[4, 4, 3, 2, 0]]\n",
      "185 loss 0.0006076122517697513 prediction : [[4 4 3 2 0]] pple! true: [[4, 4, 3, 2, 0]]\n",
      "186 loss 0.0006039431900717318 prediction : [[4 4 3 2 0]] pple! true: [[4, 4, 3, 2, 0]]\n",
      "187 loss 0.0006003932794556022 prediction : [[4 4 3 2 0]] pple! true: [[4, 4, 3, 2, 0]]\n",
      "188 loss 0.0005968909244984388 prediction : [[4 4 3 2 0]] pple! true: [[4, 4, 3, 2, 0]]\n",
      "189 loss 0.0005934362416155636 prediction : [[4 4 3 2 0]] pple! true: [[4, 4, 3, 2, 0]]\n",
      "190 loss 0.0005899577517993748 prediction : [[4 4 3 2 0]] pple! true: [[4, 4, 3, 2, 0]]\n",
      "191 loss 0.0005865268176421523 prediction : [[4 4 3 2 0]] pple! true: [[4, 4, 3, 2, 0]]\n",
      "192 loss 0.0005831198068335652 prediction : [[4 4 3 2 0]] pple! true: [[4, 4, 3, 2, 0]]\n",
      "193 loss 0.0005797365447506309 prediction : [[4 4 3 2 0]] pple! true: [[4, 4, 3, 2, 0]]\n",
      "194 loss 0.0005764247616752982 prediction : [[4 4 3 2 0]] pple! true: [[4, 4, 3, 2, 0]]\n",
      "195 loss 0.0005730890552513301 prediction : [[4 4 3 2 0]] pple! true: [[4, 4, 3, 2, 0]]\n",
      "196 loss 0.000569801137316972 prediction : [[4 4 3 2 0]] pple! true: [[4, 4, 3, 2, 0]]\n",
      "197 loss 0.0005665845819748938 prediction : [[4 4 3 2 0]] pple! true: [[4, 4, 3, 2, 0]]\n",
      "198 loss 0.000563344219699502 prediction : [[4 4 3 2 0]] pple! true: [[4, 4, 3, 2, 0]]\n",
      "199 loss 0.0005601038574241102 prediction : [[4 4 3 2 0]] pple! true: [[4, 4, 3, 2, 0]]\n"
     ]
    }
   ],
   "source": [
    "for i in range(200):\n",
    "    optimizer.zero_grad()\n",
    "    output = model(X)\n",
    "    loss = criterion(output.view(-1, input_size), Y.view(-1))\n",
    "    loss.backward()\n",
    "    optimizer.step()\n",
    "    \n",
    "    result = output.data.numpy().argmax(axis=-1) #인덱스로 된 결과\n",
    "    str_result=''.join([index_to_char[c] for c in np.squeeze(result)]) #문자로 된 결과\n",
    "    print(i, \"loss\", loss.item(), \"prediction :\", result,str_result, 'true:', y_data)"
   ]
  },
  {
   "cell_type": "code",
   "execution_count": 18,
   "metadata": {},
   "outputs": [],
   "source": [
    "sentence = \"\"\"Unsqueeze inserts a dimension of size 1 at the specified dim.\"\"\""
   ]
  },
  {
   "cell_type": "code",
   "execution_count": 19,
   "metadata": {},
   "outputs": [
    {
     "name": "stdout",
     "output_type": "stream",
     "text": [
      "['e', 'd', 'u', '.', ' ', 's', 'p', 'm', '1', 'r', 'n', 'a', 'h', '(', 't', 'i', ')', 'f', 'q', 'c', 'z', 'o']\n"
     ]
    }
   ],
   "source": [
    "char_set1 = list(set(sentence))\n",
    "print(char_set1)"
   ]
  },
  {
   "cell_type": "code",
   "execution_count": 20,
   "metadata": {},
   "outputs": [
    {
     "data": {
      "text/plain": [
       "{'e': 0,\n",
       " 'd': 1,\n",
       " 'u': 2,\n",
       " '.': 3,\n",
       " ' ': 4,\n",
       " 's': 5,\n",
       " 'p': 6,\n",
       " 'm': 7,\n",
       " '1': 8,\n",
       " 'r': 9,\n",
       " 'n': 10,\n",
       " 'a': 11,\n",
       " 'h': 12,\n",
       " '(': 13,\n",
       " 't': 14,\n",
       " 'i': 15,\n",
       " ')': 16,\n",
       " 'f': 17,\n",
       " 'q': 18,\n",
       " 'c': 19,\n",
       " 'z': 20,\n",
       " 'o': 21}"
      ]
     },
     "execution_count": 20,
     "metadata": {},
     "output_type": "execute_result"
    }
   ],
   "source": [
    "char_dic = {c:i for i, c in enumerate(char_set1)}\n",
    "char_dic"
   ]
  },
  {
   "cell_type": "code",
   "execution_count": 21,
   "metadata": {},
   "outputs": [
    {
     "name": "stdout",
     "output_type": "stream",
     "text": [
      "22\n"
     ]
    }
   ],
   "source": [
    "#char_dict 크기 구하기\n",
    "char_dic_size = len(char_dic)\n",
    "print(char_dic_size)"
   ]
  },
  {
   "cell_type": "code",
   "execution_count": 22,
   "metadata": {},
   "outputs": [],
   "source": [
    "hidden_size = char_dic_size\n",
    "sequence_length = 10 #데이터가 너무 크면 한 세트에 처리하면 숫자가 너무 커지므로 한 번에 처리할 개수를 정함(훈련데이터 batch size)\n",
    "learning_rate = 0.1\n"
   ]
  },
  {
   "cell_type": "code",
   "execution_count": 23,
   "metadata": {},
   "outputs": [
    {
     "name": "stdout",
     "output_type": "stream",
     "text": [
      "0 unsqueeze( : nsqueeze(d\n",
      "1 nsqueeze(d : squeeze(di\n",
      "2 squeeze(di : queeze(dim\n",
      "3 queeze(dim : ueeze(dim)\n",
      "4 ueeze(dim) : eeze(dim) \n",
      "5 eeze(dim)  : eze(dim) i\n",
      "6 eze(dim) i : ze(dim) in\n",
      "7 ze(dim) in : e(dim) ins\n",
      "8 e(dim) ins : (dim) inse\n",
      "9 (dim) inse : dim) inser\n",
      "10 dim) inser : im) insert\n",
      "11 im) insert : m) inserts\n",
      "12 m) inserts : ) inserts \n",
      "13 ) inserts  :  inserts a\n",
      "14  inserts a : inserts a \n",
      "15 inserts a  : nserts a d\n",
      "16 nserts a d : serts a di\n",
      "17 serts a di : erts a dim\n",
      "18 erts a dim : rts a dime\n",
      "19 rts a dime : ts a dimen\n",
      "20 ts a dimen : s a dimens\n",
      "21 s a dimens :  a dimensi\n",
      "22  a dimensi : a dimensio\n",
      "23 a dimensio :  dimension\n",
      "24  dimension : dimension \n",
      "25 dimension  : imension o\n",
      "26 imension o : mension of\n",
      "27 mension of : ension of \n",
      "28 ension of  : nsion of s\n",
      "29 nsion of s : sion of si\n",
      "30 sion of si : ion of siz\n",
      "31 ion of siz : on of size\n",
      "32 on of size : n of size \n",
      "33 n of size  :  of size 1\n",
      "34  of size 1 : of size 1 \n",
      "35 of size 1  : f size 1 a\n",
      "36 f size 1 a :  size 1 at\n",
      "37  size 1 at : size 1 at \n",
      "38 size 1 at  : ize 1 at t\n",
      "39 ize 1 at t : ze 1 at th\n",
      "40 ze 1 at th : e 1 at the\n",
      "41 e 1 at the :  1 at the \n",
      "42  1 at the  : 1 at the s\n",
      "43 1 at the s :  at the sp\n",
      "44  at the sp : at the spe\n",
      "45 at the spe : t the spec\n",
      "46 t the spec :  the speci\n",
      "47  the speci : the specif\n",
      "48 the specif : he specifi\n",
      "49 he specifi : e specifie\n",
      "50 e specifie :  specified\n",
      "51  specified : specified \n",
      "52 specified  : pecified d\n",
      "53 pecified d : ecified di\n",
      "54 ecified di : cified dim\n",
      "55 cified dim : ified dim.\n"
     ]
    }
   ],
   "source": [
    "x_data = []\n",
    "y_data = []\n",
    "\n",
    "for i in range(0, len(sentence)-sequence_length):\n",
    "    x_str = sentence[i:i+sequence_length]\n",
    "    y_str = sentence[i+1 : i+sequence_length+1]\n",
    "    print(i, x_str, ':',y_str)\n",
    "    x_data.append([char_dic[c] for c in x_str])\n",
    "    y_data.append([char_dic[c] for c in y_str])    "
   ]
  },
  {
   "cell_type": "code",
   "execution_count": 24,
   "metadata": {},
   "outputs": [
    {
     "name": "stdout",
     "output_type": "stream",
     "text": [
      "[[2, 10, 5, 18, 2, 0, 0, 20, 0, 13], [10, 5, 18, 2, 0, 0, 20, 0, 13, 1], [5, 18, 2, 0, 0, 20, 0, 13, 1, 15], [18, 2, 0, 0, 20, 0, 13, 1, 15, 7], [2, 0, 0, 20, 0, 13, 1, 15, 7, 16], [0, 0, 20, 0, 13, 1, 15, 7, 16, 4], [0, 20, 0, 13, 1, 15, 7, 16, 4, 15], [20, 0, 13, 1, 15, 7, 16, 4, 15, 10], [0, 13, 1, 15, 7, 16, 4, 15, 10, 5], [13, 1, 15, 7, 16, 4, 15, 10, 5, 0], [1, 15, 7, 16, 4, 15, 10, 5, 0, 9], [15, 7, 16, 4, 15, 10, 5, 0, 9, 14], [7, 16, 4, 15, 10, 5, 0, 9, 14, 5], [16, 4, 15, 10, 5, 0, 9, 14, 5, 4], [4, 15, 10, 5, 0, 9, 14, 5, 4, 11], [15, 10, 5, 0, 9, 14, 5, 4, 11, 4], [10, 5, 0, 9, 14, 5, 4, 11, 4, 1], [5, 0, 9, 14, 5, 4, 11, 4, 1, 15], [0, 9, 14, 5, 4, 11, 4, 1, 15, 7], [9, 14, 5, 4, 11, 4, 1, 15, 7, 0], [14, 5, 4, 11, 4, 1, 15, 7, 0, 10], [5, 4, 11, 4, 1, 15, 7, 0, 10, 5], [4, 11, 4, 1, 15, 7, 0, 10, 5, 15], [11, 4, 1, 15, 7, 0, 10, 5, 15, 21], [4, 1, 15, 7, 0, 10, 5, 15, 21, 10], [1, 15, 7, 0, 10, 5, 15, 21, 10, 4], [15, 7, 0, 10, 5, 15, 21, 10, 4, 21], [7, 0, 10, 5, 15, 21, 10, 4, 21, 17], [0, 10, 5, 15, 21, 10, 4, 21, 17, 4], [10, 5, 15, 21, 10, 4, 21, 17, 4, 5], [5, 15, 21, 10, 4, 21, 17, 4, 5, 15], [15, 21, 10, 4, 21, 17, 4, 5, 15, 20], [21, 10, 4, 21, 17, 4, 5, 15, 20, 0], [10, 4, 21, 17, 4, 5, 15, 20, 0, 4], [4, 21, 17, 4, 5, 15, 20, 0, 4, 8], [21, 17, 4, 5, 15, 20, 0, 4, 8, 4], [17, 4, 5, 15, 20, 0, 4, 8, 4, 11], [4, 5, 15, 20, 0, 4, 8, 4, 11, 14], [5, 15, 20, 0, 4, 8, 4, 11, 14, 4], [15, 20, 0, 4, 8, 4, 11, 14, 4, 14], [20, 0, 4, 8, 4, 11, 14, 4, 14, 12], [0, 4, 8, 4, 11, 14, 4, 14, 12, 0], [4, 8, 4, 11, 14, 4, 14, 12, 0, 4], [8, 4, 11, 14, 4, 14, 12, 0, 4, 5], [4, 11, 14, 4, 14, 12, 0, 4, 5, 6], [11, 14, 4, 14, 12, 0, 4, 5, 6, 0], [14, 4, 14, 12, 0, 4, 5, 6, 0, 19], [4, 14, 12, 0, 4, 5, 6, 0, 19, 15], [14, 12, 0, 4, 5, 6, 0, 19, 15, 17], [12, 0, 4, 5, 6, 0, 19, 15, 17, 15], [0, 4, 5, 6, 0, 19, 15, 17, 15, 0], [4, 5, 6, 0, 19, 15, 17, 15, 0, 1], [5, 6, 0, 19, 15, 17, 15, 0, 1, 4], [6, 0, 19, 15, 17, 15, 0, 1, 4, 1], [0, 19, 15, 17, 15, 0, 1, 4, 1, 15], [19, 15, 17, 15, 0, 1, 4, 1, 15, 7]]\n",
      "[[10, 5, 18, 2, 0, 0, 20, 0, 13, 1], [5, 18, 2, 0, 0, 20, 0, 13, 1, 15], [18, 2, 0, 0, 20, 0, 13, 1, 15, 7], [2, 0, 0, 20, 0, 13, 1, 15, 7, 16], [0, 0, 20, 0, 13, 1, 15, 7, 16, 4], [0, 20, 0, 13, 1, 15, 7, 16, 4, 15], [20, 0, 13, 1, 15, 7, 16, 4, 15, 10], [0, 13, 1, 15, 7, 16, 4, 15, 10, 5], [13, 1, 15, 7, 16, 4, 15, 10, 5, 0], [1, 15, 7, 16, 4, 15, 10, 5, 0, 9], [15, 7, 16, 4, 15, 10, 5, 0, 9, 14], [7, 16, 4, 15, 10, 5, 0, 9, 14, 5], [16, 4, 15, 10, 5, 0, 9, 14, 5, 4], [4, 15, 10, 5, 0, 9, 14, 5, 4, 11], [15, 10, 5, 0, 9, 14, 5, 4, 11, 4], [10, 5, 0, 9, 14, 5, 4, 11, 4, 1], [5, 0, 9, 14, 5, 4, 11, 4, 1, 15], [0, 9, 14, 5, 4, 11, 4, 1, 15, 7], [9, 14, 5, 4, 11, 4, 1, 15, 7, 0], [14, 5, 4, 11, 4, 1, 15, 7, 0, 10], [5, 4, 11, 4, 1, 15, 7, 0, 10, 5], [4, 11, 4, 1, 15, 7, 0, 10, 5, 15], [11, 4, 1, 15, 7, 0, 10, 5, 15, 21], [4, 1, 15, 7, 0, 10, 5, 15, 21, 10], [1, 15, 7, 0, 10, 5, 15, 21, 10, 4], [15, 7, 0, 10, 5, 15, 21, 10, 4, 21], [7, 0, 10, 5, 15, 21, 10, 4, 21, 17], [0, 10, 5, 15, 21, 10, 4, 21, 17, 4], [10, 5, 15, 21, 10, 4, 21, 17, 4, 5], [5, 15, 21, 10, 4, 21, 17, 4, 5, 15], [15, 21, 10, 4, 21, 17, 4, 5, 15, 20], [21, 10, 4, 21, 17, 4, 5, 15, 20, 0], [10, 4, 21, 17, 4, 5, 15, 20, 0, 4], [4, 21, 17, 4, 5, 15, 20, 0, 4, 8], [21, 17, 4, 5, 15, 20, 0, 4, 8, 4], [17, 4, 5, 15, 20, 0, 4, 8, 4, 11], [4, 5, 15, 20, 0, 4, 8, 4, 11, 14], [5, 15, 20, 0, 4, 8, 4, 11, 14, 4], [15, 20, 0, 4, 8, 4, 11, 14, 4, 14], [20, 0, 4, 8, 4, 11, 14, 4, 14, 12], [0, 4, 8, 4, 11, 14, 4, 14, 12, 0], [4, 8, 4, 11, 14, 4, 14, 12, 0, 4], [8, 4, 11, 14, 4, 14, 12, 0, 4, 5], [4, 11, 14, 4, 14, 12, 0, 4, 5, 6], [11, 14, 4, 14, 12, 0, 4, 5, 6, 0], [14, 4, 14, 12, 0, 4, 5, 6, 0, 19], [4, 14, 12, 0, 4, 5, 6, 0, 19, 15], [14, 12, 0, 4, 5, 6, 0, 19, 15, 17], [12, 0, 4, 5, 6, 0, 19, 15, 17, 15], [0, 4, 5, 6, 0, 19, 15, 17, 15, 0], [4, 5, 6, 0, 19, 15, 17, 15, 0, 1], [5, 6, 0, 19, 15, 17, 15, 0, 1, 4], [6, 0, 19, 15, 17, 15, 0, 1, 4, 1], [0, 19, 15, 17, 15, 0, 1, 4, 1, 15], [19, 15, 17, 15, 0, 1, 4, 1, 15, 7], [15, 17, 15, 0, 1, 4, 1, 15, 7, 3]]\n"
     ]
    }
   ],
   "source": [
    "print(x_data)\n",
    "print(y_data)"
   ]
  },
  {
   "cell_type": "code",
   "execution_count": 25,
   "metadata": {},
   "outputs": [
    {
     "name": "stdout",
     "output_type": "stream",
     "text": [
      "tensor([[[0., 0., 1.,  ..., 0., 0., 0.],\n",
      "         [0., 0., 0.,  ..., 0., 0., 0.],\n",
      "         [0., 0., 0.,  ..., 0., 0., 0.],\n",
      "         ...,\n",
      "         [0., 0., 0.,  ..., 0., 1., 0.],\n",
      "         [1., 0., 0.,  ..., 0., 0., 0.],\n",
      "         [0., 0., 0.,  ..., 0., 0., 0.]],\n",
      "\n",
      "        [[0., 0., 0.,  ..., 0., 0., 0.],\n",
      "         [0., 0., 0.,  ..., 0., 0., 0.],\n",
      "         [0., 0., 0.,  ..., 0., 0., 0.],\n",
      "         ...,\n",
      "         [1., 0., 0.,  ..., 0., 0., 0.],\n",
      "         [0., 0., 0.,  ..., 0., 0., 0.],\n",
      "         [0., 1., 0.,  ..., 0., 0., 0.]],\n",
      "\n",
      "        [[0., 0., 0.,  ..., 0., 0., 0.],\n",
      "         [0., 0., 0.,  ..., 0., 0., 0.],\n",
      "         [0., 0., 1.,  ..., 0., 0., 0.],\n",
      "         ...,\n",
      "         [0., 0., 0.,  ..., 0., 0., 0.],\n",
      "         [0., 1., 0.,  ..., 0., 0., 0.],\n",
      "         [0., 0., 0.,  ..., 0., 0., 0.]],\n",
      "\n",
      "        ...,\n",
      "\n",
      "        [[0., 0., 0.,  ..., 0., 0., 0.],\n",
      "         [1., 0., 0.,  ..., 0., 0., 0.],\n",
      "         [0., 0., 0.,  ..., 1., 0., 0.],\n",
      "         ...,\n",
      "         [0., 1., 0.,  ..., 0., 0., 0.],\n",
      "         [0., 0., 0.,  ..., 0., 0., 0.],\n",
      "         [0., 1., 0.,  ..., 0., 0., 0.]],\n",
      "\n",
      "        [[1., 0., 0.,  ..., 0., 0., 0.],\n",
      "         [0., 0., 0.,  ..., 1., 0., 0.],\n",
      "         [0., 0., 0.,  ..., 0., 0., 0.],\n",
      "         ...,\n",
      "         [0., 0., 0.,  ..., 0., 0., 0.],\n",
      "         [0., 1., 0.,  ..., 0., 0., 0.],\n",
      "         [0., 0., 0.,  ..., 0., 0., 0.]],\n",
      "\n",
      "        [[0., 0., 0.,  ..., 1., 0., 0.],\n",
      "         [0., 0., 0.,  ..., 0., 0., 0.],\n",
      "         [0., 0., 0.,  ..., 0., 0., 0.],\n",
      "         ...,\n",
      "         [0., 1., 0.,  ..., 0., 0., 0.],\n",
      "         [0., 0., 0.,  ..., 0., 0., 0.],\n",
      "         [0., 0., 0.,  ..., 0., 0., 0.]]])\n",
      "tensor([[10,  5, 18,  2,  0,  0, 20,  0, 13,  1],\n",
      "        [ 5, 18,  2,  0,  0, 20,  0, 13,  1, 15],\n",
      "        [18,  2,  0,  0, 20,  0, 13,  1, 15,  7],\n",
      "        [ 2,  0,  0, 20,  0, 13,  1, 15,  7, 16],\n",
      "        [ 0,  0, 20,  0, 13,  1, 15,  7, 16,  4],\n",
      "        [ 0, 20,  0, 13,  1, 15,  7, 16,  4, 15],\n",
      "        [20,  0, 13,  1, 15,  7, 16,  4, 15, 10],\n",
      "        [ 0, 13,  1, 15,  7, 16,  4, 15, 10,  5],\n",
      "        [13,  1, 15,  7, 16,  4, 15, 10,  5,  0],\n",
      "        [ 1, 15,  7, 16,  4, 15, 10,  5,  0,  9],\n",
      "        [15,  7, 16,  4, 15, 10,  5,  0,  9, 14],\n",
      "        [ 7, 16,  4, 15, 10,  5,  0,  9, 14,  5],\n",
      "        [16,  4, 15, 10,  5,  0,  9, 14,  5,  4],\n",
      "        [ 4, 15, 10,  5,  0,  9, 14,  5,  4, 11],\n",
      "        [15, 10,  5,  0,  9, 14,  5,  4, 11,  4],\n",
      "        [10,  5,  0,  9, 14,  5,  4, 11,  4,  1],\n",
      "        [ 5,  0,  9, 14,  5,  4, 11,  4,  1, 15],\n",
      "        [ 0,  9, 14,  5,  4, 11,  4,  1, 15,  7],\n",
      "        [ 9, 14,  5,  4, 11,  4,  1, 15,  7,  0],\n",
      "        [14,  5,  4, 11,  4,  1, 15,  7,  0, 10],\n",
      "        [ 5,  4, 11,  4,  1, 15,  7,  0, 10,  5],\n",
      "        [ 4, 11,  4,  1, 15,  7,  0, 10,  5, 15],\n",
      "        [11,  4,  1, 15,  7,  0, 10,  5, 15, 21],\n",
      "        [ 4,  1, 15,  7,  0, 10,  5, 15, 21, 10],\n",
      "        [ 1, 15,  7,  0, 10,  5, 15, 21, 10,  4],\n",
      "        [15,  7,  0, 10,  5, 15, 21, 10,  4, 21],\n",
      "        [ 7,  0, 10,  5, 15, 21, 10,  4, 21, 17],\n",
      "        [ 0, 10,  5, 15, 21, 10,  4, 21, 17,  4],\n",
      "        [10,  5, 15, 21, 10,  4, 21, 17,  4,  5],\n",
      "        [ 5, 15, 21, 10,  4, 21, 17,  4,  5, 15],\n",
      "        [15, 21, 10,  4, 21, 17,  4,  5, 15, 20],\n",
      "        [21, 10,  4, 21, 17,  4,  5, 15, 20,  0],\n",
      "        [10,  4, 21, 17,  4,  5, 15, 20,  0,  4],\n",
      "        [ 4, 21, 17,  4,  5, 15, 20,  0,  4,  8],\n",
      "        [21, 17,  4,  5, 15, 20,  0,  4,  8,  4],\n",
      "        [17,  4,  5, 15, 20,  0,  4,  8,  4, 11],\n",
      "        [ 4,  5, 15, 20,  0,  4,  8,  4, 11, 14],\n",
      "        [ 5, 15, 20,  0,  4,  8,  4, 11, 14,  4],\n",
      "        [15, 20,  0,  4,  8,  4, 11, 14,  4, 14],\n",
      "        [20,  0,  4,  8,  4, 11, 14,  4, 14, 12],\n",
      "        [ 0,  4,  8,  4, 11, 14,  4, 14, 12,  0],\n",
      "        [ 4,  8,  4, 11, 14,  4, 14, 12,  0,  4],\n",
      "        [ 8,  4, 11, 14,  4, 14, 12,  0,  4,  5],\n",
      "        [ 4, 11, 14,  4, 14, 12,  0,  4,  5,  6],\n",
      "        [11, 14,  4, 14, 12,  0,  4,  5,  6,  0],\n",
      "        [14,  4, 14, 12,  0,  4,  5,  6,  0, 19],\n",
      "        [ 4, 14, 12,  0,  4,  5,  6,  0, 19, 15],\n",
      "        [14, 12,  0,  4,  5,  6,  0, 19, 15, 17],\n",
      "        [12,  0,  4,  5,  6,  0, 19, 15, 17, 15],\n",
      "        [ 0,  4,  5,  6,  0, 19, 15, 17, 15,  0],\n",
      "        [ 4,  5,  6,  0, 19, 15, 17, 15,  0,  1],\n",
      "        [ 5,  6,  0, 19, 15, 17, 15,  0,  1,  4],\n",
      "        [ 6,  0, 19, 15, 17, 15,  0,  1,  4,  1],\n",
      "        [ 0, 19, 15, 17, 15,  0,  1,  4,  1, 15],\n",
      "        [19, 15, 17, 15,  0,  1,  4,  1, 15,  7],\n",
      "        [15, 17, 15,  0,  1,  4,  1, 15,  7,  3]])\n"
     ]
    }
   ],
   "source": [
    "x_one_hot = [np.eye(char_dic_size)[x] for x in x_data]\n",
    "X = torch.FloatTensor(x_one_hot)\n",
    "Y = torch.LongTensor(y_data)\n",
    "print(X)\n",
    "print(Y)"
   ]
  },
  {
   "cell_type": "code",
   "execution_count": 26,
   "metadata": {},
   "outputs": [
    {
     "name": "stdout",
     "output_type": "stream",
     "text": [
      "torch.Size([56, 10, 22]) torch.Size([56, 10])\n"
     ]
    }
   ],
   "source": [
    "print(X.size(), Y.size())"
   ]
  },
  {
   "cell_type": "code",
   "execution_count": 27,
   "metadata": {},
   "outputs": [],
   "source": [
    "#모델 만들기\n",
    "class Net(nn.Module):\n",
    "    def __init__(self, input_dim, hidden_dim, layers):\n",
    "        super(Net, self).__init__()\n",
    "        self.rnn = nn.RNN(input_dim, hidden_dim, num_layers=layers,\n",
    "                        batch_first=True)\n",
    "        self.fc = nn.Linear(hidden_dim, hidden_dim, bias=True)\n",
    "        \n",
    "    def forward(self, x):\n",
    "        x, _status = self.rnn(x)\n",
    "        x= self.fc(x)\n",
    "        return x"
   ]
  },
  {
   "cell_type": "code",
   "execution_count": 28,
   "metadata": {},
   "outputs": [],
   "source": [
    "model = Net(char_dic_size, hidden_size, 2) #층을 2개 쌓겠다.\n",
    "criterion = nn.CrossEntropyLoss()\n",
    "optimizer = optim.Adam(model.parameters(), lr=learning_rate)"
   ]
  },
  {
   "cell_type": "code",
   "execution_count": 29,
   "metadata": {},
   "outputs": [
    {
     "name": "stdout",
     "output_type": "stream",
     "text": [
      "tensor([[[-2.6461e-02, -4.9260e-02, -3.4677e-01,  ..., -2.0541e-01,\n",
      "          -2.5336e-02, -6.2542e-02],\n",
      "         [-7.9147e-02, -2.8656e-02, -4.1155e-01,  ..., -2.8943e-01,\n",
      "          -5.5641e-02, -2.6496e-02],\n",
      "         [-6.3718e-02, -1.8334e-02, -3.3420e-01,  ..., -3.1300e-01,\n",
      "          -5.5111e-02, -1.8697e-03],\n",
      "         ...,\n",
      "         [-2.5730e-02,  1.8576e-03, -3.4227e-01,  ..., -2.5825e-01,\n",
      "          -3.7877e-02,  2.0232e-02],\n",
      "         [-3.4470e-02, -9.2195e-02, -3.6098e-01,  ..., -3.0089e-01,\n",
      "          -2.3427e-02,  1.1835e-02],\n",
      "         [-3.9173e-02,  3.2559e-02, -2.7031e-01,  ..., -2.7300e-01,\n",
      "          -5.3820e-02, -7.1723e-03]],\n",
      "\n",
      "        [[-2.5971e-02, -2.7644e-02, -3.8409e-01,  ..., -2.1002e-01,\n",
      "          -5.3283e-03, -2.7915e-02],\n",
      "         [-5.5836e-02, -1.2144e-02, -3.7001e-01,  ..., -3.3450e-01,\n",
      "          -4.0564e-02, -2.3446e-02],\n",
      "         [-4.1748e-03, -1.3446e-02, -3.1421e-01,  ..., -3.1843e-01,\n",
      "          -8.2912e-02, -2.0390e-02],\n",
      "         ...,\n",
      "         [-3.6599e-02, -9.0485e-02, -3.6012e-01,  ..., -3.0068e-01,\n",
      "          -2.3858e-02,  9.9171e-03],\n",
      "         [-4.0778e-02,  3.3122e-02, -2.6896e-01,  ..., -2.7250e-01,\n",
      "          -5.3275e-02, -8.5944e-03],\n",
      "         [-5.6268e-02,  5.4200e-02, -2.8443e-01,  ..., -1.8820e-01,\n",
      "          -1.4467e-01,  5.9801e-02]],\n",
      "\n",
      "        [[-5.1104e-02,  3.6807e-02, -3.3825e-01,  ..., -2.4632e-01,\n",
      "          -3.9860e-02, -3.4804e-02],\n",
      "         [-1.8266e-02,  1.9824e-02, -2.9663e-01,  ..., -3.2475e-01,\n",
      "          -5.9211e-02, -4.3920e-03],\n",
      "         [-2.9126e-02, -5.0608e-02, -2.6376e-01,  ..., -2.5103e-01,\n",
      "          -1.2781e-01,  4.2495e-03],\n",
      "         ...,\n",
      "         [-4.4555e-02,  3.5884e-02, -2.6641e-01,  ..., -2.7182e-01,\n",
      "          -5.3499e-02, -1.1534e-02],\n",
      "         [-5.9011e-02,  5.5208e-02, -2.8239e-01,  ..., -1.8741e-01,\n",
      "          -1.4413e-01,  5.7464e-02],\n",
      "         [-5.7112e-03, -4.8877e-02, -2.3205e-01,  ..., -2.0176e-01,\n",
      "          -5.5125e-03,  1.4261e-02]],\n",
      "\n",
      "        ...,\n",
      "\n",
      "        [[ 8.0572e-03, -7.4875e-03, -3.8515e-01,  ..., -1.9499e-01,\n",
      "          -1.9621e-02, -1.0228e-01],\n",
      "         [-6.1825e-02, -6.3694e-03, -3.5703e-01,  ..., -3.4147e-01,\n",
      "           4.7195e-02, -1.8451e-03],\n",
      "         [-3.6502e-02,  7.0944e-02, -3.5114e-01,  ..., -2.3882e-01,\n",
      "          -5.5490e-02, -1.0578e-01],\n",
      "         ...,\n",
      "         [-2.4219e-02,  8.7690e-03, -3.3008e-01,  ..., -1.9704e-01,\n",
      "          -6.9822e-02,  1.9233e-02],\n",
      "         [ 1.0463e-02, -7.3191e-02, -3.9278e-01,  ..., -2.0675e-01,\n",
      "          -2.2971e-02,  6.7519e-03],\n",
      "         [ 6.1605e-02,  1.2450e-02, -2.7724e-01,  ..., -2.5348e-01,\n",
      "          -7.4736e-02,  6.1985e-02]],\n",
      "\n",
      "        [[-5.3258e-02, -1.8095e-02, -3.7671e-01,  ..., -2.5818e-01,\n",
      "           4.5592e-04, -2.2558e-02],\n",
      "         [-5.3069e-02,  7.5181e-02, -3.5559e-01,  ..., -2.5442e-01,\n",
      "          -1.4774e-02, -1.0040e-01],\n",
      "         [-4.8056e-02,  7.0309e-02, -1.8655e-01,  ..., -2.4685e-01,\n",
      "          -2.0750e-02, -6.5615e-03],\n",
      "         ...,\n",
      "         [ 8.8406e-03, -7.1707e-02, -3.9127e-01,  ..., -2.0613e-01,\n",
      "          -2.3380e-02,  5.6201e-03],\n",
      "         [ 6.0642e-02,  1.2658e-02, -2.7605e-01,  ..., -2.5298e-01,\n",
      "          -7.4405e-02,  6.1218e-02],\n",
      "         [ 5.8764e-02, -4.4444e-02, -2.6075e-01,  ..., -2.2719e-01,\n",
      "           6.7016e-04,  4.9136e-02]],\n",
      "\n",
      "        [[-2.2483e-02,  9.7203e-02, -3.3920e-01,  ..., -1.9297e-01,\n",
      "          -4.5425e-02, -9.2652e-02],\n",
      "         [-4.1561e-02,  6.4583e-02, -2.0461e-01,  ..., -2.4924e-01,\n",
      "           2.7401e-02,  3.0496e-03],\n",
      "         [-3.4428e-02, -2.1960e-02, -3.3210e-01,  ..., -2.6133e-01,\n",
      "          -6.1467e-02,  4.9757e-02],\n",
      "         ...,\n",
      "         [ 5.8910e-02,  1.4161e-02, -2.7568e-01,  ..., -2.5240e-01,\n",
      "          -7.4988e-02,  6.0182e-02],\n",
      "         [ 5.7636e-02, -4.4064e-02, -2.5958e-01,  ..., -2.2641e-01,\n",
      "           5.7738e-04,  4.7671e-02],\n",
      "         [ 3.5173e-02, -1.1395e-01, -4.9715e-01,  ..., -2.7922e-01,\n",
      "          -2.6534e-02,  3.6669e-02]]], grad_fn=<AddBackward0>)\n"
     ]
    }
   ],
   "source": [
    "outputs = model(X)\n",
    "print(outputs)"
   ]
  },
  {
   "cell_type": "code",
   "execution_count": 30,
   "metadata": {},
   "outputs": [
    {
     "name": "stdout",
     "output_type": "stream",
     "text": [
      "tensor([[-2.6461e-02, -4.9260e-02, -3.4677e-01, -1.6893e-01, -1.1800e-01,\n",
      "          4.4620e-02,  3.4957e-01, -3.5988e-02,  2.1667e-01, -1.7786e-02,\n",
      "         -3.0834e-01,  2.3588e-01,  1.3072e-01, -6.8913e-02, -1.4790e-01,\n",
      "          3.7999e-01, -1.1465e-01, -1.7133e-01, -1.1635e-01, -2.0541e-01,\n",
      "         -2.5336e-02, -6.2542e-02],\n",
      "        [-7.9147e-02, -2.8656e-02, -4.1155e-01, -2.1167e-01, -1.2042e-01,\n",
      "          1.5753e-01,  3.1803e-01,  7.0349e-02,  1.3651e-01,  2.5681e-04,\n",
      "         -1.7536e-01,  2.3473e-01, -7.9572e-02, -4.5832e-02, -6.1210e-02,\n",
      "          2.3847e-01, -7.3105e-02, -8.4822e-02,  1.0085e-03, -2.8943e-01,\n",
      "         -5.5641e-02, -2.6496e-02],\n",
      "        [-6.3718e-02, -1.8334e-02, -3.3420e-01, -1.8789e-01, -1.2082e-01,\n",
      "          2.1422e-01,  3.5547e-01,  1.8595e-01,  5.3372e-02, -5.5071e-02,\n",
      "         -2.5450e-02,  8.4668e-02, -4.4475e-03, -4.4171e-02, -4.8311e-02,\n",
      "          2.5404e-01, -2.5344e-02, -1.1283e-01,  2.6467e-02, -3.1300e-01,\n",
      "         -5.5111e-02, -1.8697e-03],\n",
      "        [ 1.1063e-02, -8.5048e-04, -2.9104e-01, -1.4722e-01, -1.0094e-01,\n",
      "          2.1988e-01,  2.5909e-01,  1.7885e-01,  1.2422e-01, -3.3279e-03,\n",
      "         -1.6856e-01,  2.5962e-01,  5.4083e-02, -3.4678e-02, -1.0638e-01,\n",
      "          2.5877e-01, -8.2364e-02, -2.0309e-01,  1.3272e-02, -2.9156e-01,\n",
      "         -8.1863e-02, -1.4687e-02],\n",
      "        [-1.4066e-02, -6.0990e-02, -2.6891e-01, -1.5068e-01, -6.5131e-02,\n",
      "          1.5313e-01,  3.9662e-01,  1.4442e-01,  1.9921e-01, -6.6732e-02,\n",
      "         -2.5459e-01,  3.2471e-01,  3.8316e-02,  3.4556e-02, -1.4502e-01,\n",
      "          2.5302e-01, -1.2384e-01, -2.1564e-01,  3.0620e-02, -2.4760e-01,\n",
      "         -9.1113e-02,  2.9689e-02],\n",
      "        [-5.5228e-02, -4.1775e-02, -3.8973e-01, -2.3564e-01, -6.7037e-02,\n",
      "          2.3244e-01,  2.9133e-01,  1.7553e-01,  1.6697e-01, -7.2011e-02,\n",
      "         -3.5636e-03,  2.4925e-01,  5.1390e-02, -9.3070e-03, -5.3450e-02,\n",
      "          2.5238e-01, -6.6354e-02, -1.5813e-01,  5.0916e-02, -3.0694e-01,\n",
      "         -8.4799e-02,  5.2313e-02],\n",
      "        [-4.1883e-02, -5.0926e-02, -3.5656e-01, -2.0960e-01, -6.7780e-02,\n",
      "          2.4585e-01,  2.2396e-01,  1.1908e-01,  2.2102e-01, -2.8399e-02,\n",
      "         -4.0320e-02,  2.5979e-01,  8.7351e-02, -2.7469e-02, -3.3132e-02,\n",
      "          2.1545e-01, -4.2542e-02, -2.0200e-01,  3.2632e-02, -2.7252e-01,\n",
      "          4.0931e-02,  3.4550e-02],\n",
      "        [-2.5730e-02,  1.8576e-03, -3.4227e-01, -1.8661e-01, -5.5898e-02,\n",
      "          1.7251e-01,  2.5836e-01,  1.4347e-01,  1.8875e-01,  4.1292e-03,\n",
      "         -1.1010e-01,  2.6619e-01,  4.6889e-02, -5.2255e-02, -9.0859e-02,\n",
      "          2.6954e-01, -7.4334e-02, -1.8037e-01, -6.5455e-03, -2.5825e-01,\n",
      "         -3.7877e-02,  2.0232e-02],\n",
      "        [-3.4470e-02, -9.2195e-02, -3.6098e-01, -2.2633e-01, -1.1381e-01,\n",
      "          2.4540e-01,  3.0150e-01,  1.1984e-01,  2.0116e-01, -3.2439e-02,\n",
      "         -9.1994e-02,  2.3926e-01,  8.6942e-02, -1.8189e-02, -4.5208e-02,\n",
      "          2.2545e-01, -6.8473e-02, -2.1184e-01,  3.3872e-02, -3.0089e-01,\n",
      "         -2.3427e-02,  1.1835e-02],\n",
      "        [-3.9173e-02,  3.2559e-02, -2.7031e-01, -1.9532e-01, -3.4752e-02,\n",
      "          2.2300e-01,  3.5353e-01,  1.6880e-01,  1.2655e-01, -5.5191e-02,\n",
      "         -1.0797e-01,  2.3844e-01,  1.8095e-02, -1.5007e-02, -7.7267e-02,\n",
      "          2.9609e-01, -8.8461e-02, -1.5412e-01,  3.5910e-02, -2.7300e-01,\n",
      "         -5.3820e-02, -7.1723e-03]], grad_fn=<SelectBackward0>)\n"
     ]
    }
   ],
   "source": [
    "outputs = model(X)\n",
    "print(outputs[0])"
   ]
  },
  {
   "cell_type": "code",
   "execution_count": 31,
   "metadata": {},
   "outputs": [],
   "source": [
    "# result = outputs.view(-1, char_dic_size)\n",
    "# print(result.size())"
   ]
  },
  {
   "cell_type": "code",
   "execution_count": 32,
   "metadata": {},
   "outputs": [
    {
     "data": {
      "text/plain": [
       "'python'"
      ]
     },
     "execution_count": 32,
     "metadata": {},
     "output_type": "execute_result"
    }
   ],
   "source": [
    "a = ['p', 'y', 't','h','o','n']\n",
    "a1 = ''.join(a)\n",
    "a1"
   ]
  },
  {
   "cell_type": "code",
   "execution_count": 33,
   "metadata": {},
   "outputs": [
    {
     "name": "stdout",
     "output_type": "stream",
     "text": [
      "ippappaippppppipppipppppipppppppippippppppipppppppsipisipppippppp\n",
      "iiiiiiiiiiiiiiiiiiiiiiiiiiiiiiiiiiiiiiiiiiiiiiiiiiiiiiiiiiiiiiiii\n",
      "ezuaizuuiz1ph 1pezz1ipa z urzzizp z1zuizez1pe zuhzz1peezuhez1pimr\n",
      "seuiezis eezs . ezezezezezor ezueerezuzzezuemzezs zspeez.imesueze\n",
      "ietiei e iame i ee ee e e me e  e ie ieme s  ie e   eeee e e ieme\n",
      "te iee e oime i ee ee i iete s os te i te s  i ti  si ee ime d te\n",
      "te ate s aim) ateeete a adm) s me oi oime si tn de sne s ipe aime\n",
      "me a e s a m) afa s s a a m) s ae oi ofze a ans de sfa sfa s aims\n",
      "me de oi oiz) onzezmenhnzim) siz) dimdnz) 1ffizdne afze1fncd sim)\n",
      "me de de dime ifeedts d dime side oi sife 1 de  ie iiecifeci sime\n",
      "eeestr s dims ifser s s dime s deeoi sime 1 dtstie i ecifec) dime\n",
      "eeeser s aime inserte s aime sioe oi sioe s atsthe i eeifee) dime\n",
      "ee serze aime ipseres a aime sioi of sioe s atst e speeifee) aime\n",
      "esndeeze dim) ipsnrts a dime sion of size s atsthe specifies dime\n",
      "esndeeze dim) dpserts a dime sion of size s at the specified dime\n",
      "esiueeze(dim) inserts d dime sion of size 1 at the siecified dim)\n",
      "esoueeze(dim) inserts a dimension of size 1 at the specified dim)\n",
      "e oueeze(dim) inserts a dimension of size 1 at the specified aime\n",
      "e oueeze(dim) inserts a dimension of size 1 at the specified aim)\n",
      "e oueeze(dim) inserts a dimension of size 1 at the specified aim)\n",
      "e queeze(dim) inserts a dimension of size 1 at the specified dim)\n",
      "e queeze(dim) inserts a dimension of size 1 at the specified dim)\n",
      "e queeze(dim) inserts a dimension of size 1 at the specified dim)\n",
      "esqueeze(dim) inserts a dimension of size 1 at the specified dim)\n",
      "esqueeze(dim) inserts a dimension of size 1 at the specified dim)\n",
      "esqueeze(dim) inserts a dimension of size 1 at the specified dim)\n",
      "esqueeze(dim) inserts a dimension of size 1 at the specified dim)\n",
      "esqueeze(dim) inserts a dimension of size 1 at the specified dim)\n",
      "esqueeze(dim) inserts a dimension of size 1 at the specified dim)\n",
      "esqueeze(dim) inserts a dimension of size 1 at the specified dim)\n",
      "esqueeze(dim) inserts a dimension of size 1 at the specified dim)\n",
      "esqueeze(dim) inserts a dimension of size 1 at the specified dim)\n",
      "esqueeze(dim) inserts a dimension of size 1 at the specified dim)\n",
      "esqueeze(dim) inserts a dimension of size 1 at the specified dim)\n",
      "esqueeze(dim) inserts a dimension of size 1 at the specified dim)\n",
      "esqueeze(dim) inserts a dimension of size 1 at the specified dim)\n",
      "esqueeze(dim) inserts a dimension of size 1 at the specified dim)\n",
      "esqueeze(dim) inserts a dimension of size 1 at the specified dim)\n",
      "esqueeze(dim) inserts a dimension of size 1 at the specified dim)\n",
      "esqueeze(dim) inserts a dimension of size 1 at the specified dim)\n",
      "nsqueeze(dim) inserts a dimension of size 1 at the specified dim)\n",
      "nsqueeze(dim) inserts a dimension of size 1 at the specified dim)\n",
      "nsqueeze(dim) inserts a dimension of size 1 at the specified dim)\n",
      "nsqueeze(dim) inserts a dimension of size 1 at the specified dim)\n",
      "nsqueeze(dim) inserts a dimension of size 1 at the specified dim)\n",
      "nsqueeze(dim) inserts a dimension of size 1 at the specified dim)\n",
      "nsqueeze(dim) inserts a dimension of size 1 at the specified dim)\n",
      "nsqueeze(dim) inserts a dimension of size 1 at the specified dim)\n",
      "nsqueeze(dim) inserts a dimension of size 1 at the specified dim)\n",
      "esqueeze(dim) inserts a dimension of size 1 at the specified dim)\n",
      "esqueeze(dim) inserts a dimension of size 1 at the specified dim)\n",
      "esqueeze(dim) inserts a dimension of size 1 at the specified dim)\n",
      "esqueeze(dim) inserts a dimension of size 1 at the specified dim)\n",
      "esqueeze(dim) inserts a dimension of size 1 at the specified dim)\n",
      "esqueeze(dim) inserts a dimension of size 1 at the specified dim)\n",
      "esqueeze(dim) inserts a dimension of size 1 at the specified dim)\n",
      "esqueeze(dim) inserts a dimension of size 1 at the specified dim.\n",
      "esqueeze(dim) inserts a dimension of size 1 at the specified dim.\n",
      "esqueeze(dim) inserts a dimension of size 1 at the specified dim.\n",
      "esqueeze(dim) inserts a dimension of size 1 at the specified dim.\n",
      "esqueeze(dim) inserts a dimension of size 1 at the specified dim.\n",
      "nsqueeze(dim) inserts a dimension of size 1 at the specified dim.\n",
      "nsqueeze(dim) inserts a dimension of size 1 at the specified dim.\n",
      "nsqueeze(dim) inserts a dimension of size 1 at the specified dim.\n",
      "nsqueeze(dim) inserts a dimension of size 1 at the specified dim.\n",
      "nsqueeze(dim) inserts a dimension of size 1 at the specified dim.\n",
      "nsqueeze(dim) inserts a dimension of size 1 at the specified dim.\n",
      "esqueeze(dim) inserts a dimension of size 1 at the specified dim.\n",
      "esqueeze(dim) inserts a dimension of size 1 at the specified dim.\n",
      "esqueeze(dim) inserts a dimension of size 1 at the specified dim.\n",
      "esqueeze(dim) inserts a dimension of size 1 at the specified dim.\n",
      "esqueeze(dim) inserts a dimension of size 1 at the specified dim.\n",
      "esqueeze(dim) inserts a dimension of size 1 at the specified dim.\n",
      "esqueeze(dim) inserts a dimension of size 1 at the specified dim.\n",
      "esqueeze(dim) inserts a dimension of size 1 at the specified dim.\n",
      "nsqueeze(dim) inserts a dimension of size 1 at the specified dim.\n",
      "nsqueeze(dim) inserts a dimension of size 1 at the specified dim.\n",
      "nsqueeze(dim) inserts a dimension of size 1 at the specified dim.\n",
      "nsqueeze(dim) inserts a dimension of size 1 at the specified dim.\n",
      "esqueeze(dim) inserts a dimension of size 1 at the specified dim.\n",
      "esqueeze(dim) inserts a dimension of size 1 at the specified dim.\n",
      "esqueeze(dim) inserts a dimension of size 1 at the specified dim.\n",
      "esqueeze(dim) inserts a dimension of size 1 at the specified dim.\n",
      "esqueeze(dim) inserts a dimension of size 1 at the specified dim.\n",
      "nsqueeze(dim) inserts a dimension of size 1 at the specified dim.\n",
      "esqueeze(dim) inserts a dimension of size 1 at the specified dim.\n",
      "esqueeze(dim) inserts a dimension of size 1 at the specified dim.\n",
      "nsqueeze(dim) inserts a dimension of size 1 at the specified dim.\n",
      "nsqueeze(dim) inserts a dimension of size 1 at the specified dim.\n",
      "esqueeze(dim) inserts a dimension of size 1 at the specified dim.\n",
      "esqueeze(dim) inserts a dimension of size 1 at the specified dim.\n",
      "esqueeze(dim) inserts a dimension of size 1 at the specified dim.\n",
      "nsqueeze(dim) inserts a dimension of size 1 at the specified dim.\n",
      "esqueeze(dim) inserts a dimension of size 1 at the specified dim.\n",
      "esqueeze(dim) inserts a dimension of size 1 at the specified dim.\n",
      "nsqueeze(dim) inserts a dimension of size 1 at the specified dim.\n",
      "nsqueeze(dim) inserts a dimension of size 1 at the specified dim.\n",
      "nsqueeze(dim) inserts a dimension of size 1 at the specified dim.\n",
      "esqueeze(dim) inserts a dimension of size 1 at the specified dim.\n",
      "esqueeze(dim) inserts a dimension of size 1 at the specified dim.\n",
      "esqueeze(dim) inserts a dimension of size 1 at the specified dim.\n",
      "nsqueeze(dim) inserts a dimension of size 1 at the specified dim.\n",
      "esqueeze(dim) inserts a dimension of size 1 at the specified dim.\n",
      "esqueeze(dim) inserts a dimension of size 1 at the specified dim.\n",
      "esqueeze(dim) inserts a dimension of size 1 at the specified dim.\n",
      "nsqueeze(dim) inserts a dimension of size 1 at the specified dim.\n",
      "nsqueeze(dim) inserts a dimension of size 1 at the specified dim.\n",
      "esqueeze(dim) inserts a dimension of size 1 at the specified dim.\n",
      "esqueeze(dim) inserts a dimension of size 1 at the specified dim.\n",
      "esqueeze(dim) inserts a dimension of size 1 at the specified dim.\n",
      "nsqueeze(dim) inserts a dimension of size 1 at the specified dim.\n",
      "nsqueeze(dim) inserts a dimension of size 1 at the specified dim.\n",
      "esqueeze(dim) inserts a dimension of size 1 at the specified dim.\n",
      "esqueeze(dim) inserts a dimension of size 1 at the specified dim.\n",
      "esqueeze(dim) inserts a dimension of size 1 at the specified dim.\n",
      "esqueeze(dim) inserts a dimension of size 1 at the specified dim.\n",
      "nsqueeze(dim) inserts a dimension of size 1 at the specified dim.\n",
      "esqueeze(dim) inserts a dimension of size 1 at the specified dim.\n",
      "esqueeze(dim) inserts a dimension of size 1 at the specified dim.\n",
      "esqueeze(dim) inserts a dimension of size 1 at the specified dim.\n",
      "nsqueeze(dim) inserts a dimension of size 1 at the specified dim.\n",
      "nsqueeze(dim) inserts a dimension of size 1 at the specified dim.\n",
      "esqueeze(dim) inserts a dimension of size 1 at the specified dim.\n",
      "esqueeze(dim) inserts a dimension of size 1 at the specified dim.\n",
      "esqueeze(dim) inserts a dimension of size 1 at the specified dim.\n",
      "nsqueeze(dim) inserts a dimension of size 1 at the specified dim.\n",
      "nsqueeze(dim) inserts a dimension of size 1 at the specified dim.\n",
      "esqueeze(dim) inserts a dimension of size 1 at the specified dim.\n",
      "esqueeze(dim) inserts a dimension of size 1 at the specified dim.\n",
      "nsqueeze(dim) inserts a dimension of size 1 at the specified dim.\n",
      "nsqueeze(dim) inserts a dimension of size 1 at the specified dim.\n",
      "esqueeze(dim) inserts a dimension of size 1 at the specified dim.\n",
      "esqueeze(dim) inserts a dimension of size 1 at the specified dim.\n",
      "esqueeze(dim) inserts a dimension of size 1 at the specified dim.\n",
      "esqueeze(dim) inserts a dimension of size 1 at the specified dim.\n",
      "nsqueeze(dim) inserts a dimension of size 1 at the specified dim.\n",
      "esqueeze(dim) inserts a dimension of size 1 at the specified dim.\n",
      "esqueeze(dim) inserts a dimension of size 1 at the specified dim.\n",
      "esqueeze(dim) inserts a dimension of size 1 at the specified dim.\n",
      "esqueeze(dim) inserts a dimension of size 1 at the specified dim.\n",
      "esqueeze(dim) inserts a dimension of size 1 at the specified dim.\n",
      "esqueeze(dim) inserts a dimension of size 1 at the specified dim.\n",
      "esqueeze(dim) inserts a dimension of size 1 at the specified dim.\n",
      "esqueeze(dim) inserts a dimension of size 1 at the specified dim.\n",
      "esqueeze(dim) inserts a dimension of size 1 at the specified dim.\n",
      "esqueeze(dim) inserts a dimension of size 1 at the specified dim.\n",
      "nsqueeze(dim) inserts a dimension of size 1 at the specified dim.\n",
      "nsqueeze(dim) inserts a dimension of size 1 at the specified dim.\n",
      "esqueeze(dim) inserts a dimension of size 1 at the specified dim.\n",
      "esqueeze(dim) inserts a dimension of size 1 at the specified dim.\n",
      "esqueeze(dim) inserts a dimension of size 1 at the specified dim.\n",
      "esqueeze(dim) inserts a dimension of size 1 at the specified dim.\n",
      "esqueeze(dim) inserts a dimension of size 1 at the specified dim.\n",
      "esqueeze(dim) inserts a dimension of size 1 at the specified dim.\n",
      "nsqueeze(dim) inserts a dimension of size 1 at the specified dim.\n",
      "nsqueeze(dim) inserts a dimension of size 1 at the specified dim.\n",
      "esqueeze(dim) inserts a dimension of size 1 at the specified dim.\n",
      "esqueeze(dim) inserts a dimension of size 1 at the specified dim.\n",
      "nsqueeze(dim) inserts a dimension of size 1 at the specified dim.\n",
      "nsqueeze(dim) inserts a dimension of size 1 at the specified dim.\n",
      "esqueeze(dim) inserts a dimension of size 1 at the specified dim.\n",
      "esqueeze(dim) inserts a dimension of size 1 at the specified dim.\n",
      "esqueeze(dim) inserts a dimension of size 1 at the specified dim.\n",
      "esqueeze(dim) inserts a dimension of size 1 at the specified dim.\n",
      "esqueeze(dim) inserts a dimension of size 1 at the specified dim.\n",
      "esqueeze(dim) inserts a dimension of size 1 at the specified dim.\n",
      "nsqueeze(dim) inserts a dimension of size 1 at the specified dim.\n",
      "nsqueeze(dim) inserts a dimension of size 1 at the specified dim.\n",
      "esqueeze(dim) inserts a dimension of size 1 at the specified dim.\n",
      "esqueeze(dim) inserts a dimension of size 1 at the specified dim.\n",
      "esqueeze(dim) inserts a dimension of size 1 at the specified dim.\n",
      "esqueeze(dim) inserts a dimension of size 1 at the specified dim.\n",
      "esqueeze(dim) inserts a dimension of size 1 at the specified dim.\n",
      "esqueeze(dim) inserts a dimension of size 1 at the specified dim.\n",
      "nsqueeze(dim) inserts a dimension of size 1 at the specified dim.\n",
      "nsqueeze(dim) inserts a dimension of size 1 at the specified dim.\n",
      "esqueeze(dim) inserts a dimension of size 1 at the specified dim.\n",
      "esqueeze(dim) inserts a dimension of size 1 at the specified dim.\n",
      "esqueeze(dim) inserts a dimension of size 1 at the specified dim.\n",
      "esqueeze(dim) inserts a dimension of size 1 at the specified dim.\n",
      "esqueeze(dim) inserts a dimension of size 1 at the specified dim.\n",
      "esqueeze(dim) inserts a dimension of size 1 at the specified dim.\n",
      "esqueeze(dim) inserts a dimension of size 1 at the specified dim.\n",
      "esqueeze(dim) inserts a dimension of size 1 at the specified dim.\n",
      "esqueeze(dim) inserts a dimension of size 1 at the specified dim.\n",
      "esqueeze(dim) inserts a dimension of size 1 at the specified dim.\n",
      "esqueeze(dim) inserts a dimension of size 1 at the specified dim.\n",
      "esqueeze(dim) inserts a dimension of size 1 at the specified dim.\n",
      "esqueeze(dim) inserts a dimension of size 1 at the specified dim.\n",
      "esqueeze(dim) inserts a dimension of size 1 at the specified dim.\n",
      "esqueeze(dim) inserts a dimension of size 1 at the specified dim.\n",
      "esqueeze(dim) inserts a dimension of size 1 at the specified dim.\n",
      "esqueeze(dim) inserts a dimension of size 1 at the specified dim.\n",
      "esqueeze(dim) inserts a dimension of size 1 at the specified dim.\n",
      "esqueeze(dim) inserts a dimension of size 1 at the specified dim.\n",
      "esqueeze(dim) inserts a dimension of size 1 at the specified dim.\n",
      "esqueeze(dim) inserts a dimension of size 1 at the specified dim.\n",
      "esqueeze(dim) inserts a dimension of size 1 at the specified dim.\n",
      "esqueeze(dim) inserts a dimension of size 1 at the specified dim.\n",
      "esqueeze(dim) inserts a dimension of size 1 at the specified dim.\n"
     ]
    }
   ],
   "source": [
    "for i in range(200):\n",
    "    optimizer.zero_grad()\n",
    "    outputs = model(X)\n",
    "    loss = criterion(outputs.view(-1, char_dic_size), Y.view(-1))\n",
    "    \n",
    "    loss.backward()\n",
    "    optimizer.step()\n",
    "    \n",
    "    results = outputs.argmax(dim = 2)\n",
    "    predict_str = \"\"\n",
    "    \n",
    "    for j, result in enumerate(results): #10개씩 되어있는 문자들 붙이는 것\n",
    "        if j == 0 :\n",
    "            predict_str +=''.join([char_set1[t] for t in result])\n",
    "        else:\n",
    "            predict_str += char_set1[result[-1]]\n",
    "    print(predict_str)"
   ]
  }
 ],
 "metadata": {
  "kernelspec": {
   "display_name": "base",
   "language": "python",
   "name": "python3"
  },
  "language_info": {
   "codemirror_mode": {
    "name": "ipython",
    "version": 3
   },
   "file_extension": ".py",
   "mimetype": "text/x-python",
   "name": "python",
   "nbconvert_exporter": "python",
   "pygments_lexer": "ipython3",
   "version": "3.12.7"
  }
 },
 "nbformat": 4,
 "nbformat_minor": 2
}
