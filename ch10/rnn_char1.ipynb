{
 "cells": [
  {
   "cell_type": "code",
   "execution_count": 1,
   "metadata": {},
   "outputs": [],
   "source": [
    "import torch\n",
    "import torch.nn as nn\n",
    "import torch.optim as optim\n",
    "import numpy as np"
   ]
  },
  {
   "cell_type": "markdown",
   "metadata": {},
   "source": [
    "'apple!' : input_data => apple, output_data=pple!"
   ]
  },
  {
   "cell_type": "code",
   "execution_count": 2,
   "metadata": {},
   "outputs": [
    {
     "name": "stdout",
     "output_type": "stream",
     "text": [
      "['!', 'a', 'e', 'l', 'p']\n",
      "5\n"
     ]
    }
   ],
   "source": [
    "input_str='apple'\n",
    "label_str='pple!'\n",
    "char_set=sorted(list(set(input_str+label_str)))\n",
    "print(char_set)\n",
    "char_set_size=len(char_set)\n",
    "print(char_set_size)"
   ]
  },
  {
   "cell_type": "code",
   "execution_count": 3,
   "metadata": {},
   "outputs": [],
   "source": [
    "input_size=5\n",
    "hidden_size=5\n",
    "output_size=5\n",
    "learning_rate=0.1"
   ]
  },
  {
   "cell_type": "code",
   "execution_count": 4,
   "metadata": {},
   "outputs": [
    {
     "name": "stdout",
     "output_type": "stream",
     "text": [
      "{'!': 0, 'a': 1, 'e': 2, 'l': 3, 'p': 4}\n"
     ]
    }
   ],
   "source": [
    "char_to_index=dict((c, i) for i, c in enumerate(char_set))\n",
    "print(char_to_index)\n",
    "# char_list=[c for c in char_set]\n",
    "\n",
    "# char_list=[]\n",
    "# for c in char_set:\n",
    "#     char_set.append(c)\n"
   ]
  },
  {
   "cell_type": "code",
   "execution_count": 5,
   "metadata": {},
   "outputs": [
    {
     "data": {
      "text/plain": [
       "dict_items([('!', 0), ('a', 1), ('e', 2), ('l', 3), ('p', 4)])"
      ]
     },
     "execution_count": 5,
     "metadata": {},
     "output_type": "execute_result"
    }
   ],
   "source": [
    "char_to_index.items()\n",
    "# char_to_index.values()\n",
    "# char_to_index.keys()"
   ]
  },
  {
   "cell_type": "code",
   "execution_count": 6,
   "metadata": {},
   "outputs": [
    {
     "name": "stdout",
     "output_type": "stream",
     "text": [
      "{0: '!', 1: 'a', 2: 'e', 3: 'l', 4: 'p'}\n"
     ]
    }
   ],
   "source": [
    "index_to_char={}\n",
    "for key, value in char_to_index.items():\n",
    "    index_to_char[value]=key\n",
    "\n",
    "print(index_to_char)\n"
   ]
  },
  {
   "cell_type": "code",
   "execution_count": 7,
   "metadata": {},
   "outputs": [
    {
     "name": "stdout",
     "output_type": "stream",
     "text": [
      "[1, 4, 4, 3, 2]\n",
      "[4, 4, 3, 2, 0]\n"
     ]
    }
   ],
   "source": [
    "x_data=[char_to_index[c] for c in input_str] #apple\n",
    "y_data=[char_to_index[c] for c in label_str] #pple!\n",
    "\n",
    "print(x_data)\n",
    "print(y_data)"
   ]
  },
  {
   "cell_type": "code",
   "execution_count": 8,
   "metadata": {},
   "outputs": [
    {
     "name": "stdout",
     "output_type": "stream",
     "text": [
      "[array([0., 1., 0., 0., 0.]), array([0., 0., 0., 0., 1.]), array([0., 0., 0., 0., 1.]), array([0., 0., 0., 1., 0.]), array([0., 0., 1., 0., 0.])]\n"
     ]
    }
   ],
   "source": [
    "x_one_hot=[np.eye(char_set_size)[x] for x in x_data]\n",
    "print(x_one_hot)\n"
   ]
  },
  {
   "cell_type": "code",
   "execution_count": 9,
   "metadata": {},
   "outputs": [
    {
     "name": "stdout",
     "output_type": "stream",
     "text": [
      "tensor([[0., 1., 0., 0., 0.],\n",
      "        [0., 0., 0., 0., 1.],\n",
      "        [0., 0., 0., 0., 1.],\n",
      "        [0., 0., 0., 1., 0.],\n",
      "        [0., 0., 1., 0., 0.]])\n",
      "tensor([4, 4, 3, 2, 0])\n"
     ]
    },
    {
     "name": "stderr",
     "output_type": "stream",
     "text": [
      "C:\\Users\\dhdms\\AppData\\Local\\Temp\\ipykernel_5048\\3424434832.py:1: UserWarning: Creating a tensor from a list of numpy.ndarrays is extremely slow. Please consider converting the list to a single numpy.ndarray with numpy.array() before converting to a tensor. (Triggered internally at C:\\actions-runner\\_work\\pytorch\\pytorch\\builder\\windows\\pytorch\\torch\\csrc\\utils\\tensor_new.cpp:281.)\n",
      "  X=torch.FloatTensor(x_one_hot)\n"
     ]
    }
   ],
   "source": [
    "X=torch.FloatTensor(x_one_hot)\n",
    "Y=torch.LongTensor(y_data)\n",
    "print(X)\n",
    "print(Y)"
   ]
  },
  {
   "cell_type": "code",
   "execution_count": 10,
   "metadata": {},
   "outputs": [],
   "source": [
    "#nn.RNN(input_size, hidden_size, output_size)\n",
    "class Net(nn.Module):\n",
    "    def __init__(self, input_size, hidden_size, output_size):\n",
    "        super(Net, self).__init__()\n",
    "        self.rnn=nn.RNN(input_size, hidden_size, batch_first=True)\n",
    "        # batch_first : 입력데이터의 배치의 차원의 위치를 설정\n",
    "        # (배치크기, 시퀀스 길이, 특징 수)\n",
    "        #  입력의 형태가 (32, 10, 50) :  배치의 크기 32, 시퀀스 길이 : 10, 특징의 수 50\n",
    "        self.fc=nn.Linear(hidden_size,output_size, bias=True)\n",
    "\n",
    "    def forward(self, x):\n",
    "        x, _status=self.rnn(x)\n",
    "        x=self.fc(x)\n",
    "        return x"
   ]
  },
  {
   "cell_type": "code",
   "execution_count": 11,
   "metadata": {},
   "outputs": [],
   "source": [
    "model=Net(input_size, hidden_size, output_size)\n",
    "criterion=nn.CrossEntropyLoss()\n",
    "optimizer=optim.Adam(model.parameters(), lr=learning_rate)"
   ]
  },
  {
   "cell_type": "code",
   "execution_count": 12,
   "metadata": {},
   "outputs": [
    {
     "name": "stdout",
     "output_type": "stream",
     "text": [
      "tensor([[ 0.3246, -0.5359,  0.1419, -0.6071,  0.0540],\n",
      "        [-0.0343, -0.2934,  0.3606, -0.1612,  0.1607],\n",
      "        [ 0.0599, -0.3795,  0.3483, -0.2583,  0.1323],\n",
      "        [ 0.1422, -0.5040,  0.2965, -0.5287,  0.2338],\n",
      "        [-0.0285, -0.3502,  0.3762, -0.1428,  0.0234]],\n",
      "       grad_fn=<AddmmBackward0>)\n",
      "torch.Size([5, 5])\n"
     ]
    }
   ],
   "source": [
    "output=model(X)\n",
    "print(output)\n",
    "print(output.size())"
   ]
  }
 ],
 "metadata": {
  "kernelspec": {
   "display_name": "base",
   "language": "python",
   "name": "python3"
  },
  "language_info": {
   "codemirror_mode": {
    "name": "ipython",
    "version": 3
   },
   "file_extension": ".py",
   "mimetype": "text/x-python",
   "name": "python",
   "nbconvert_exporter": "python",
   "pygments_lexer": "ipython3",
   "version": "3.12.7"
  }
 },
 "nbformat": 4,
 "nbformat_minor": 2
}
