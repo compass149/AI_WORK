{
 "cells": [
  {
   "cell_type": "code",
   "execution_count": null,
   "metadata": {},
   "outputs": [
    {
     "ename": "NameError",
     "evalue": "name 'a' is not defined",
     "output_type": "error",
     "traceback": [
      "\u001b[1;31m---------------------------------------------------------------------------\u001b[0m",
      "\u001b[1;31mNameError\u001b[0m                                 Traceback (most recent call last)",
      "Cell \u001b[1;32mIn[1], line 1\u001b[0m\n\u001b[1;32m----> 1\u001b[0m \u001b[43ma\u001b[49m\u001b[38;5;241m+\u001b[39mb\n",
      "\u001b[1;31mNameError\u001b[0m: name 'a' is not defined"
     ]
    }
   ],
   "source": []
  },
  {
   "cell_type": "code",
   "execution_count": null,
   "metadata": {},
   "outputs": [],
   "source": []
  },
  {
   "cell_type": "code",
   "execution_count": null,
   "metadata": {},
   "outputs": [
    {
     "data": {
      "text/plain": [
       "30"
      ]
     },
     "execution_count": 3,
     "metadata": {},
     "output_type": "execute_result"
    }
   ],
   "source": [
    "\n",
    "a=10\n",
    "b=20\n",
    "\n",
    "a+b"
   ]
  },
  {
   "cell_type": "code",
   "execution_count": 4,
   "metadata": {},
   "outputs": [
    {
     "name": "stdout",
     "output_type": "stream",
     "text": [
      "Collecting torch\n",
      "  Downloading torch-2.5.1-cp312-cp312-win_amd64.whl.metadata (28 kB)\n",
      "Requirement already satisfied: filelock in c:\\users\\dhdms\\anaconda3\\lib\\site-packages (from torch) (3.13.1)\n",
      "Requirement already satisfied: typing-extensions>=4.8.0 in c:\\users\\dhdms\\anaconda3\\lib\\site-packages (from torch) (4.11.0)\n",
      "Requirement already satisfied: networkx in c:\\users\\dhdms\\anaconda3\\lib\\site-packages (from torch) (3.3)\n",
      "Requirement already satisfied: jinja2 in c:\\users\\dhdms\\anaconda3\\lib\\site-packages (from torch) (3.1.4)\n",
      "Requirement already satisfied: fsspec in c:\\users\\dhdms\\anaconda3\\lib\\site-packages (from torch) (2024.6.1)\n",
      "Requirement already satisfied: setuptools in c:\\users\\dhdms\\anaconda3\\lib\\site-packages (from torch) (75.1.0)\n",
      "Collecting sympy==1.13.1 (from torch)\n",
      "  Downloading sympy-1.13.1-py3-none-any.whl.metadata (12 kB)\n",
      "Requirement already satisfied: mpmath<1.4,>=1.1.0 in c:\\users\\dhdms\\anaconda3\\lib\\site-packages (from sympy==1.13.1->torch) (1.3.0)\n",
      "Requirement already satisfied: MarkupSafe>=2.0 in c:\\users\\dhdms\\anaconda3\\lib\\site-packages (from jinja2->torch) (2.1.3)\n",
      "Downloading torch-2.5.1-cp312-cp312-win_amd64.whl (203.0 MB)\n",
      "   ---------------------------------------- 0.0/203.0 MB ? eta -:--:--\n",
      "   ---------------------------------------- 2.4/203.0 MB 12.2 MB/s eta 0:00:17\n",
      "    --------------------------------------- 4.2/203.0 MB 11.0 MB/s eta 0:00:19\n",
      "   - -------------------------------------- 6.3/203.0 MB 10.4 MB/s eta 0:00:19\n",
      "   - -------------------------------------- 8.7/203.0 MB 10.5 MB/s eta 0:00:19\n",
      "   -- ------------------------------------- 11.0/203.0 MB 10.6 MB/s eta 0:00:19\n",
      "   -- ------------------------------------- 12.6/203.0 MB 10.5 MB/s eta 0:00:19\n",
      "   -- ------------------------------------- 14.4/203.0 MB 10.0 MB/s eta 0:00:19\n",
      "   --- ------------------------------------ 16.0/203.0 MB 9.7 MB/s eta 0:00:20\n",
      "   --- ------------------------------------ 16.8/203.0 MB 9.7 MB/s eta 0:00:20\n",
      "   --- ------------------------------------ 19.4/203.0 MB 9.4 MB/s eta 0:00:20\n",
      "   ---- ----------------------------------- 22.5/203.0 MB 9.9 MB/s eta 0:00:19\n",
      "   ---- ----------------------------------- 25.2/203.0 MB 10.1 MB/s eta 0:00:18\n",
      "   ----- ---------------------------------- 27.8/203.0 MB 10.4 MB/s eta 0:00:17\n",
      "   ----- ---------------------------------- 30.4/203.0 MB 10.5 MB/s eta 0:00:17\n",
      "   ------ --------------------------------- 33.3/203.0 MB 10.7 MB/s eta 0:00:16\n",
      "   ------- -------------------------------- 36.7/203.0 MB 11.1 MB/s eta 0:00:15\n",
      "   -------- ------------------------------- 40.9/203.0 MB 11.6 MB/s eta 0:00:14\n",
      "   -------- ------------------------------- 43.0/203.0 MB 11.6 MB/s eta 0:00:14\n",
      "   -------- ------------------------------- 45.1/203.0 MB 11.4 MB/s eta 0:00:14\n",
      "   --------- ------------------------------ 48.0/203.0 MB 11.6 MB/s eta 0:00:14\n",
      "   --------- ------------------------------ 50.6/203.0 MB 11.7 MB/s eta 0:00:14\n",
      "   ---------- ----------------------------- 53.5/203.0 MB 11.7 MB/s eta 0:00:13\n",
      "   ----------- ---------------------------- 56.6/203.0 MB 11.9 MB/s eta 0:00:13\n",
      "   ----------- ---------------------------- 60.0/203.0 MB 12.1 MB/s eta 0:00:12\n",
      "   ------------ --------------------------- 63.7/203.0 MB 12.3 MB/s eta 0:00:12\n",
      "   ------------- -------------------------- 67.4/203.0 MB 12.5 MB/s eta 0:00:11\n",
      "   -------------- ------------------------- 71.6/203.0 MB 12.8 MB/s eta 0:00:11\n",
      "   -------------- ------------------------- 75.5/203.0 MB 13.0 MB/s eta 0:00:10\n",
      "   --------------- ------------------------ 78.4/203.0 MB 13.0 MB/s eta 0:00:10\n",
      "   --------------- ------------------------ 80.2/203.0 MB 12.9 MB/s eta 0:00:10\n",
      "   ---------------- ----------------------- 81.3/203.0 MB 12.7 MB/s eta 0:00:10\n",
      "   ---------------- ----------------------- 82.3/203.0 MB 12.4 MB/s eta 0:00:10\n",
      "   ---------------- ----------------------- 83.9/203.0 MB 12.2 MB/s eta 0:00:10\n",
      "   ---------------- ----------------------- 85.5/203.0 MB 12.1 MB/s eta 0:00:10\n",
      "   ----------------- ---------------------- 87.0/203.0 MB 12.0 MB/s eta 0:00:10\n",
      "   ----------------- ---------------------- 88.9/203.0 MB 11.9 MB/s eta 0:00:10\n",
      "   ----------------- ---------------------- 90.4/203.0 MB 11.8 MB/s eta 0:00:10\n",
      "   ------------------ --------------------- 92.0/203.0 MB 11.7 MB/s eta 0:00:10\n",
      "   ------------------ --------------------- 93.3/203.0 MB 11.6 MB/s eta 0:00:10\n",
      "   ------------------ --------------------- 95.7/203.0 MB 11.5 MB/s eta 0:00:10\n",
      "   ------------------- -------------------- 98.0/203.0 MB 11.5 MB/s eta 0:00:10\n",
      "   ------------------- ------------------- 100.4/203.0 MB 11.5 MB/s eta 0:00:09\n",
      "   ------------------- ------------------- 103.0/203.0 MB 11.6 MB/s eta 0:00:09\n",
      "   -------------------- ------------------ 105.9/203.0 MB 11.6 MB/s eta 0:00:09\n",
      "   -------------------- ------------------ 109.1/203.0 MB 11.7 MB/s eta 0:00:09\n",
      "   --------------------- ----------------- 112.2/203.0 MB 11.8 MB/s eta 0:00:08\n",
      "   ---------------------- ---------------- 115.1/203.0 MB 11.8 MB/s eta 0:00:08\n",
      "   ---------------------- ---------------- 118.0/203.0 MB 11.9 MB/s eta 0:00:08\n",
      "   ----------------------- --------------- 120.6/203.0 MB 11.9 MB/s eta 0:00:07\n",
      "   ----------------------- --------------- 123.2/203.0 MB 11.9 MB/s eta 0:00:07\n",
      "   ------------------------ -------------- 125.8/203.0 MB 11.9 MB/s eta 0:00:07\n",
      "   ------------------------ -------------- 129.5/203.0 MB 12.0 MB/s eta 0:00:07\n",
      "   ------------------------- ------------- 132.9/203.0 MB 12.1 MB/s eta 0:00:06\n",
      "   -------------------------- ------------ 136.8/203.0 MB 12.2 MB/s eta 0:00:06\n",
      "   -------------------------- ------------ 139.7/203.0 MB 12.3 MB/s eta 0:00:06\n",
      "   --------------------------- ----------- 143.4/203.0 MB 12.3 MB/s eta 0:00:05\n",
      "   ---------------------------- ---------- 147.1/203.0 MB 12.4 MB/s eta 0:00:05\n",
      "   ----------------------------- --------- 151.5/203.0 MB 12.6 MB/s eta 0:00:05\n",
      "   ----------------------------- --------- 155.7/203.0 MB 12.7 MB/s eta 0:00:04\n",
      "   ------------------------------ -------- 159.6/203.0 MB 12.8 MB/s eta 0:00:04\n",
      "   ------------------------------- ------- 163.6/203.0 MB 12.9 MB/s eta 0:00:04\n",
      "   -------------------------------- ------ 167.8/203.0 MB 13.1 MB/s eta 0:00:03\n",
      "   -------------------------------- ------ 171.7/203.0 MB 13.2 MB/s eta 0:00:03\n",
      "   --------------------------------- ----- 176.2/203.0 MB 13.3 MB/s eta 0:00:03\n",
      "   ---------------------------------- ---- 179.3/203.0 MB 13.3 MB/s eta 0:00:02\n",
      "   ----------------------------------- --- 184.3/203.0 MB 13.5 MB/s eta 0:00:02\n",
      "   ------------------------------------ -- 187.7/203.0 MB 13.5 MB/s eta 0:00:02\n",
      "   ------------------------------------ -- 190.8/203.0 MB 13.5 MB/s eta 0:00:01\n",
      "   ------------------------------------- - 194.5/203.0 MB 13.6 MB/s eta 0:00:01\n",
      "   --------------------------------------  198.2/203.0 MB 13.7 MB/s eta 0:00:01\n",
      "   --------------------------------------  201.9/203.0 MB 13.7 MB/s eta 0:00:01\n",
      "   --------------------------------------  202.9/203.0 MB 13.7 MB/s eta 0:00:01\n",
      "   --------------------------------------- 203.0/203.0 MB 13.4 MB/s eta 0:00:00\n",
      "Downloading sympy-1.13.1-py3-none-any.whl (6.2 MB)\n",
      "   ---------------------------------------- 0.0/6.2 MB ? eta -:--:--\n",
      "   ---------------------- ----------------- 3.4/6.2 MB 16.7 MB/s eta 0:00:01\n",
      "   ----------------------------------- ---- 5.5/6.2 MB 13.4 MB/s eta 0:00:01\n",
      "   ---------------------------------------- 6.2/6.2 MB 11.9 MB/s eta 0:00:00\n",
      "Installing collected packages: sympy, torch\n",
      "  Attempting uninstall: sympy\n",
      "    Found existing installation: sympy 1.13.2\n",
      "    Uninstalling sympy-1.13.2:\n",
      "      Successfully uninstalled sympy-1.13.2\n",
      "Successfully installed sympy-1.13.1 torch-2.5.1\n"
     ]
    }
   ],
   "source": [
    "\n",
    "\n",
    "! pip install torch"
   ]
  },
  {
   "cell_type": "code",
   "execution_count": 5,
   "metadata": {},
   "outputs": [
    {
     "data": {
      "text/plain": [
       "tensor([1, 2, 3])"
      ]
     },
     "execution_count": 5,
     "metadata": {},
     "output_type": "execute_result"
    }
   ],
   "source": [
    "import torch\n",
    "t1 = torch.tensor([1, 2, 3])\n",
    "t1"
   ]
  },
  {
   "cell_type": "code",
   "execution_count": 7,
   "metadata": {},
   "outputs": [
    {
     "data": {
      "text/plain": [
       "tensor([[1, 2, 3],\n",
       "        [4, 5, 6]])"
      ]
     },
     "execution_count": 7,
     "metadata": {},
     "output_type": "execute_result"
    }
   ],
   "source": [
    "t2 = torch.tensor([[1, 2, 3],[4,5,6]])\n",
    "t2"
   ]
  },
  {
   "cell_type": "code",
   "execution_count": 8,
   "metadata": {},
   "outputs": [
    {
     "name": "stdout",
     "output_type": "stream",
     "text": [
      "tensor([[1, 2],\n",
      "        [4, 5]])\n",
      "tensor([[1, 2, 3],\n",
      "        [4, 5, 6]])\n",
      "tensor([[1., 2.],\n",
      "        [3., 4.]], dtype=torch.float64)\n"
     ]
    }
   ],
   "source": [
    "t1 =torch.tensor([[1, 2], [4, 5]])\n",
    "#t2=torch.tersor([[1, 2,], [3, 4]], device=\"cuda:0\")\n",
    "t3=torch.tensor([[1,2], [3,4]], dtype=torch.float64)\n",
    "print(t1)\n",
    "print(t2)\n",
    "print(t3)"
   ]
  },
  {
   "cell_type": "code",
   "execution_count": 10,
   "metadata": {},
   "outputs": [
    {
     "name": "stdout",
     "output_type": "stream",
     "text": [
      "tensor([[1., 2.],\n",
      "        [3., 4.]])\n",
      "tensor([[1, 2],\n",
      "        [3, 4]])\n",
      "tensor([[1, 2],\n",
      "        [3, 4]], dtype=torch.uint8)\n"
     ]
    }
   ],
   "source": [
    "tf = torch.FloatTensor([[1,2],[3,4]])\n",
    "tl = torch.LongTensor([[1,2],[3,4]])\n",
    "tb = torch.ByteTensor([[1,2],[3,4]])\n",
    "\n",
    "print(tf)\n",
    "print(tl)\n",
    "print(tb)"
   ]
  },
  {
   "cell_type": "code",
   "execution_count": 12,
   "metadata": {},
   "outputs": [
    {
     "name": "stdout",
     "output_type": "stream",
     "text": [
      "[[1 2]\n",
      " [3 4]]\n",
      "<class 'numpy.ndarray'>\n"
     ]
    }
   ],
   "source": [
    "import numpy as np\n",
    "x=np.array([[1,2],[3,4]])\n",
    "print(x)\n",
    "print(type(x))"
   ]
  },
  {
   "cell_type": "code",
   "execution_count": 13,
   "metadata": {},
   "outputs": [
    {
     "name": "stdout",
     "output_type": "stream",
     "text": [
      "tensor([[1, 2],\n",
      "        [3, 4]], dtype=torch.int32)\n"
     ]
    }
   ],
   "source": [
    "t=torch.from_numpy(x)\n",
    "print(t)"
   ]
  },
  {
   "cell_type": "code",
   "execution_count": null,
   "metadata": {},
   "outputs": [
    {
     "name": "stdout",
     "output_type": "stream",
     "text": [
      "[[1 2]\n",
      " [3 4]]\n",
      "<class 'numpy.ndarray'>\n"
     ]
    }
   ],
   "source": [
    "x1 = t.numpy()\n",
    "print(x1)\n",
    "print(type(x1))"
   ]
  },
  {
   "cell_type": "code",
   "execution_count": 15,
   "metadata": {},
   "outputs": [
    {
     "name": "stdout",
     "output_type": "stream",
     "text": [
      "tensor([[1, 2],\n",
      "        [3, 4]])\n"
     ]
    }
   ],
   "source": [
    "print(tf.long())"
   ]
  },
  {
   "cell_type": "code",
   "execution_count": 16,
   "metadata": {},
   "outputs": [
    {
     "name": "stdout",
     "output_type": "stream",
     "text": [
      "tensor([[1., 2.],\n",
      "        [3., 4.]])\n"
     ]
    }
   ],
   "source": [
    "print(tl.float())"
   ]
  },
  {
   "cell_type": "code",
   "execution_count": 18,
   "metadata": {},
   "outputs": [
    {
     "name": "stdout",
     "output_type": "stream",
     "text": [
      "tensor([[1, 2],\n",
      "        [3, 4]], dtype=torch.uint8)\n"
     ]
    }
   ],
   "source": [
    "print(tf.byte())"
   ]
  },
  {
   "cell_type": "markdown",
   "metadata": {},
   "source": [
    "텐서 크기 구하기"
   ]
  },
  {
   "cell_type": "code",
   "execution_count": 21,
   "metadata": {},
   "outputs": [
    {
     "data": {
      "text/plain": [
       "array([[ 1,  2,  3],\n",
       "       [ 4,  5,  6],\n",
       "       [ 7,  8,  9],\n",
       "       [10, 11, 12]])"
      ]
     },
     "execution_count": 21,
     "metadata": {},
     "output_type": "execute_result"
    }
   ],
   "source": [
    "x=np.arange(1,13).reshape(4,3)\n",
    "x"
   ]
  },
  {
   "cell_type": "code",
   "execution_count": 23,
   "metadata": {},
   "outputs": [
    {
     "data": {
      "text/plain": [
       "array([[[ 1,  2],\n",
       "        [ 3,  4]],\n",
       "\n",
       "       [[ 5,  6],\n",
       "        [ 7,  8]],\n",
       "\n",
       "       [[ 9, 10],\n",
       "        [11, 12]]])"
      ]
     },
     "execution_count": 23,
     "metadata": {},
     "output_type": "execute_result"
    }
   ],
   "source": [
    "x=np.arange(1,13).reshape(3,2,2)\n",
    "x"
   ]
  },
  {
   "cell_type": "code",
   "execution_count": 24,
   "metadata": {},
   "outputs": [
    {
     "data": {
      "text/plain": [
       "tensor([[[ 1,  2],\n",
       "         [ 3,  4]],\n",
       "\n",
       "        [[ 5,  6],\n",
       "         [ 7,  8]],\n",
       "\n",
       "        [[ 9, 10],\n",
       "         [11, 12]]], dtype=torch.int32)"
      ]
     },
     "execution_count": 24,
     "metadata": {},
     "output_type": "execute_result"
    }
   ],
   "source": [
    "tx=torch.from_numpy(x)\n",
    "tx"
   ]
  },
  {
   "cell_type": "code",
   "execution_count": 31,
   "metadata": {},
   "outputs": [
    {
     "name": "stdout",
     "output_type": "stream",
     "text": [
      "numpy 배열 크기 (3, 2, 2)\n",
      "tensor 크기 torch.Size([3, 2, 2])\n",
      "torch.Size([3, 2, 2])\n",
      "3\n",
      "3\n",
      "2\n",
      "2\n",
      "2\n",
      "차원의 수 3\n",
      "차원의 수 3\n"
     ]
    }
   ],
   "source": [
    "print('numpy 배열 크기', x.shape)\n",
    "print('tensor 크기', tx.shape)\n",
    "print(tx.size())\n",
    "print(tx.shape[0])\n",
    "print(tx.size(0))\n",
    "print(tx.size(1))\n",
    "print(tx.size(2))\n",
    "print(tx.size(-1))\n",
    "print('차원의 수', tx.dim())\n",
    "print('차원의 수', len(tx.size()))"
   ]
  },
  {
   "cell_type": "code",
   "execution_count": null,
   "metadata": {},
   "outputs": [
    {
     "name": "stdout",
     "output_type": "stream",
     "text": [
      "[[1 2]\n",
      " [3 4]]\n",
      "[2 4 6 8]\n",
      "[[2 4]\n",
      " [6 8]]\n",
      "tensor([[1, 2],\n",
      "        [3, 4]], dtype=torch.int32)\n",
      "tensor([2, 4, 6, 8], dtype=torch.int32)\n"
     ]
    }
   ],
   "source": [
    "a = np.arange(1, 5).reshape(2, 2)\n",
    "print(a)\n",
    "b =np.arange(2, 10, 2)\n",
    "print(b)\n",
    "c = np.arange(2,10,2).reshape(2, 2)\n",
    "print(c)\n",
    "\n",
    "ta=torch.from_numpy(a)\n",
    "tb=torch.from_numpy(b)\n",
    "print(ta)\n",
    "print(tb)"
   ]
  },
  {
   "cell_type": "markdown",
   "metadata": {},
   "source": [
    "텐서의 연산"
   ]
  },
  {
   "cell_type": "code",
   "execution_count": 43,
   "metadata": {},
   "outputs": [
    {
     "name": "stdout",
     "output_type": "stream",
     "text": [
      "tensor([[2, 4],\n",
      "        [6, 8]], dtype=torch.int32)\n",
      "tensor([[0, 0],\n",
      "        [0, 0]], dtype=torch.int32)\n",
      "tensor([[ 1,  4],\n",
      "        [ 9, 16]], dtype=torch.int32)\n"
     ]
    }
   ],
   "source": [
    "print(ta+ta)\n",
    "print(ta - ta)\n",
    "print(ta * ta)"
   ]
  },
  {
   "cell_type": "code",
   "execution_count": 46,
   "metadata": {},
   "outputs": [
    {
     "name": "stdout",
     "output_type": "stream",
     "text": [
      "tensor([[1, 2],\n",
      "        [3, 4]], dtype=torch.int32)\n",
      "tensor([[ 1,  4],\n",
      "        [ 9, 16]], dtype=torch.int32)\n",
      "tensor([[ 1,  4],\n",
      "        [ 9, 16]], dtype=torch.int32)\n"
     ]
    }
   ],
   "source": [
    "print(ta)\n",
    "print(ta.mul_(ta))\n",
    "print(ta)"
   ]
  },
  {
   "cell_type": "code",
   "execution_count": 48,
   "metadata": {},
   "outputs": [
    {
     "data": {
      "text/plain": [
       "tensor([[1, 2, 3],\n",
       "        [4, 5, 6],\n",
       "        [7, 8, 9]], dtype=torch.int32)"
      ]
     },
     "execution_count": 48,
     "metadata": {},
     "output_type": "execute_result"
    }
   ],
   "source": [
    "x = np.arange(1, 10).reshape(3, 3)\n",
    "tx = torch.from_numpy(x)\n",
    "tx"
   ]
  },
  {
   "cell_type": "code",
   "execution_count": 50,
   "metadata": {},
   "outputs": [
    {
     "name": "stdout",
     "output_type": "stream",
     "text": [
      "5.0\n"
     ]
    }
   ],
   "source": [
    "print(x.mean())"
   ]
  },
  {
   "cell_type": "code",
   "execution_count": 55,
   "metadata": {},
   "outputs": [
    {
     "name": "stdout",
     "output_type": "stream",
     "text": [
      "tensor([[1, 2],\n",
      "        [3, 4]], dtype=torch.int32)\n",
      "tensor([[2, 3],\n",
      "        [4, 5]], dtype=torch.int32)\n"
     ]
    }
   ],
   "source": [
    "x = np.arange(1, 5).reshape(2, 2)\n",
    "t1 = torch.from_numpy(x)\n",
    "y = 1\n",
    "print ( t1)\n",
    "print ( t1 + y)"
   ]
  },
  {
   "cell_type": "code",
   "execution_count": 57,
   "metadata": {},
   "outputs": [
    {
     "name": "stdout",
     "output_type": "stream",
     "text": [
      "tensor([[1, 2],\n",
      "        [3, 4]], dtype=torch.int32)\n",
      "tensor([1, 2])\n",
      "tensor([[2, 4],\n",
      "        [4, 6]])\n"
     ]
    }
   ],
   "source": [
    "t2 = torch.tensor([1, 2])\n",
    "print(t1)\n",
    "print(t2)\n",
    "print(t1 + t2)\n"
   ]
  },
  {
   "cell_type": "code",
   "execution_count": 58,
   "metadata": {},
   "outputs": [
    {
     "name": "stdout",
     "output_type": "stream",
     "text": [
      "tensor([[1, 2],\n",
      "        [3, 4]], dtype=torch.int32) [[1 2 3]\n",
      " [4 5 6]]\n"
     ]
    }
   ],
   "source": [
    "t3 = np.arange(1, 7).reshape(2, 3)\n",
    "print(t1, t3)"
   ]
  },
  {
   "cell_type": "code",
   "execution_count": 61,
   "metadata": {},
   "outputs": [
    {
     "data": {
      "text/plain": [
       "tensor([[[ 1,  2],\n",
       "         [ 3,  4]],\n",
       "\n",
       "        [[ 5,  6],\n",
       "         [ 7,  8]],\n",
       "\n",
       "        [[ 9, 10],\n",
       "         [11, 12]]], dtype=torch.int32)"
      ]
     },
     "execution_count": 61,
     "metadata": {},
     "output_type": "execute_result"
    }
   ],
   "source": [
    "x = np.arange(1, 13).reshape(3, 2, 2)\n",
    "x = torch.from_numpy(x) #텐서로 바뀜\n",
    "x"
   ]
  },
  {
   "cell_type": "code",
   "execution_count": 65,
   "metadata": {},
   "outputs": [
    {
     "name": "stdout",
     "output_type": "stream",
     "text": [
      "tensor([[ 1,  2,  3,  4],\n",
      "        [ 5,  6,  7,  8],\n",
      "        [ 9, 10, 11, 12]], dtype=torch.int32)\n",
      "tensor([[ 1,  2],\n",
      "        [ 3,  4],\n",
      "        [ 5,  6],\n",
      "        [ 7,  8],\n",
      "        [ 9, 10],\n",
      "        [11, 12]], dtype=torch.int32)\n",
      "tensor([[[ 1,  2],\n",
      "         [ 3,  4]],\n",
      "\n",
      "        [[ 5,  6],\n",
      "         [ 7,  8]],\n",
      "\n",
      "        [[ 9, 10],\n",
      "         [11, 12]]], dtype=torch.int32)\n"
     ]
    }
   ],
   "source": [
    "#3행 4열로 바꿀 것임\n",
    "print(x.view(3,4))\n",
    "print(x.view(6,2))\n",
    "print(x.view(3,-1,2)) #-1이 붙으면 나머지는 알아서 정하라는 뜻"
   ]
  },
  {
   "cell_type": "code",
   "execution_count": null,
   "metadata": {},
   "outputs": [
    {
     "name": "stdout",
     "output_type": "stream",
     "text": [
      "tensor([[[ 1,  2,  3,  4]],\n",
      "\n",
      "        [[ 5,  6,  7,  8]],\n",
      "\n",
      "        [[ 9, 10, 11, 12]]], dtype=torch.int32)\n",
      "tensor([[ 1,  2,  3,  4],\n",
      "        [ 5,  6,  7,  8],\n",
      "        [ 9, 10, 11, 12]], dtype=torch.int32)\n",
      "tensor([[[ 1,  2,  3,  4]],\n",
      "\n",
      "        [[ 5,  6,  7,  8]],\n",
      "\n",
      "        [[ 9, 10, 11, 12]]], dtype=torch.int32)\n"
     ]
    }
   ],
   "source": [
    "x1 = x.view(3, -1, 4)\n",
    "print(x1)\n",
    "x2 = x1.squeeze()\n",
    "print(x2)\n",
    "x3 = x2.unsqueeze(1) #인덱스 1인 위치에 크기가 1인 차원 추가\n",
    "print(x3)\n"
   ]
  },
  {
   "cell_type": "markdown",
   "metadata": {},
   "source": [
    "tensor 자르기 & 붙이기"
   ]
  },
  {
   "cell_type": "code",
   "execution_count": 71,
   "metadata": {},
   "outputs": [
    {
     "name": "stdout",
     "output_type": "stream",
     "text": [
      "tensor([[[ 1,  2],\n",
      "         [ 3,  4]],\n",
      "\n",
      "        [[ 5,  6],\n",
      "         [ 7,  8]],\n",
      "\n",
      "        [[ 9, 10],\n",
      "         [11, 12]]], dtype=torch.int32)\n",
      "torch.Size([3, 2, 2])\n"
     ]
    }
   ],
   "source": [
    "print(x)\n",
    "print(x.size())"
   ]
  },
  {
   "cell_type": "code",
   "execution_count": 74,
   "metadata": {},
   "outputs": [
    {
     "name": "stdout",
     "output_type": "stream",
     "text": [
      "tensor([[1, 2],\n",
      "        [3, 4]], dtype=torch.int32)\n"
     ]
    }
   ],
   "source": [
    "print(x[0,:])"
   ]
  },
  {
   "cell_type": "code",
   "execution_count": 75,
   "metadata": {},
   "outputs": [
    {
     "name": "stdout",
     "output_type": "stream",
     "text": [
      "[tensor([[ 9, 10],\n",
      "        [11, 12]], dtype=torch.int32)]\n",
      "[tensor([[5, 6],\n",
      "        [7, 8]], dtype=torch.int32)]\n",
      "[tensor([[5, 6],\n",
      "        [7, 8]], dtype=torch.int32)]\n",
      "[tensor([[5, 6],\n",
      "        [7, 8]], dtype=torch.int32)]\n"
     ]
    }
   ],
   "source": [
    "print([x[-1]])\n",
    "print([x[-2]])\n",
    "print([x[-2, :]])\n",
    "print([x[-2, :, :]])"
   ]
  },
  {
   "cell_type": "code",
   "execution_count": 76,
   "metadata": {},
   "outputs": [
    {
     "name": "stdout",
     "output_type": "stream",
     "text": [
      "tensor([[[ 5,  6],\n",
      "         [ 7,  8]],\n",
      "\n",
      "        [[ 9, 10],\n",
      "         [11, 12]]], dtype=torch.int32)\n"
     ]
    }
   ],
   "source": [
    "print(x[1:3 , :, :]) #맨 마지막 3차원은 빼고 가져옴"
   ]
  },
  {
   "cell_type": "code",
   "execution_count": 85,
   "metadata": {},
   "outputs": [
    {
     "name": "stdout",
     "output_type": "stream",
     "text": [
      "tensor([[  1,   2,   3,   4,   5,   6,   7,   8,   9,  10],\n",
      "        [ 11,  12,  13,  14,  15,  16,  17,  18,  19,  20],\n",
      "        [ 21,  22,  23,  24,  25,  26,  27,  28,  29,  30],\n",
      "        [ 31,  32,  33,  34,  35,  36,  37,  38,  39,  40],\n",
      "        [ 41,  42,  43,  44,  45,  46,  47,  48,  49,  50],\n",
      "        [ 51,  52,  53,  54,  55,  56,  57,  58,  59,  60],\n",
      "        [ 61,  62,  63,  64,  65,  66,  67,  68,  69,  70],\n",
      "        [ 71,  72,  73,  74,  75,  76,  77,  78,  79,  80],\n",
      "        [ 81,  82,  83,  84,  85,  86,  87,  88,  89,  90],\n",
      "        [ 91,  92,  93,  94,  95,  96,  97,  98,  99, 100]], dtype=torch.int32)\n"
     ]
    }
   ],
   "source": [
    "x = np.arange(1, 101).reshape(10, 10)\n",
    "\n",
    "#x = torch.FloatTensor(10, 4)  #값을 랜덤하게 뿌림\n",
    "\n",
    "x = torch.from_numpy(x)\n",
    "print(x) "
   ]
  },
  {
   "cell_type": "code",
   "execution_count": 86,
   "metadata": {},
   "outputs": [
    {
     "name": "stdout",
     "output_type": "stream",
     "text": [
      "torch.Size([10, 4])\n",
      "tensor([[ 1,  2,  3,  4],\n",
      "        [11, 12, 13, 14],\n",
      "        [21, 22, 23, 24],\n",
      "        [31, 32, 33, 34],\n",
      "        [41, 42, 43, 44],\n",
      "        [51, 52, 53, 54],\n",
      "        [61, 62, 63, 64],\n",
      "        [71, 72, 73, 74],\n",
      "        [81, 82, 83, 84],\n",
      "        [91, 92, 93, 94]], dtype=torch.int32)\n",
      "torch.Size([10, 4])\n",
      "tensor([[ 5,  6,  7,  8],\n",
      "        [15, 16, 17, 18],\n",
      "        [25, 26, 27, 28],\n",
      "        [35, 36, 37, 38],\n",
      "        [45, 46, 47, 48],\n",
      "        [55, 56, 57, 58],\n",
      "        [65, 66, 67, 68],\n",
      "        [75, 76, 77, 78],\n",
      "        [85, 86, 87, 88],\n",
      "        [95, 96, 97, 98]], dtype=torch.int32)\n",
      "torch.Size([10, 2])\n",
      "tensor([[  9,  10],\n",
      "        [ 19,  20],\n",
      "        [ 29,  30],\n",
      "        [ 39,  40],\n",
      "        [ 49,  50],\n",
      "        [ 59,  60],\n",
      "        [ 69,  70],\n",
      "        [ 79,  80],\n",
      "        [ 89,  90],\n",
      "        [ 99, 100]], dtype=torch.int32)\n"
     ]
    }
   ],
   "source": [
    "#한번에 4개씩 자르기\n",
    "\n",
    "splits = x.split(4, dim=1)\n",
    "for s in splits:\n",
    "    print(s.size())\n",
    "    print(s)\n",
    "    "
   ]
  },
  {
   "cell_type": "markdown",
   "metadata": {},
   "source": [
    "10개니까 4개, 4개 나머지 2개로 자름"
   ]
  },
  {
   "cell_type": "code",
   "execution_count": null,
   "metadata": {},
   "outputs": [
    {
     "name": "stdout",
     "output_type": "stream",
     "text": [
      "tensor([[ 1,  2,  3,  4,  5,  6,  7,  8,  9, 10],\n",
      "        [11, 12, 13, 14, 15, 16, 17, 18, 19, 20],\n",
      "        [21, 22, 23, 24, 25, 26, 27, 28, 29, 30],\n",
      "        [31, 32, 33, 34, 35, 36, 37, 38, 39, 40]], dtype=torch.int32)\n",
      "<built-in method size of Tensor object at 0x000001E8A38719A0>\n",
      "tensor([[41, 42, 43, 44, 45, 46, 47, 48, 49, 50],\n",
      "        [51, 52, 53, 54, 55, 56, 57, 58, 59, 60],\n",
      "        [61, 62, 63, 64, 65, 66, 67, 68, 69, 70],\n",
      "        [71, 72, 73, 74, 75, 76, 77, 78, 79, 80]], dtype=torch.int32)\n",
      "<built-in method size of Tensor object at 0x000001E8A3870C80>\n",
      "tensor([[ 81,  82,  83,  84,  85,  86,  87,  88,  89,  90],\n",
      "        [ 91,  92,  93,  94,  95,  96,  97,  98,  99, 100]], dtype=torch.int32)\n",
      "<built-in method size of Tensor object at 0x000001E8AB6D5720>\n"
     ]
    }
   ],
   "source": [
    "chunks = x.chunk(3, dim=0) #블럭이 3개라는 뜻\n",
    "for c in chunks:\n",
    "    print(c)\n",
    "    print(c.size)"
   ]
  },
  {
   "cell_type": "code",
   "execution_count": 94,
   "metadata": {},
   "outputs": [
    {
     "name": "stdout",
     "output_type": "stream",
     "text": [
      "tensor([[[ 1,  2,  3],\n",
      "         [ 4,  5,  6],\n",
      "         [ 7,  8,  9]],\n",
      "\n",
      "        [[10, 11, 12],\n",
      "         [13, 14, 15],\n",
      "         [16, 17, 18]]], dtype=torch.int32)\n",
      "tensor([[[ 3,  1],\n",
      "         [ 6,  4],\n",
      "         [ 9,  7]],\n",
      "\n",
      "        [[12, 10],\n",
      "         [15, 13],\n",
      "         [18, 16]]], dtype=torch.int32)\n"
     ]
    }
   ],
   "source": [
    "x = np.arange(1, 19).reshape(2,3,3)\n",
    "x =torch.from_numpy(x)\n",
    "print(x)\n",
    "indice = torch.LongTensor([2,0])\n",
    "y = x.index_select(dim=-1, index=indice)\n",
    "\n",
    "print(y)"
   ]
  },
  {
   "cell_type": "code",
   "execution_count": 100,
   "metadata": {},
   "outputs": [
    {
     "name": "stdout",
     "output_type": "stream",
     "text": [
      "tensor([[1, 2, 3],\n",
      "        [4, 5, 6]], dtype=torch.int32)\n",
      "tensor([[ 7,  8,  9],\n",
      "        [10, 11, 12]], dtype=torch.int32)\n",
      "tensor([[[ 1,  2,  3],\n",
      "         [ 4,  5,  6]],\n",
      "\n",
      "        [[ 7,  8,  9],\n",
      "         [10, 11, 12]]], dtype=torch.int32)\n"
     ]
    }
   ],
   "source": [
    "a = np.arange(1, 7).reshape(2,3)\n",
    "a = torch.from_numpy(a)\n",
    "print(a)\n",
    "\n",
    "b = np.arange(7, 13).reshape(2,3)\n",
    "b = torch.from_numpy(b)\n",
    "print(b)\n",
    "\n",
    "c = torch.stack([a, b])\n",
    "print(c)"
   ]
  },
  {
   "cell_type": "code",
   "execution_count": 101,
   "metadata": {},
   "outputs": [
    {
     "name": "stdout",
     "output_type": "stream",
     "text": [
      "tensor([[[ 1,  7],\n",
      "         [ 2,  8],\n",
      "         [ 3,  9]],\n",
      "\n",
      "        [[ 4, 10],\n",
      "         [ 5, 11],\n",
      "         [ 6, 12]]], dtype=torch.int32)\n"
     ]
    }
   ],
   "source": [
    "d = torch.stack([a,b], dim = -1)\n",
    "print(d)"
   ]
  },
  {
   "cell_type": "code",
   "execution_count": 103,
   "metadata": {},
   "outputs": [
    {
     "name": "stdout",
     "output_type": "stream",
     "text": [
      "tensor([[ 1,  2,  3],\n",
      "        [ 4,  5,  6],\n",
      "        [ 7,  8,  9],\n",
      "        [10, 11, 12]], dtype=torch.int32)\n"
     ]
    }
   ],
   "source": [
    "e = torch.cat([a, b])\n",
    "print(e)"
   ]
  },
  {
   "cell_type": "code",
   "execution_count": 113,
   "metadata": {},
   "outputs": [
    {
     "name": "stdout",
     "output_type": "stream",
     "text": [
      "tensor([[[1, 2, 3]],\n",
      "\n",
      "        [[4, 5, 6]]], dtype=torch.int32)\n",
      "tensor([[[1, 2, 3],\n",
      "         [1, 2, 3],\n",
      "         [1, 2, 3]],\n",
      "\n",
      "        [[4, 5, 6],\n",
      "         [4, 5, 6],\n",
      "         [4, 5, 6]]], dtype=torch.int32)\n",
      "tensor([[[1, 2, 3],\n",
      "         [1, 2, 3],\n",
      "         [1, 2, 3]],\n",
      "\n",
      "        [[4, 5, 6],\n",
      "         [4, 5, 6],\n",
      "         [4, 5, 6]]], dtype=torch.int32)\n"
     ]
    }
   ],
   "source": [
    "a1 = a.view(2, 1, 3)\n",
    "print(a1)\n",
    "a2 = a1.expand(2, 3, 3)\n",
    "print(a2)\n",
    "\n",
    "print(torch.cat([a1]*3, dim=1))"
   ]
  },
  {
   "cell_type": "code",
   "execution_count": 114,
   "metadata": {},
   "outputs": [
    {
     "name": "stdout",
     "output_type": "stream",
     "text": [
      "tensor([26, 53, 58, 10, 81, 84, 37, 13, 99, 75, 36, 33, 59, 23, 91, 93, 12, 39,\n",
      "         9, 78, 64, 62, 34, 41, 22, 98, 55, 76, 86,  7, 20, 96, 67, 70, 71, 42,\n",
      "        44,  8, 50, 30, 51,  6, 11, 56, 28,  5, 16, 48, 24, 18,  3, 52, 14, 88,\n",
      "        83, 45, 89, 97, 54, 38, 90, 80, 27, 60, 66, 63,  2, 35, 47, 74, 21, 68,\n",
      "        43, 95, 72, 73,  4, 29, 87, 92,  0, 65, 31, 17, 82, 79, 94, 25,  1, 85,\n",
      "        49, 57, 69, 61, 19, 77, 32, 40, 15, 46])\n"
     ]
    }
   ],
   "source": [
    "x=torch.randperm(100)\n",
    "print(x)"
   ]
  },
  {
   "cell_type": "code",
   "execution_count": 116,
   "metadata": {},
   "outputs": [
    {
     "name": "stdout",
     "output_type": "stream",
     "text": [
      "tensor([[[12, 14, 18],\n",
      "         [23,  5, 13],\n",
      "         [19, 10, 24]],\n",
      "\n",
      "        [[25,  7,  0],\n",
      "         [17,  8, 16],\n",
      "         [21,  2,  1]],\n",
      "\n",
      "        [[15, 22, 11],\n",
      "         [ 6, 20, 26],\n",
      "         [ 3,  9,  4]]])\n"
     ]
    }
   ],
   "source": [
    "x= torch.randperm(3**3).reshape(3,3,-1)\n",
    "print(x)"
   ]
  }
 ],
 "metadata": {
  "kernelspec": {
   "display_name": "base",
   "language": "python",
   "name": "python3"
  },
  "language_info": {
   "codemirror_mode": {
    "name": "ipython",
    "version": 3
   },
   "file_extension": ".py",
   "mimetype": "text/x-python",
   "name": "python",
   "nbconvert_exporter": "python",
   "pygments_lexer": "ipython3",
   "version": "3.12.7"
  }
 },
 "nbformat": 4,
 "nbformat_minor": 2
}
